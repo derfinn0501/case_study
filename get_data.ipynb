{
 "cells": [
  {
   "cell_type": "code",
   "execution_count": 69,
   "id": "70a2d261-0468-46b4-9f3a-3d9c5693c89e",
   "metadata": {},
   "outputs": [],
   "source": [
    "import pandas as pd\n",
    "import os\n",
    "\n",
    "#set file path\n",
    "project_env = r\"C:\\Users\\Finn Kopmann\\Dokumente\\Beruf und Finanzen\\Fortbildung\\data engineer\\projects\\case_study\"\n",
    "\n",
    "# Full path to the CSV files\n",
    "file_path_crm = os.path.join(project_env, r\"data\\crm_data.csv\")\n",
    "file_path_web_tracking = os.path.join(project_env, r\"data\\web_tracking.csv\")\n",
    "\n",
    "# Load the CSV files\n",
    "crm_df = pd.read_csv(file_path_crm)\n",
    "web_tracking_df = pd.read_csv(file_path_web_tracking)"
   ]
  },
  {
   "cell_type": "code",
   "execution_count": 70,
   "id": "62602ba1-0a20-471e-8105-b033da3a01a8",
   "metadata": {},
   "outputs": [
    {
     "data": {
      "text/html": [
       "<div>\n",
       "<style scoped>\n",
       "    .dataframe tbody tr th:only-of-type {\n",
       "        vertical-align: middle;\n",
       "    }\n",
       "\n",
       "    .dataframe tbody tr th {\n",
       "        vertical-align: top;\n",
       "    }\n",
       "\n",
       "    .dataframe thead th {\n",
       "        text-align: right;\n",
       "    }\n",
       "</style>\n",
       "<table border=\"1\" class=\"dataframe\">\n",
       "  <thead>\n",
       "    <tr style=\"text-align: right;\">\n",
       "      <th></th>\n",
       "      <th>user_id</th>\n",
       "      <th>lead_status</th>\n",
       "      <th>company</th>\n",
       "      <th>sign_up_date</th>\n",
       "      <th>industry</th>\n",
       "      <th>country</th>\n",
       "    </tr>\n",
       "  </thead>\n",
       "  <tbody>\n",
       "    <tr>\n",
       "      <th>0</th>\n",
       "      <td>137</td>\n",
       "      <td>Converted</td>\n",
       "      <td>Company_0</td>\n",
       "      <td>2024-03-09</td>\n",
       "      <td>Healthcare</td>\n",
       "      <td>US</td>\n",
       "    </tr>\n",
       "    <tr>\n",
       "      <th>1</th>\n",
       "      <td>163</td>\n",
       "      <td>Converted</td>\n",
       "      <td>Company_1</td>\n",
       "      <td>2024-03-01</td>\n",
       "      <td>Finance</td>\n",
       "      <td>UK</td>\n",
       "    </tr>\n",
       "    <tr>\n",
       "      <th>2</th>\n",
       "      <td>103</td>\n",
       "      <td>Prospect</td>\n",
       "      <td>Company_2</td>\n",
       "      <td>2024-03-02</td>\n",
       "      <td>Healthcare</td>\n",
       "      <td>France</td>\n",
       "    </tr>\n",
       "    <tr>\n",
       "      <th>3</th>\n",
       "      <td>163</td>\n",
       "      <td>Lost</td>\n",
       "      <td>Company_3</td>\n",
       "      <td>2024-03-01</td>\n",
       "      <td>SaaS</td>\n",
       "      <td>US</td>\n",
       "    </tr>\n",
       "    <tr>\n",
       "      <th>4</th>\n",
       "      <td>171</td>\n",
       "      <td>Lost</td>\n",
       "      <td>Company_4</td>\n",
       "      <td>2024-03-07</td>\n",
       "      <td>Healthcare</td>\n",
       "      <td>Germany</td>\n",
       "    </tr>\n",
       "  </tbody>\n",
       "</table>\n",
       "</div>"
      ],
      "text/plain": [
       "   user_id lead_status    company sign_up_date    industry  country\n",
       "0      137   Converted  Company_0   2024-03-09  Healthcare       US\n",
       "1      163   Converted  Company_1   2024-03-01     Finance       UK\n",
       "2      103    Prospect  Company_2   2024-03-02  Healthcare   France\n",
       "3      163        Lost  Company_3   2024-03-01        SaaS       US\n",
       "4      171        Lost  Company_4   2024-03-07  Healthcare  Germany"
      ]
     },
     "execution_count": 70,
     "metadata": {},
     "output_type": "execute_result"
    }
   ],
   "source": [
    "# Display the first few rows\n",
    "crm_df.head()"
   ]
  },
  {
   "cell_type": "code",
   "execution_count": 71,
   "id": "320ca46f-39ca-470b-b388-1ae979e1a970",
   "metadata": {},
   "outputs": [
    {
     "data": {
      "text/html": [
       "<div>\n",
       "<style scoped>\n",
       "    .dataframe tbody tr th:only-of-type {\n",
       "        vertical-align: middle;\n",
       "    }\n",
       "\n",
       "    .dataframe tbody tr th {\n",
       "        vertical-align: top;\n",
       "    }\n",
       "\n",
       "    .dataframe thead th {\n",
       "        text-align: right;\n",
       "    }\n",
       "</style>\n",
       "<table border=\"1\" class=\"dataframe\">\n",
       "  <thead>\n",
       "    <tr style=\"text-align: right;\">\n",
       "      <th></th>\n",
       "      <th>user_id</th>\n",
       "      <th>session_id</th>\n",
       "      <th>timestamp</th>\n",
       "      <th>page</th>\n",
       "      <th>time_spent_sec</th>\n",
       "      <th>utm_source</th>\n",
       "      <th>utm_medium</th>\n",
       "      <th>device_type</th>\n",
       "    </tr>\n",
       "  </thead>\n",
       "  <tbody>\n",
       "    <tr>\n",
       "      <th>0</th>\n",
       "      <td>151</td>\n",
       "      <td>s000</td>\n",
       "      <td>2024-03-07 12:55:00</td>\n",
       "      <td>/pricing</td>\n",
       "      <td>54</td>\n",
       "      <td>newsletter</td>\n",
       "      <td>referral</td>\n",
       "      <td>mobile</td>\n",
       "    </tr>\n",
       "    <tr>\n",
       "      <th>1</th>\n",
       "      <td>192</td>\n",
       "      <td>s001</td>\n",
       "      <td>2024-03-05 14:21:00</td>\n",
       "      <td>/landing</td>\n",
       "      <td>71</td>\n",
       "      <td>linkedin</td>\n",
       "      <td>email</td>\n",
       "      <td>desktop</td>\n",
       "    </tr>\n",
       "    <tr>\n",
       "      <th>2</th>\n",
       "      <td>114</td>\n",
       "      <td>s002</td>\n",
       "      <td>2024-03-01 14:25:00</td>\n",
       "      <td>/contact</td>\n",
       "      <td>143</td>\n",
       "      <td>facebook</td>\n",
       "      <td>cpc</td>\n",
       "      <td>desktop</td>\n",
       "    </tr>\n",
       "    <tr>\n",
       "      <th>3</th>\n",
       "      <td>171</td>\n",
       "      <td>s003</td>\n",
       "      <td>2024-03-06 16:56:00</td>\n",
       "      <td>/contact</td>\n",
       "      <td>293</td>\n",
       "      <td>newsletter</td>\n",
       "      <td>email</td>\n",
       "      <td>desktop</td>\n",
       "    </tr>\n",
       "    <tr>\n",
       "      <th>4</th>\n",
       "      <td>160</td>\n",
       "      <td>s004</td>\n",
       "      <td>2024-03-01 21:41:00</td>\n",
       "      <td>/contact</td>\n",
       "      <td>37</td>\n",
       "      <td>linkedin</td>\n",
       "      <td>organic</td>\n",
       "      <td>tablet</td>\n",
       "    </tr>\n",
       "  </tbody>\n",
       "</table>\n",
       "</div>"
      ],
      "text/plain": [
       "   user_id session_id            timestamp      page  time_spent_sec  \\\n",
       "0      151       s000  2024-03-07 12:55:00  /pricing              54   \n",
       "1      192       s001  2024-03-05 14:21:00  /landing              71   \n",
       "2      114       s002  2024-03-01 14:25:00  /contact             143   \n",
       "3      171       s003  2024-03-06 16:56:00  /contact             293   \n",
       "4      160       s004  2024-03-01 21:41:00  /contact              37   \n",
       "\n",
       "   utm_source utm_medium device_type  \n",
       "0  newsletter   referral      mobile  \n",
       "1    linkedin      email     desktop  \n",
       "2    facebook        cpc     desktop  \n",
       "3  newsletter      email     desktop  \n",
       "4    linkedin    organic      tablet  "
      ]
     },
     "execution_count": 71,
     "metadata": {},
     "output_type": "execute_result"
    }
   ],
   "source": [
    "# Display the first few rows\n",
    "web_tracking_df.head()"
   ]
  },
  {
   "cell_type": "code",
   "execution_count": 96,
   "id": "13054514-dd36-4a68-b09e-dfef981d9e50",
   "metadata": {},
   "outputs": [
    {
     "data": {
      "text/plain": [
       "user_id\n",
       "101    [/contact, /features, /landing, /landing]\n",
       "102                         [/landing, /contact]\n",
       "103              [/features, /contact, /contact]\n",
       "105                                  [/features]\n",
       "106                                  [/features]\n",
       "                         ...                    \n",
       "190                                  [/features]\n",
       "191                         [/contact, /pricing]\n",
       "192                         [/landing, /landing]\n",
       "194                                  [/features]\n",
       "199                        [/landing, /features]\n",
       "Name: page, Length: 61, dtype: object"
      ]
     },
     "execution_count": 96,
     "metadata": {},
     "output_type": "execute_result"
    }
   ],
   "source": [
    "web_tracking_df.groupby('user_id').page.apply(list)"
   ]
  },
  {
   "cell_type": "code",
   "execution_count": 72,
   "id": "e02833ca-2244-4750-b836-38050cc11be0",
   "metadata": {},
   "outputs": [],
   "source": [
    "# Create Dimension Tables\n",
    "lead_status_dim = crm_df[['lead_status']].drop_duplicates().reset_index(drop=True)\n",
    "lead_status_dim['lead_status_id'] = lead_status_dim.index + 1\n"
   ]
  },
  {
   "cell_type": "code",
   "execution_count": 97,
   "id": "43b4f38e-0c80-467e-9d9a-ea47338cadfd",
   "metadata": {},
   "outputs": [
    {
     "ename": "SyntaxError",
     "evalue": "incomplete input (766641423.py, line 2)",
     "output_type": "error",
     "traceback": [
      "\u001b[1;36m  Cell \u001b[1;32mIn[97], line 2\u001b[1;36m\u001b[0m\n\u001b[1;33m    \u001b[0m\n\u001b[1;37m    ^\u001b[0m\n\u001b[1;31mSyntaxError\u001b[0m\u001b[1;31m:\u001b[0m incomplete input\n"
     ]
    }
   ],
   "source": []
  },
  {
   "cell_type": "code",
   "execution_count": 80,
   "id": "28beeea6-b90a-4101-abb0-8753da33f862",
   "metadata": {},
   "outputs": [],
   "source": [
    "company_dim = crm_df[['company']].drop_duplicates().reset_index(drop=True)\n",
    "company_dim['company_id'] = company_dim.index + 1"
   ]
  },
  {
   "cell_type": "code",
   "execution_count": 74,
   "id": "427474e9-d92a-432f-908e-8de739e13256",
   "metadata": {},
   "outputs": [],
   "source": [
    "industry_dim = crm_df[['industry']].drop_duplicates().reset_index(drop=True)\n",
    "industry_dim['industry_id'] = industry_dim.index + 1"
   ]
  },
  {
   "cell_type": "code",
   "execution_count": 75,
   "id": "29297c70-8290-4017-96ad-62f4a74a003f",
   "metadata": {},
   "outputs": [],
   "source": [
    "country_dim = crm_df[['country']].drop_duplicates().reset_index(drop=True)\n",
    "country_dim['country_id'] = country_dim.index + 1"
   ]
  },
  {
   "cell_type": "code",
   "execution_count": 93,
   "id": "dd922d5a-1120-4373-ba7d-7b069e1c3378",
   "metadata": {},
   "outputs": [],
   "source": [
    "# Sign-up time breakdown\n",
    "crm_df['sign_up_datetime'] = pd.to_datetime(crm_df['sign_up_date'])\n",
    "sign_up_time_dim = crm_df[['sign_up_datetime']].drop_duplicates().reset_index(drop=True)\n",
    "sign_up_time_dim['sign_up_time_id'] = sign_up_time_dim.index + 1\n",
    "sign_up_time_dim['sign_up_year'] = sign_up_time_dim['sign_up_datetime'].dt.year\n",
    "sign_up_time_dim['sign_up_month'] = sign_up_time_dim['sign_up_datetime'].dt.month\n",
    "sign_up_time_dim['sign_up_week'] = sign_up_time_dim['sign_up_datetime'].dt.isocalendar().week\n",
    "sign_up_time_dim['sign_up_weekday'] = sign_up_time_dim['sign_up_datetime'].dt.weekday"
   ]
  },
  {
   "cell_type": "code",
   "execution_count": 92,
   "id": "09862fd1-c97c-4e44-a695-c5cd2d34e665",
   "metadata": {},
   "outputs": [],
   "source": [
    "# User Dimension Table\n",
    "user_dim = crm_df.merge(company_dim, on=\"company\")\\\n",
    ".merge(industry_dim, on=\"industry\")\\\n",
    ".merge(country_dim, on=\"country\")\\\n",
    ".merge(sign_up_time_dim, on=\"sign_up_datetime\")\\\n",
    ".merge(lead_status_dim, on=\"lead_status\")\\\n",
    "[[\"user_id\",\"lead_status_id\", \"industry_id\", \"company_id\", \"country_id\", \"sign_up_time_id\"]].drop_duplicates(subset='user_id')"
   ]
  },
  {
   "cell_type": "code",
   "execution_count": 85,
   "id": "fbb2aa75-1699-46fd-ac57-861806f256ed",
   "metadata": {},
   "outputs": [],
   "source": [
    "# Prepare Session Data Dimensions\n",
    "web_tracking_df[\"timestamp_datetime\"] = pd.to_datetime(web_tracking_df['timestamp'])\n",
    "datetime_dim = web_tracking_df[['timestamp_datetime']].drop_duplicates().reset_index(drop=True)\n",
    "datetime_dim['datetime_id'] = datetime_dim.index + 1\n",
    "datetime_dim['year'] = datetime_dim['timestamp_datetime'].dt.year\n",
    "datetime_dim['month'] = datetime_dim['timestamp_datetime'].dt.month\n",
    "datetime_dim['week'] = datetime_dim['timestamp_datetime'].dt.isocalendar().week\n",
    "datetime_dim['weekday'] = datetime_dim['timestamp_datetime'].dt.weekday"
   ]
  },
  {
   "cell_type": "code",
   "execution_count": 86,
   "id": "b9317ece-4b3e-444c-9fbd-a63f243b6257",
   "metadata": {},
   "outputs": [],
   "source": [
    "page_dim = web_tracking_df[['page']].drop_duplicates().reset_index(drop=True)\n",
    "page_dim['page_id'] = page_dim.index + 1"
   ]
  },
  {
   "cell_type": "code",
   "execution_count": 87,
   "id": "478b6bc8-1732-4944-8023-f8a1d8e2ad3e",
   "metadata": {},
   "outputs": [],
   "source": [
    "utm_source_dim = web_tracking_df[['utm_source']].drop_duplicates().reset_index(drop=True)\n",
    "utm_source_dim['utm_source_id'] = utm_source_dim.index + 1"
   ]
  },
  {
   "cell_type": "code",
   "execution_count": 88,
   "id": "3b4b7acc-80b5-440f-bac7-c4081fbaafbf",
   "metadata": {},
   "outputs": [],
   "source": [
    "utm_medium_dim = web_tracking_df[['utm_medium']].drop_duplicates().reset_index(drop=True)\n",
    "utm_medium_dim['utm_medium_id'] = utm_medium_dim.index + 1"
   ]
  },
  {
   "cell_type": "code",
   "execution_count": 89,
   "id": "85fb96a0-b7f2-49ac-98a0-db9a309cb34a",
   "metadata": {},
   "outputs": [],
   "source": [
    "device_type_dim = web_tracking_df[['device_type']].drop_duplicates().reset_index(drop=True)\n",
    "device_type_dim['device_type_id'] = device_type_dim.index + 1"
   ]
  },
  {
   "cell_type": "code",
   "execution_count": 91,
   "id": "f04d900f-80c7-4a13-a071-5f88cbd7c899",
   "metadata": {},
   "outputs": [],
   "source": [
    "# Fact Table\n",
    "fact_table = web_tracking_df.merge(user_dim, on=\"user_id\")\\\n",
    ".merge(datetime_dim, on=\"timestamp_datetime\")\\\n",
    ".merge(page_dim, on=\"page\")\\\n",
    ".merge(utm_source_dim, on=\"utm_source\")\\\n",
    ".merge(utm_medium_dim, on=\"utm_medium\")\\\n",
    ".merge(device_type_dim, on=\"device_type\")\\\n",
    "[['session_id', 'user_id', 'datetime_id', 'page_id', 'utm_source_id', 'utm_medium_id', 'device_type_id', 'time_spent_sec']]"
   ]
  },
  {
   "cell_type": "code",
   "execution_count": null,
   "id": "f8033601-6611-46bc-a62b-8a8234aac3ab",
   "metadata": {},
   "outputs": [],
   "source": []
  }
 ],
 "metadata": {
  "kernelspec": {
   "display_name": "Python 3 (ipykernel)",
   "language": "python",
   "name": "python3"
  },
  "language_info": {
   "codemirror_mode": {
    "name": "ipython",
    "version": 3
   },
   "file_extension": ".py",
   "mimetype": "text/x-python",
   "name": "python",
   "nbconvert_exporter": "python",
   "pygments_lexer": "ipython3",
   "version": "3.12.7"
  }
 },
 "nbformat": 4,
 "nbformat_minor": 5
}
