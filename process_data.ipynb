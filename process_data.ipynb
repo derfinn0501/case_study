{
 "cells": [
  {
   "cell_type": "markdown",
   "id": "73b1ebaa",
   "metadata": {},
   "source": [
    "# Imports and reading data"
   ]
  },
  {
   "cell_type": "code",
   "execution_count": 184,
   "id": "70a2d261-0468-46b4-9f3a-3d9c5693c89e",
   "metadata": {},
   "outputs": [],
   "source": [
    "import os\n",
    "import pandas as pd\n",
    "from ydata_profiling import ProfileReport\n",
    "import matplotlib.pyplot as plt\n",
    "\n",
    "DATA_FOLDER = \"data\"\n",
    "PLOT_FOLDER = \"plots\"\n",
    "CRM_PATH = os.path.join(DATA_FOLDER, \"crm_data.csv\")\n",
    "WEB_TRACKING_PATH = os.path.join(DATA_FOLDER, \"web_tracking.csv\")"
   ]
  },
  {
   "cell_type": "code",
   "execution_count": 185,
   "id": "062923e2-b244-418e-af93-6ed98da4fea7",
   "metadata": {},
   "outputs": [],
   "source": [
    "os.mkdir(PLOT_FOLDER)"
   ]
  },
  {
   "cell_type": "code",
   "execution_count": 116,
   "id": "b4233e6f",
   "metadata": {},
   "outputs": [],
   "source": [
    "crm_df = pd.read_csv(CRM_PATH)\n",
    "web_tracking_df = pd.read_csv(WEB_TRACKING_PATH)"
   ]
  },
  {
   "cell_type": "markdown",
   "id": "a6b4ce78",
   "metadata": {},
   "source": [
    "# EDA + Data validation"
   ]
  },
  {
   "cell_type": "code",
   "execution_count": 117,
   "id": "5739d314",
   "metadata": {},
   "outputs": [
    {
     "data": {
      "text/html": [
       "<div>\n",
       "<style scoped>\n",
       "    .dataframe tbody tr th:only-of-type {\n",
       "        vertical-align: middle;\n",
       "    }\n",
       "\n",
       "    .dataframe tbody tr th {\n",
       "        vertical-align: top;\n",
       "    }\n",
       "\n",
       "    .dataframe thead th {\n",
       "        text-align: right;\n",
       "    }\n",
       "</style>\n",
       "<table border=\"1\" class=\"dataframe\">\n",
       "  <thead>\n",
       "    <tr style=\"text-align: right;\">\n",
       "      <th></th>\n",
       "      <th>user_id</th>\n",
       "      <th>lead_status</th>\n",
       "      <th>company</th>\n",
       "      <th>sign_up_date</th>\n",
       "      <th>industry</th>\n",
       "      <th>country</th>\n",
       "    </tr>\n",
       "  </thead>\n",
       "  <tbody>\n",
       "    <tr>\n",
       "      <th>0</th>\n",
       "      <td>137</td>\n",
       "      <td>Converted</td>\n",
       "      <td>Company_0</td>\n",
       "      <td>2024-03-09</td>\n",
       "      <td>Healthcare</td>\n",
       "      <td>US</td>\n",
       "    </tr>\n",
       "    <tr>\n",
       "      <th>1</th>\n",
       "      <td>163</td>\n",
       "      <td>Converted</td>\n",
       "      <td>Company_1</td>\n",
       "      <td>2024-03-01</td>\n",
       "      <td>Finance</td>\n",
       "      <td>UK</td>\n",
       "    </tr>\n",
       "    <tr>\n",
       "      <th>2</th>\n",
       "      <td>103</td>\n",
       "      <td>Prospect</td>\n",
       "      <td>Company_2</td>\n",
       "      <td>2024-03-02</td>\n",
       "      <td>Healthcare</td>\n",
       "      <td>France</td>\n",
       "    </tr>\n",
       "    <tr>\n",
       "      <th>3</th>\n",
       "      <td>163</td>\n",
       "      <td>Lost</td>\n",
       "      <td>Company_3</td>\n",
       "      <td>2024-03-01</td>\n",
       "      <td>SaaS</td>\n",
       "      <td>US</td>\n",
       "    </tr>\n",
       "    <tr>\n",
       "      <th>4</th>\n",
       "      <td>171</td>\n",
       "      <td>Lost</td>\n",
       "      <td>Company_4</td>\n",
       "      <td>2024-03-07</td>\n",
       "      <td>Healthcare</td>\n",
       "      <td>Germany</td>\n",
       "    </tr>\n",
       "  </tbody>\n",
       "</table>\n",
       "</div>"
      ],
      "text/plain": [
       "   user_id lead_status    company sign_up_date    industry  country\n",
       "0      137   Converted  Company_0   2024-03-09  Healthcare       US\n",
       "1      163   Converted  Company_1   2024-03-01     Finance       UK\n",
       "2      103    Prospect  Company_2   2024-03-02  Healthcare   France\n",
       "3      163        Lost  Company_3   2024-03-01        SaaS       US\n",
       "4      171        Lost  Company_4   2024-03-07  Healthcare  Germany"
      ]
     },
     "execution_count": 117,
     "metadata": {},
     "output_type": "execute_result"
    }
   ],
   "source": [
    "crm_df.head()"
   ]
  },
  {
   "cell_type": "code",
   "execution_count": 118,
   "id": "00b245aa",
   "metadata": {},
   "outputs": [
    {
     "name": "stdout",
     "output_type": "stream",
     "text": [
      "<class 'pandas.core.frame.DataFrame'>\n",
      "RangeIndex: 60 entries, 0 to 59\n",
      "Data columns (total 6 columns):\n",
      " #   Column        Non-Null Count  Dtype \n",
      "---  ------        --------------  ----- \n",
      " 0   user_id       60 non-null     int64 \n",
      " 1   lead_status   60 non-null     object\n",
      " 2   company       60 non-null     object\n",
      " 3   sign_up_date  60 non-null     object\n",
      " 4   industry      60 non-null     object\n",
      " 5   country       60 non-null     object\n",
      "dtypes: int64(1), object(5)\n",
      "memory usage: 2.9+ KB\n"
     ]
    }
   ],
   "source": [
    "crm_df.info()"
   ]
  },
  {
   "cell_type": "code",
   "execution_count": 119,
   "id": "7441e2fb-6f9d-4e1d-8dcf-70641764e45f",
   "metadata": {},
   "outputs": [
    {
     "data": {
      "text/plain": [
       "user_id         0\n",
       "lead_status     0\n",
       "company         0\n",
       "sign_up_date    0\n",
       "industry        0\n",
       "country         0\n",
       "dtype: int64"
      ]
     },
     "execution_count": 119,
     "metadata": {},
     "output_type": "execute_result"
    }
   ],
   "source": [
    "crm_df.isna().sum()"
   ]
  },
  {
   "cell_type": "code",
   "execution_count": 120,
   "id": "e92cc38f",
   "metadata": {},
   "outputs": [
    {
     "data": {
      "text/plain": [
       "user_id         47\n",
       "lead_status      3\n",
       "company         60\n",
       "sign_up_date    11\n",
       "industry         4\n",
       "country          4\n",
       "dtype: int64"
      ]
     },
     "execution_count": 120,
     "metadata": {},
     "output_type": "execute_result"
    }
   ],
   "source": [
    "crm_df.nunique()"
   ]
  },
  {
   "cell_type": "markdown",
   "id": "a9103c37-6ed6-4676-b584-44c6e904c832",
   "metadata": {},
   "source": [
    "**Warning:** user_id is not unique"
   ]
  },
  {
   "cell_type": "code",
   "execution_count": 121,
   "id": "7f60f936-a19b-4ccf-9f12-73cb05febcc3",
   "metadata": {},
   "outputs": [],
   "source": [
    "crm_df[\"sign_up_date\"] = pd.to_datetime(crm_df[\"sign_up_date\"])"
   ]
  },
  {
   "cell_type": "code",
   "execution_count": 122,
   "id": "d1a50ebd-1b2d-4ab3-a56f-5e9290f3b9b2",
   "metadata": {},
   "outputs": [],
   "source": [
    "crm_df.sort_values(\"sign_up_date\", inplace=True)"
   ]
  },
  {
   "cell_type": "code",
   "execution_count": 123,
   "id": "2ecd7707",
   "metadata": {},
   "outputs": [],
   "source": [
    "crm_df.drop_duplicates(subset='user_id', keep=\"last\", inplace=True)"
   ]
  },
  {
   "cell_type": "code",
   "execution_count": 124,
   "id": "0b10fbbe",
   "metadata": {},
   "outputs": [
    {
     "data": {
      "text/plain": [
       "count                               47\n",
       "mean     2024-03-06 07:39:34.468084992\n",
       "min                2024-03-01 00:00:00\n",
       "25%                2024-03-03 00:00:00\n",
       "50%                2024-03-07 00:00:00\n",
       "75%                2024-03-09 12:00:00\n",
       "max                2024-03-11 00:00:00\n",
       "Name: sign_up_date, dtype: object"
      ]
     },
     "execution_count": 124,
     "metadata": {},
     "output_type": "execute_result"
    }
   ],
   "source": [
    "crm_df[\"sign_up_date\"].describe()"
   ]
  },
  {
   "cell_type": "code",
   "execution_count": 125,
   "id": "a2464795",
   "metadata": {},
   "outputs": [
    {
     "data": {
      "text/html": [
       "<div>\n",
       "<style scoped>\n",
       "    .dataframe tbody tr th:only-of-type {\n",
       "        vertical-align: middle;\n",
       "    }\n",
       "\n",
       "    .dataframe tbody tr th {\n",
       "        vertical-align: top;\n",
       "    }\n",
       "\n",
       "    .dataframe thead th {\n",
       "        text-align: right;\n",
       "    }\n",
       "</style>\n",
       "<table border=\"1\" class=\"dataframe\">\n",
       "  <thead>\n",
       "    <tr style=\"text-align: right;\">\n",
       "      <th></th>\n",
       "      <th>user_id</th>\n",
       "      <th>lead_status</th>\n",
       "      <th>company</th>\n",
       "      <th>sign_up_date</th>\n",
       "      <th>industry</th>\n",
       "      <th>country</th>\n",
       "    </tr>\n",
       "  </thead>\n",
       "  <tbody>\n",
       "  </tbody>\n",
       "</table>\n",
       "</div>"
      ],
      "text/plain": [
       "Empty DataFrame\n",
       "Columns: [user_id, lead_status, company, sign_up_date, industry, country]\n",
       "Index: []"
      ]
     },
     "execution_count": 125,
     "metadata": {},
     "output_type": "execute_result"
    }
   ],
   "source": [
    "crm_df[crm_df.user_id.duplicated()] "
   ]
  },
  {
   "cell_type": "code",
   "execution_count": 203,
   "id": "86ebf7c7-5771-4d88-9a27-ec78025eece1",
   "metadata": {},
   "outputs": [
    {
     "name": "stdout",
     "output_type": "stream",
     "text": [
      "Conversion Rate = 0.425531914893617\n"
     ]
    }
   ],
   "source": [
    "print(f'Conversion Rate = {(crm_df[\"lead_status\"] == \"Converted\").sum() / len(crm_df)}')"
   ]
  },
  {
   "cell_type": "code",
   "execution_count": 221,
   "id": "b4ae626b-4435-433e-9032-07f87e7f25f4",
   "metadata": {},
   "outputs": [],
   "source": [
    "def plot_column_distribution(df, col_name, output_path=None):\n",
    "    counts = df[col_name].value_counts()\n",
    "    print(counts)\n",
    "\n",
    "    fig, ax = plt.subplots()\n",
    "    counts.plot(kind=\"bar\", ax=ax)\n",
    "\n",
    "    ax.set_xlabel(col_name)\n",
    "    ax.set_ylabel(\"Count\")\n",
    "    ax.set_title(f\"Distribution of {col_name}\")\n",
    "\n",
    "    ax.grid(axis=\"y\", linestyle=\"--\")\n",
    "\n",
    "    plt.tight_layout()\n",
    "\n",
    "    if output_path:\n",
    "        plt.savefig(os.path.join(PLOT_FOLDER, output_path), format=\"png\")\n",
    "        plt.close()\n",
    "\n",
    "    return ax"
   ]
  },
  {
   "cell_type": "code",
   "execution_count": 205,
   "id": "12a7fbc7-c0fa-48f1-9971-9075a4034f9f",
   "metadata": {},
   "outputs": [
    {
     "name": "stdout",
     "output_type": "stream",
     "text": [
      "lead_status\n",
      "Converted    20\n",
      "Lost         15\n",
      "Prospect     12\n",
      "Name: count, dtype: int64\n"
     ]
    },
    {
     "data": {
      "text/plain": [
       "<Axes: title={'center': 'Distribution of lead_status'}, xlabel='lead_status', ylabel='Count'>"
      ]
     },
     "execution_count": 205,
     "metadata": {},
     "output_type": "execute_result"
    }
   ],
   "source": [
    "plot_column_distribution(crm_df, \"lead_status\", \"lead_status_distribution.png\")"
   ]
  },
  {
   "cell_type": "code",
   "execution_count": 206,
   "id": "555f24d6",
   "metadata": {
    "scrolled": true
   },
   "outputs": [
    {
     "name": "stdout",
     "output_type": "stream",
     "text": [
      "industry\n",
      "Finance       15\n",
      "E-commerce    14\n",
      "SaaS          12\n",
      "Healthcare     6\n",
      "Name: count, dtype: int64\n"
     ]
    },
    {
     "data": {
      "text/plain": [
       "<Axes: title={'center': 'Distribution of industry'}, xlabel='industry', ylabel='Count'>"
      ]
     },
     "execution_count": 206,
     "metadata": {},
     "output_type": "execute_result"
    }
   ],
   "source": [
    "plot_column_distribution(crm_df, \"industry\", \"industry_distribution.png\")"
   ]
  },
  {
   "cell_type": "code",
   "execution_count": 207,
   "id": "2c97cc19",
   "metadata": {},
   "outputs": [
    {
     "name": "stdout",
     "output_type": "stream",
     "text": [
      "country\n",
      "US         23\n",
      "UK         11\n",
      "Germany    10\n",
      "France      3\n",
      "Name: count, dtype: int64\n"
     ]
    },
    {
     "data": {
      "text/plain": [
       "<Axes: title={'center': 'Distribution of country'}, xlabel='country', ylabel='Count'>"
      ]
     },
     "execution_count": 207,
     "metadata": {},
     "output_type": "execute_result"
    }
   ],
   "source": [
    "plot_column_distribution(crm_df, \"country\", \"country_distribution.png\")"
   ]
  },
  {
   "cell_type": "markdown",
   "id": "1e176666-7b03-4c45-a64b-1d361c81af64",
   "metadata": {},
   "source": [
    "- There are three options for lead_status: (\"converted\", \"lost\", \"prospect\")\n",
    "- lead_status = \"converted\" is the most likely to appear with 25 incides (42%)\n",
    "- The largest groups of web activity:\n",
    "    - Industry: Finance (22)\n",
    "    - Country: US (27)\n",
    "- The smallest groups of web activity:\n",
    "    - Industry: Healthcare (9)\n",
    "    - Country: France (7) "
   ]
  },
  {
   "cell_type": "code",
   "execution_count": 131,
   "id": "d6847c4d",
   "metadata": {},
   "outputs": [],
   "source": [
    "def get_conversion_rate(values, prospects = True):\n",
    "    num_converted = values[values == \"Converted\"].shape[0]\n",
    "    if prospects:\n",
    "        total = values.shape[0]\n",
    "    else:\n",
    "        total = values[values != \"Prospect\"].shape[0]\n",
    "    percentage = num_converted / total * 100\n",
    "    return percentage"
   ]
  },
  {
   "cell_type": "code",
   "execution_count": 192,
   "id": "8d89e344-bbc8-41b6-8201-672176a7884a",
   "metadata": {},
   "outputs": [],
   "source": [
    "def plot_conversion_rate_by_column(df, col_name, prospects=True, output_path=None):\n",
    "    conv_rate = df.groupby(col_name)[\"lead_status\"].apply(lambda x: get_conversion_rate(x, prospects))\n",
    "    sorted_conv_rates = conv_rate.sort_values(ascending=False)\n",
    "    print(sorted_conv_rates)\n",
    "\n",
    "    ax = sorted_conv_rates.plot(kind=\"bar\")\n",
    "    ax.set_xlabel(col_name)\n",
    "    ax.set_ylabel(\"Conversion Rate\")\n",
    "    ax.set_title(f\"Conversion Rate by {col_name}\")\n",
    "    ax.grid(axis=\"y\", linestyle=\"--\")\n",
    "\n",
    "    plt.tight_layout()\n",
    "\n",
    "    if output_path:\n",
    "        plt.savefig(os.path.join(PLOT_FOLDER, output_path), format=\"png\")\n",
    "        plt.close()\n",
    "    \n",
    "    return ax"
   ]
  },
  {
   "cell_type": "code",
   "execution_count": 191,
   "id": "95bdc66f",
   "metadata": {
    "scrolled": true
   },
   "outputs": [
    {
     "name": "stdout",
     "output_type": "stream",
     "text": [
      "country\n",
      "US         56.521739\n",
      "UK         36.363636\n",
      "France     33.333333\n",
      "Germany    20.000000\n",
      "Name: lead_status, dtype: float64\n",
      "save\n"
     ]
    },
    {
     "data": {
      "text/plain": [
       "<Axes: title={'center': 'Conversion Rate by country'}, xlabel='country', ylabel='Conversion Rate'>"
      ]
     },
     "execution_count": 191,
     "metadata": {},
     "output_type": "execute_result"
    }
   ],
   "source": [
    "plot_conversion_rate_by_column(crm_df, \"country\", output_path=\"conversion_rate_by_country.png\")"
   ]
  },
  {
   "cell_type": "code",
   "execution_count": 198,
   "id": "310011bc-bfa2-4542-a914-b59ba839de65",
   "metadata": {},
   "outputs": [
    {
     "name": "stdout",
     "output_type": "stream",
     "text": [
      "industry\n",
      "Healthcare    83.333333\n",
      "SaaS          41.666667\n",
      "E-commerce    35.714286\n",
      "Finance       33.333333\n",
      "Name: lead_status, dtype: float64\n"
     ]
    },
    {
     "data": {
      "text/plain": [
       "<Axes: title={'center': 'Conversion Rate by industry'}, xlabel='industry', ylabel='Conversion Rate'>"
      ]
     },
     "execution_count": 198,
     "metadata": {},
     "output_type": "execute_result"
    }
   ],
   "source": [
    "plot_conversion_rate_by_column(crm_df, \"industry\", output_path=\"conversion_rate_by_industry.png\")"
   ]
  },
  {
   "cell_type": "markdown",
   "id": "84e79784-a1bc-4b78-8aea-00e34d724c03",
   "metadata": {},
   "source": [
    "- The US has highest conversion rate (59%) in contrast to France with the lowest (14%)\n",
    "- Healthcare has highest conversion rate (55%) in contrast to E-commerce (36%)\n",
    "- **NOTE:** This conversion rate calculation also includes lead_status = \"prospects\""
   ]
  },
  {
   "cell_type": "code",
   "execution_count": 199,
   "id": "2016579c-707f-4294-8bed-c10bb3a64365",
   "metadata": {},
   "outputs": [
    {
     "name": "stdout",
     "output_type": "stream",
     "text": [
      "industry\n",
      "Healthcare    83.333333\n",
      "SaaS          62.500000\n",
      "E-commerce    50.000000\n",
      "Finance       45.454545\n",
      "Name: lead_status, dtype: float64\n"
     ]
    },
    {
     "data": {
      "text/plain": [
       "<Axes: title={'center': 'Conversion Rate by industry'}, xlabel='industry', ylabel='Conversion Rate'>"
      ]
     },
     "execution_count": 199,
     "metadata": {},
     "output_type": "execute_result"
    }
   ],
   "source": [
    "plot_conversion_rate_by_column(crm_df, \"industry\", False, \"conversion_rate_by_industry_no_prospects.png\")"
   ]
  },
  {
   "cell_type": "code",
   "execution_count": 196,
   "id": "1b92c277-ea33-4083-bc88-5f4a28ba294a",
   "metadata": {},
   "outputs": [
    {
     "name": "stdout",
     "output_type": "stream",
     "text": [
      "country\n",
      "US         68.421053\n",
      "UK         57.142857\n",
      "France     33.333333\n",
      "Germany    33.333333\n",
      "Name: lead_status, dtype: float64\n"
     ]
    },
    {
     "data": {
      "text/plain": [
       "<Axes: title={'center': 'Conversion Rate by country'}, xlabel='country', ylabel='Conversion Rate'>"
      ]
     },
     "execution_count": 196,
     "metadata": {},
     "output_type": "execute_result"
    }
   ],
   "source": [
    "plot_conversion_rate_by_column(crm_df, \"country\",  False, \"conversion_rate_by_country_no_prospects.png\")"
   ]
  },
  {
   "cell_type": "markdown",
   "id": "63985c92-ffea-43a6-bf1d-d857b2ff7f23",
   "metadata": {},
   "source": [
    "- findings change drastically by not including lead_status = \"Prospect\"\n",
    "    - Industry: Conversion rate differences are less between industries (ranges from 51% (E-commerce) to 71% (Healthcare)\n",
    "    - Country: The lowest country now is Germany with 25% and US with increased conversionrate of 69%"
   ]
  },
  {
   "cell_type": "markdown",
   "id": "5ca9d8ad-3096-44d6-af02-402afc356811",
   "metadata": {},
   "source": [
    "# Web Tracking Data"
   ]
  },
  {
   "cell_type": "code",
   "execution_count": 137,
   "id": "82724121",
   "metadata": {},
   "outputs": [
    {
     "data": {
      "text/plain": [
       "Index(['user_id', 'session_id', 'timestamp', 'page', 'time_spent_sec',\n",
       "       'utm_source', 'utm_medium', 'device_type'],\n",
       "      dtype='object')"
      ]
     },
     "execution_count": 137,
     "metadata": {},
     "output_type": "execute_result"
    }
   ],
   "source": [
    "web_tracking_df.columns"
   ]
  },
  {
   "cell_type": "code",
   "execution_count": 138,
   "id": "154be38a-ef89-48be-bbfd-23fee41c10cc",
   "metadata": {},
   "outputs": [
    {
     "data": {
      "text/html": [
       "<div>\n",
       "<style scoped>\n",
       "    .dataframe tbody tr th:only-of-type {\n",
       "        vertical-align: middle;\n",
       "    }\n",
       "\n",
       "    .dataframe tbody tr th {\n",
       "        vertical-align: top;\n",
       "    }\n",
       "\n",
       "    .dataframe thead th {\n",
       "        text-align: right;\n",
       "    }\n",
       "</style>\n",
       "<table border=\"1\" class=\"dataframe\">\n",
       "  <thead>\n",
       "    <tr style=\"text-align: right;\">\n",
       "      <th></th>\n",
       "      <th>user_id</th>\n",
       "      <th>session_id</th>\n",
       "      <th>timestamp</th>\n",
       "      <th>page</th>\n",
       "      <th>time_spent_sec</th>\n",
       "      <th>utm_source</th>\n",
       "      <th>utm_medium</th>\n",
       "      <th>device_type</th>\n",
       "    </tr>\n",
       "  </thead>\n",
       "  <tbody>\n",
       "    <tr>\n",
       "      <th>0</th>\n",
       "      <td>151</td>\n",
       "      <td>s000</td>\n",
       "      <td>2024-03-07 12:55:00</td>\n",
       "      <td>/pricing</td>\n",
       "      <td>54</td>\n",
       "      <td>newsletter</td>\n",
       "      <td>referral</td>\n",
       "      <td>mobile</td>\n",
       "    </tr>\n",
       "    <tr>\n",
       "      <th>1</th>\n",
       "      <td>192</td>\n",
       "      <td>s001</td>\n",
       "      <td>2024-03-05 14:21:00</td>\n",
       "      <td>/landing</td>\n",
       "      <td>71</td>\n",
       "      <td>linkedin</td>\n",
       "      <td>email</td>\n",
       "      <td>desktop</td>\n",
       "    </tr>\n",
       "    <tr>\n",
       "      <th>2</th>\n",
       "      <td>114</td>\n",
       "      <td>s002</td>\n",
       "      <td>2024-03-01 14:25:00</td>\n",
       "      <td>/contact</td>\n",
       "      <td>143</td>\n",
       "      <td>facebook</td>\n",
       "      <td>cpc</td>\n",
       "      <td>desktop</td>\n",
       "    </tr>\n",
       "    <tr>\n",
       "      <th>3</th>\n",
       "      <td>171</td>\n",
       "      <td>s003</td>\n",
       "      <td>2024-03-06 16:56:00</td>\n",
       "      <td>/contact</td>\n",
       "      <td>293</td>\n",
       "      <td>newsletter</td>\n",
       "      <td>email</td>\n",
       "      <td>desktop</td>\n",
       "    </tr>\n",
       "    <tr>\n",
       "      <th>4</th>\n",
       "      <td>160</td>\n",
       "      <td>s004</td>\n",
       "      <td>2024-03-01 21:41:00</td>\n",
       "      <td>/contact</td>\n",
       "      <td>37</td>\n",
       "      <td>linkedin</td>\n",
       "      <td>organic</td>\n",
       "      <td>tablet</td>\n",
       "    </tr>\n",
       "  </tbody>\n",
       "</table>\n",
       "</div>"
      ],
      "text/plain": [
       "   user_id session_id            timestamp      page  time_spent_sec  \\\n",
       "0      151       s000  2024-03-07 12:55:00  /pricing              54   \n",
       "1      192       s001  2024-03-05 14:21:00  /landing              71   \n",
       "2      114       s002  2024-03-01 14:25:00  /contact             143   \n",
       "3      171       s003  2024-03-06 16:56:00  /contact             293   \n",
       "4      160       s004  2024-03-01 21:41:00  /contact              37   \n",
       "\n",
       "   utm_source utm_medium device_type  \n",
       "0  newsletter   referral      mobile  \n",
       "1    linkedin      email     desktop  \n",
       "2    facebook        cpc     desktop  \n",
       "3  newsletter      email     desktop  \n",
       "4    linkedin    organic      tablet  "
      ]
     },
     "execution_count": 138,
     "metadata": {},
     "output_type": "execute_result"
    }
   ],
   "source": [
    "web_tracking_df.head()"
   ]
  },
  {
   "cell_type": "code",
   "execution_count": 229,
   "id": "3298951d-7bc5-4ab9-a8a3-67abf5ea4d31",
   "metadata": {},
   "outputs": [
    {
     "data": {
      "text/plain": [
       "user_id            61\n",
       "session_id        100\n",
       "timestamp          99\n",
       "page                4\n",
       "time_spent_sec     74\n",
       "utm_source          4\n",
       "utm_medium          4\n",
       "device_type         3\n",
       "dtype: int64"
      ]
     },
     "execution_count": 229,
     "metadata": {},
     "output_type": "execute_result"
    }
   ],
   "source": [
    "web_tracking_df.nunique()"
   ]
  },
  {
   "cell_type": "code",
   "execution_count": 139,
   "id": "d88ce380-57e4-4f2c-8388-eedf05c5bec5",
   "metadata": {},
   "outputs": [
    {
     "name": "stdout",
     "output_type": "stream",
     "text": [
      "<class 'pandas.core.frame.DataFrame'>\n",
      "RangeIndex: 100 entries, 0 to 99\n",
      "Data columns (total 8 columns):\n",
      " #   Column          Non-Null Count  Dtype \n",
      "---  ------          --------------  ----- \n",
      " 0   user_id         100 non-null    int64 \n",
      " 1   session_id      100 non-null    object\n",
      " 2   timestamp       100 non-null    object\n",
      " 3   page            100 non-null    object\n",
      " 4   time_spent_sec  100 non-null    int64 \n",
      " 5   utm_source      100 non-null    object\n",
      " 6   utm_medium      100 non-null    object\n",
      " 7   device_type     100 non-null    object\n",
      "dtypes: int64(2), object(6)\n",
      "memory usage: 6.4+ KB\n"
     ]
    }
   ],
   "source": [
    "web_tracking_df.info()"
   ]
  },
  {
   "cell_type": "code",
   "execution_count": 140,
   "id": "0f2ce5b3-bd10-4e7a-b10b-7af6f1aff393",
   "metadata": {},
   "outputs": [],
   "source": [
    "web_tracking_df[\"timestamp\"] = pd.to_datetime(web_tracking_df[\"timestamp\"])"
   ]
  },
  {
   "cell_type": "code",
   "execution_count": 141,
   "id": "8c2e5999-7304-4a6a-9296-3d1724d7e547",
   "metadata": {},
   "outputs": [
    {
     "data": {
      "text/plain": [
       "count    100.000000\n",
       "mean     163.750000\n",
       "std       71.941106\n",
       "min       11.000000\n",
       "25%      121.750000\n",
       "50%      156.500000\n",
       "75%      227.500000\n",
       "max      295.000000\n",
       "Name: time_spent_sec, dtype: float64"
      ]
     },
     "execution_count": 141,
     "metadata": {},
     "output_type": "execute_result"
    }
   ],
   "source": [
    "web_tracking_df.time_spent_sec.describe()"
   ]
  },
  {
   "cell_type": "code",
   "execution_count": 142,
   "id": "875cdc09-731d-4ee3-a75b-d9d584353e1b",
   "metadata": {},
   "outputs": [
    {
     "data": {
      "text/plain": [
       "count                              100\n",
       "mean     2024-03-04 12:31:25.199999744\n",
       "min                2024-03-01 01:18:00\n",
       "25%                2024-03-02 18:32:15\n",
       "50%                2024-03-04 16:09:30\n",
       "75%                2024-03-06 04:45:15\n",
       "max                2024-03-07 21:13:00\n",
       "Name: timestamp, dtype: object"
      ]
     },
     "execution_count": 142,
     "metadata": {},
     "output_type": "execute_result"
    }
   ],
   "source": [
    "web_tracking_df.timestamp.describe()"
   ]
  },
  {
   "cell_type": "markdown",
   "id": "71b11537-0bc4-4ca6-b2c7-a660dcc14055",
   "metadata": {},
   "source": [
    "**NOTE:** Web tracking until 03-07, but users signed up until 03-10"
   ]
  },
  {
   "cell_type": "code",
   "execution_count": 226,
   "id": "7b9ab627-16d2-457e-8a78-2dc8068d7c2c",
   "metadata": {},
   "outputs": [],
   "source": [
    "def plot_time_spent_hist(df, time_col='time_spent_sec', output_path=None):\n",
    "    ax = df[time_col].plot(kind=\"hist\")\n",
    "\n",
    "    ax.set_xlabel('Time Spent (seconds)')\n",
    "    ax.set_ylabel('Frequency')\n",
    "    ax.set_title('Distribution of Time Spent')\n",
    "\n",
    "    if output_path:\n",
    "        plt.savefig(os.path.join(PLOT_FOLDER, output_path), format=\"png\")\n",
    "        plt.close()\n",
    "\n",
    "    return ax\n"
   ]
  },
  {
   "cell_type": "code",
   "execution_count": 227,
   "id": "48bab97e-9375-4ae4-ab68-1fded74f828f",
   "metadata": {},
   "outputs": [
    {
     "data": {
      "text/plain": [
       "<Axes: title={'center': 'Distribution of Time Spent'}, xlabel='Time Spent (seconds)', ylabel='Frequency'>"
      ]
     },
     "execution_count": 227,
     "metadata": {},
     "output_type": "execute_result"
    }
   ],
   "source": [
    "plot_time_spent_hist(df=web_tracking_df, output_path='hist.png')"
   ]
  },
  {
   "cell_type": "code",
   "execution_count": 213,
   "id": "4aeb2baf-824a-42dc-8278-76dd8b916a47",
   "metadata": {},
   "outputs": [
    {
     "data": {
      "text/plain": [
       "count    100.000000\n",
       "mean     163.750000\n",
       "std       71.941106\n",
       "min       11.000000\n",
       "25%      121.750000\n",
       "50%      156.500000\n",
       "75%      227.500000\n",
       "max      295.000000\n",
       "Name: time_spent_sec, dtype: float64"
      ]
     },
     "execution_count": 213,
     "metadata": {},
     "output_type": "execute_result"
    }
   ],
   "source": [
    "web_tracking_df.time_spent_sec.describe()"
   ]
  },
  {
   "cell_type": "code",
   "execution_count": 144,
   "id": "d88e2d61-ca29-4b1f-b602-f7da7e7872dd",
   "metadata": {},
   "outputs": [
    {
     "data": {
      "text/plain": [
       "user_id            61\n",
       "session_id        100\n",
       "timestamp          99\n",
       "page                4\n",
       "time_spent_sec     74\n",
       "utm_source          4\n",
       "utm_medium          4\n",
       "device_type         3\n",
       "dtype: int64"
      ]
     },
     "execution_count": 144,
     "metadata": {},
     "output_type": "execute_result"
    }
   ],
   "source": [
    "web_tracking_df.nunique()"
   ]
  },
  {
   "cell_type": "markdown",
   "id": "4380d3e3-1c70-4d77-a0d8-62b0090288e5",
   "metadata": {},
   "source": [
    "**Warning:** Some users are missing in the crm"
   ]
  },
  {
   "cell_type": "code",
   "execution_count": 166,
   "id": "1df14f2a-ad58-41b6-b3d0-b97d0b394372",
   "metadata": {},
   "outputs": [
    {
     "data": {
      "text/plain": [
       "14"
      ]
     },
     "execution_count": 166,
     "metadata": {},
     "output_type": "execute_result"
    }
   ],
   "source": [
    "missing_users = set(web_tracking_df[\"user_id\"]) - set(crm_df[\"user_id\"])\n",
    "len(missing_users)"
   ]
  },
  {
   "cell_type": "markdown",
   "id": "50542fd2-4b5d-44d6-a5a6-b38252077e82",
   "metadata": {},
   "source": [
    "**NOTE:** user_id {101, 105, 113, 129, 133, 135, 139, 148, 153, 172, 175, 179, 182, 186} have web tracking data but are missing for crm"
   ]
  },
  {
   "cell_type": "code",
   "execution_count": 146,
   "id": "cf449935-c297-419b-bd5a-7d4e41e378f7",
   "metadata": {},
   "outputs": [
    {
     "data": {
      "text/plain": [
       "user_id           0\n",
       "session_id        0\n",
       "timestamp         0\n",
       "page              0\n",
       "time_spent_sec    0\n",
       "utm_source        0\n",
       "utm_medium        0\n",
       "device_type       0\n",
       "dtype: int64"
      ]
     },
     "execution_count": 146,
     "metadata": {},
     "output_type": "execute_result"
    }
   ],
   "source": [
    "web_tracking_df.isna().sum()"
   ]
  },
  {
   "cell_type": "code",
   "execution_count": 147,
   "id": "13054514-dd36-4a68-b09e-dfef981d9e50",
   "metadata": {},
   "outputs": [],
   "source": [
    "web_tracking_df.sort_values(\"timestamp\", inplace = True)"
   ]
  },
  {
   "cell_type": "code",
   "execution_count": 148,
   "id": "ad4b6edf-24c1-4e6c-9084-0733dd956657",
   "metadata": {},
   "outputs": [
    {
     "data": {
      "text/html": [
       "<div>\n",
       "<style scoped>\n",
       "    .dataframe tbody tr th:only-of-type {\n",
       "        vertical-align: middle;\n",
       "    }\n",
       "\n",
       "    .dataframe tbody tr th {\n",
       "        vertical-align: top;\n",
       "    }\n",
       "\n",
       "    .dataframe thead th {\n",
       "        text-align: right;\n",
       "    }\n",
       "</style>\n",
       "<table border=\"1\" class=\"dataframe\">\n",
       "  <thead>\n",
       "    <tr style=\"text-align: right;\">\n",
       "      <th></th>\n",
       "      <th>user_id</th>\n",
       "      <th>session_id</th>\n",
       "      <th>timestamp</th>\n",
       "      <th>page</th>\n",
       "      <th>time_spent_sec</th>\n",
       "      <th>utm_source</th>\n",
       "      <th>utm_medium</th>\n",
       "      <th>device_type</th>\n",
       "    </tr>\n",
       "  </thead>\n",
       "  <tbody>\n",
       "    <tr>\n",
       "      <th>37</th>\n",
       "      <td>161</td>\n",
       "      <td>s037</td>\n",
       "      <td>2024-03-01 06:29:00</td>\n",
       "      <td>/contact</td>\n",
       "      <td>11</td>\n",
       "      <td>facebook</td>\n",
       "      <td>referral</td>\n",
       "      <td>tablet</td>\n",
       "    </tr>\n",
       "    <tr>\n",
       "      <th>40</th>\n",
       "      <td>161</td>\n",
       "      <td>s040</td>\n",
       "      <td>2024-03-03 18:03:00</td>\n",
       "      <td>/contact</td>\n",
       "      <td>63</td>\n",
       "      <td>facebook</td>\n",
       "      <td>email</td>\n",
       "      <td>tablet</td>\n",
       "    </tr>\n",
       "    <tr>\n",
       "      <th>38</th>\n",
       "      <td>161</td>\n",
       "      <td>s038</td>\n",
       "      <td>2024-03-04 18:03:00</td>\n",
       "      <td>/pricing</td>\n",
       "      <td>139</td>\n",
       "      <td>facebook</td>\n",
       "      <td>cpc</td>\n",
       "      <td>tablet</td>\n",
       "    </tr>\n",
       "    <tr>\n",
       "      <th>93</th>\n",
       "      <td>161</td>\n",
       "      <td>s093</td>\n",
       "      <td>2024-03-06 17:50:00</td>\n",
       "      <td>/features</td>\n",
       "      <td>63</td>\n",
       "      <td>google</td>\n",
       "      <td>referral</td>\n",
       "      <td>mobile</td>\n",
       "    </tr>\n",
       "    <tr>\n",
       "      <th>84</th>\n",
       "      <td>161</td>\n",
       "      <td>s084</td>\n",
       "      <td>2024-03-07 03:22:00</td>\n",
       "      <td>/features</td>\n",
       "      <td>46</td>\n",
       "      <td>google</td>\n",
       "      <td>cpc</td>\n",
       "      <td>tablet</td>\n",
       "    </tr>\n",
       "  </tbody>\n",
       "</table>\n",
       "</div>"
      ],
      "text/plain": [
       "    user_id session_id           timestamp       page  time_spent_sec  \\\n",
       "37      161       s037 2024-03-01 06:29:00   /contact              11   \n",
       "40      161       s040 2024-03-03 18:03:00   /contact              63   \n",
       "38      161       s038 2024-03-04 18:03:00   /pricing             139   \n",
       "93      161       s093 2024-03-06 17:50:00  /features              63   \n",
       "84      161       s084 2024-03-07 03:22:00  /features              46   \n",
       "\n",
       "   utm_source utm_medium device_type  \n",
       "37   facebook   referral      tablet  \n",
       "40   facebook      email      tablet  \n",
       "38   facebook        cpc      tablet  \n",
       "93     google   referral      mobile  \n",
       "84     google        cpc      tablet  "
      ]
     },
     "execution_count": 148,
     "metadata": {},
     "output_type": "execute_result"
    }
   ],
   "source": [
    "web_tracking_df[web_tracking_df[\"user_id\"] == 161]"
   ]
  },
  {
   "cell_type": "code",
   "execution_count": 149,
   "id": "4a080ccd-48f1-4ec8-9ee8-1cda957170a5",
   "metadata": {},
   "outputs": [],
   "source": [
    "nb_of_pages_visited = web_tracking_df.user_id.value_counts()\n",
    "nb_of_pages_visited_df = nb_of_pages_visited.to_frame().reset_index()\n",
    "nb_of_pages_visited_df.rename(columns = {\"count\":\"numb_pages\"}, inplace = True)"
   ]
  },
  {
   "cell_type": "code",
   "execution_count": 150,
   "id": "3a4f089e-3fef-4d64-8e78-9d28c203db26",
   "metadata": {},
   "outputs": [
    {
     "data": {
      "text/plain": [
       "user_id\n",
       "161    5\n",
       "159    4\n",
       "101    4\n",
       "120    3\n",
       "114    3\n",
       "      ..\n",
       "149    1\n",
       "154    1\n",
       "138    1\n",
       "105    1\n",
       "173    1\n",
       "Name: count, Length: 61, dtype: int64"
      ]
     },
     "execution_count": 150,
     "metadata": {},
     "output_type": "execute_result"
    }
   ],
   "source": [
    "nb_of_pages_visited"
   ]
  },
  {
   "cell_type": "code",
   "execution_count": 151,
   "id": "8babe10c-fe83-4b47-b162-67b34b48e345",
   "metadata": {},
   "outputs": [],
   "source": [
    "def get_last_page(x):\n",
    "    last_page = x.to_list()[-1]\n",
    "    return last_page"
   ]
  },
  {
   "cell_type": "code",
   "execution_count": 152,
   "id": "dad3f612-cda0-4cc5-8878-7b851b57dd7d",
   "metadata": {},
   "outputs": [],
   "source": [
    "last_page = web_tracking_df.groupby('user_id').page.apply(get_last_page)"
   ]
  },
  {
   "cell_type": "code",
   "execution_count": 153,
   "id": "c3ac9df7-9735-4e1a-8fbe-ec4a5aed975f",
   "metadata": {},
   "outputs": [],
   "source": [
    "last_page_df = last_page.to_frame().reset_index()\n",
    "last_page_df.rename(columns = {\"page\":\"last_page\"}, inplace=True)"
   ]
  },
  {
   "cell_type": "code",
   "execution_count": 154,
   "id": "59aeda5a-a112-4ce5-b9f1-fbeece0652ba",
   "metadata": {},
   "outputs": [],
   "source": [
    "def get_first_page(x):\n",
    "    first_page = x.to_list()[0]\n",
    "    return first_page"
   ]
  },
  {
   "cell_type": "code",
   "execution_count": 155,
   "id": "4d231cba-811b-448a-b356-95d5c0e74fd6",
   "metadata": {},
   "outputs": [],
   "source": [
    "first_page = web_tracking_df.groupby('user_id').page.apply(get_first_page)"
   ]
  },
  {
   "cell_type": "code",
   "execution_count": 156,
   "id": "3894cf74-a114-4438-922a-131ec68a1b0a",
   "metadata": {},
   "outputs": [],
   "source": [
    "first_page_df = first_page.to_frame().reset_index()\n",
    "first_page_df.rename(columns = {\"page\":\"first_page\"}, inplace=True)"
   ]
  },
  {
   "cell_type": "code",
   "execution_count": 157,
   "id": "8c5b7e79-29ba-42cd-a246-04c2c06bbe78",
   "metadata": {},
   "outputs": [],
   "source": [
    "merged_df = crm_df.merge(last_page_df, on = \"user_id\")\\\n",
    "            .merge(first_page_df, on = \"user_id\")\\\n",
    "            .merge(nb_of_pages_visited_df, on = \"user_id\")"
   ]
  },
  {
   "cell_type": "code",
   "execution_count": 158,
   "id": "204d51ca-d5f2-4c43-bc4e-7d0ab02a7111",
   "metadata": {},
   "outputs": [
    {
     "data": {
      "text/html": [
       "<div>\n",
       "<style scoped>\n",
       "    .dataframe tbody tr th:only-of-type {\n",
       "        vertical-align: middle;\n",
       "    }\n",
       "\n",
       "    .dataframe tbody tr th {\n",
       "        vertical-align: top;\n",
       "    }\n",
       "\n",
       "    .dataframe thead th {\n",
       "        text-align: right;\n",
       "    }\n",
       "</style>\n",
       "<table border=\"1\" class=\"dataframe\">\n",
       "  <thead>\n",
       "    <tr style=\"text-align: right;\">\n",
       "      <th></th>\n",
       "      <th>user_id</th>\n",
       "      <th>lead_status</th>\n",
       "      <th>company</th>\n",
       "      <th>sign_up_date</th>\n",
       "      <th>industry</th>\n",
       "      <th>country</th>\n",
       "      <th>last_page</th>\n",
       "      <th>first_page</th>\n",
       "      <th>numb_pages</th>\n",
       "    </tr>\n",
       "  </thead>\n",
       "  <tbody>\n",
       "    <tr>\n",
       "      <th>0</th>\n",
       "      <td>184</td>\n",
       "      <td>Prospect</td>\n",
       "      <td>Company_18</td>\n",
       "      <td>2024-03-01</td>\n",
       "      <td>Finance</td>\n",
       "      <td>US</td>\n",
       "      <td>/features</td>\n",
       "      <td>/features</td>\n",
       "      <td>1</td>\n",
       "    </tr>\n",
       "    <tr>\n",
       "      <th>1</th>\n",
       "      <td>163</td>\n",
       "      <td>Lost</td>\n",
       "      <td>Company_3</td>\n",
       "      <td>2024-03-01</td>\n",
       "      <td>SaaS</td>\n",
       "      <td>US</td>\n",
       "      <td>/features</td>\n",
       "      <td>/pricing</td>\n",
       "      <td>2</td>\n",
       "    </tr>\n",
       "    <tr>\n",
       "      <th>2</th>\n",
       "      <td>199</td>\n",
       "      <td>Converted</td>\n",
       "      <td>Company_32</td>\n",
       "      <td>2024-03-01</td>\n",
       "      <td>Healthcare</td>\n",
       "      <td>US</td>\n",
       "      <td>/landing</td>\n",
       "      <td>/features</td>\n",
       "      <td>2</td>\n",
       "    </tr>\n",
       "    <tr>\n",
       "      <th>3</th>\n",
       "      <td>151</td>\n",
       "      <td>Converted</td>\n",
       "      <td>Company_5</td>\n",
       "      <td>2024-03-01</td>\n",
       "      <td>Finance</td>\n",
       "      <td>US</td>\n",
       "      <td>/pricing</td>\n",
       "      <td>/pricing</td>\n",
       "      <td>1</td>\n",
       "    </tr>\n",
       "    <tr>\n",
       "      <th>4</th>\n",
       "      <td>191</td>\n",
       "      <td>Prospect</td>\n",
       "      <td>Company_42</td>\n",
       "      <td>2024-03-01</td>\n",
       "      <td>SaaS</td>\n",
       "      <td>Germany</td>\n",
       "      <td>/pricing</td>\n",
       "      <td>/contact</td>\n",
       "      <td>2</td>\n",
       "    </tr>\n",
       "    <tr>\n",
       "      <th>5</th>\n",
       "      <td>162</td>\n",
       "      <td>Lost</td>\n",
       "      <td>Company_12</td>\n",
       "      <td>2024-03-01</td>\n",
       "      <td>Finance</td>\n",
       "      <td>Germany</td>\n",
       "      <td>/contact</td>\n",
       "      <td>/contact</td>\n",
       "      <td>1</td>\n",
       "    </tr>\n",
       "    <tr>\n",
       "      <th>6</th>\n",
       "      <td>106</td>\n",
       "      <td>Prospect</td>\n",
       "      <td>Company_49</td>\n",
       "      <td>2024-03-01</td>\n",
       "      <td>Finance</td>\n",
       "      <td>Germany</td>\n",
       "      <td>/features</td>\n",
       "      <td>/features</td>\n",
       "      <td>1</td>\n",
       "    </tr>\n",
       "    <tr>\n",
       "      <th>7</th>\n",
       "      <td>107</td>\n",
       "      <td>Prospect</td>\n",
       "      <td>Company_19</td>\n",
       "      <td>2024-03-01</td>\n",
       "      <td>E-commerce</td>\n",
       "      <td>US</td>\n",
       "      <td>/features</td>\n",
       "      <td>/features</td>\n",
       "      <td>1</td>\n",
       "    </tr>\n",
       "    <tr>\n",
       "      <th>8</th>\n",
       "      <td>154</td>\n",
       "      <td>Lost</td>\n",
       "      <td>Company_11</td>\n",
       "      <td>2024-03-01</td>\n",
       "      <td>Finance</td>\n",
       "      <td>US</td>\n",
       "      <td>/features</td>\n",
       "      <td>/features</td>\n",
       "      <td>1</td>\n",
       "    </tr>\n",
       "    <tr>\n",
       "      <th>9</th>\n",
       "      <td>141</td>\n",
       "      <td>Prospect</td>\n",
       "      <td>Company_6</td>\n",
       "      <td>2024-03-02</td>\n",
       "      <td>E-commerce</td>\n",
       "      <td>Germany</td>\n",
       "      <td>/landing</td>\n",
       "      <td>/landing</td>\n",
       "      <td>1</td>\n",
       "    </tr>\n",
       "    <tr>\n",
       "      <th>10</th>\n",
       "      <td>177</td>\n",
       "      <td>Lost</td>\n",
       "      <td>Company_54</td>\n",
       "      <td>2024-03-03</td>\n",
       "      <td>E-commerce</td>\n",
       "      <td>France</td>\n",
       "      <td>/features</td>\n",
       "      <td>/landing</td>\n",
       "      <td>2</td>\n",
       "    </tr>\n",
       "    <tr>\n",
       "      <th>11</th>\n",
       "      <td>190</td>\n",
       "      <td>Converted</td>\n",
       "      <td>Company_51</td>\n",
       "      <td>2024-03-03</td>\n",
       "      <td>Healthcare</td>\n",
       "      <td>UK</td>\n",
       "      <td>/features</td>\n",
       "      <td>/features</td>\n",
       "      <td>1</td>\n",
       "    </tr>\n",
       "    <tr>\n",
       "      <th>12</th>\n",
       "      <td>152</td>\n",
       "      <td>Converted</td>\n",
       "      <td>Company_48</td>\n",
       "      <td>2024-03-03</td>\n",
       "      <td>Healthcare</td>\n",
       "      <td>US</td>\n",
       "      <td>/pricing</td>\n",
       "      <td>/landing</td>\n",
       "      <td>3</td>\n",
       "    </tr>\n",
       "    <tr>\n",
       "      <th>13</th>\n",
       "      <td>192</td>\n",
       "      <td>Converted</td>\n",
       "      <td>Company_15</td>\n",
       "      <td>2024-03-03</td>\n",
       "      <td>Finance</td>\n",
       "      <td>Germany</td>\n",
       "      <td>/landing</td>\n",
       "      <td>/landing</td>\n",
       "      <td>2</td>\n",
       "    </tr>\n",
       "    <tr>\n",
       "      <th>14</th>\n",
       "      <td>187</td>\n",
       "      <td>Converted</td>\n",
       "      <td>Company_31</td>\n",
       "      <td>2024-03-04</td>\n",
       "      <td>E-commerce</td>\n",
       "      <td>US</td>\n",
       "      <td>/contact</td>\n",
       "      <td>/landing</td>\n",
       "      <td>2</td>\n",
       "    </tr>\n",
       "    <tr>\n",
       "      <th>15</th>\n",
       "      <td>194</td>\n",
       "      <td>Lost</td>\n",
       "      <td>Company_50</td>\n",
       "      <td>2024-03-05</td>\n",
       "      <td>SaaS</td>\n",
       "      <td>US</td>\n",
       "      <td>/features</td>\n",
       "      <td>/features</td>\n",
       "      <td>1</td>\n",
       "    </tr>\n",
       "    <tr>\n",
       "      <th>16</th>\n",
       "      <td>108</td>\n",
       "      <td>Converted</td>\n",
       "      <td>Company_26</td>\n",
       "      <td>2024-03-05</td>\n",
       "      <td>SaaS</td>\n",
       "      <td>US</td>\n",
       "      <td>/features</td>\n",
       "      <td>/features</td>\n",
       "      <td>1</td>\n",
       "    </tr>\n",
       "    <tr>\n",
       "      <th>17</th>\n",
       "      <td>134</td>\n",
       "      <td>Lost</td>\n",
       "      <td>Company_23</td>\n",
       "      <td>2024-03-06</td>\n",
       "      <td>E-commerce</td>\n",
       "      <td>UK</td>\n",
       "      <td>/landing</td>\n",
       "      <td>/landing</td>\n",
       "      <td>1</td>\n",
       "    </tr>\n",
       "    <tr>\n",
       "      <th>18</th>\n",
       "      <td>159</td>\n",
       "      <td>Converted</td>\n",
       "      <td>Company_24</td>\n",
       "      <td>2024-03-06</td>\n",
       "      <td>Finance</td>\n",
       "      <td>UK</td>\n",
       "      <td>/features</td>\n",
       "      <td>/features</td>\n",
       "      <td>4</td>\n",
       "    </tr>\n",
       "    <tr>\n",
       "      <th>19</th>\n",
       "      <td>120</td>\n",
       "      <td>Prospect</td>\n",
       "      <td>Company_35</td>\n",
       "      <td>2024-03-06</td>\n",
       "      <td>SaaS</td>\n",
       "      <td>Germany</td>\n",
       "      <td>/contact</td>\n",
       "      <td>/contact</td>\n",
       "      <td>3</td>\n",
       "    </tr>\n",
       "    <tr>\n",
       "      <th>20</th>\n",
       "      <td>157</td>\n",
       "      <td>Converted</td>\n",
       "      <td>Company_16</td>\n",
       "      <td>2024-03-06</td>\n",
       "      <td>E-commerce</td>\n",
       "      <td>UK</td>\n",
       "      <td>/landing</td>\n",
       "      <td>/landing</td>\n",
       "      <td>1</td>\n",
       "    </tr>\n",
       "    <tr>\n",
       "      <th>21</th>\n",
       "      <td>173</td>\n",
       "      <td>Converted</td>\n",
       "      <td>Company_43</td>\n",
       "      <td>2024-03-06</td>\n",
       "      <td>E-commerce</td>\n",
       "      <td>Germany</td>\n",
       "      <td>/landing</td>\n",
       "      <td>/landing</td>\n",
       "      <td>1</td>\n",
       "    </tr>\n",
       "    <tr>\n",
       "      <th>22</th>\n",
       "      <td>147</td>\n",
       "      <td>Prospect</td>\n",
       "      <td>Company_13</td>\n",
       "      <td>2024-03-07</td>\n",
       "      <td>Finance</td>\n",
       "      <td>UK</td>\n",
       "      <td>/features</td>\n",
       "      <td>/features</td>\n",
       "      <td>1</td>\n",
       "    </tr>\n",
       "    <tr>\n",
       "      <th>23</th>\n",
       "      <td>103</td>\n",
       "      <td>Prospect</td>\n",
       "      <td>Company_36</td>\n",
       "      <td>2024-03-07</td>\n",
       "      <td>SaaS</td>\n",
       "      <td>UK</td>\n",
       "      <td>/contact</td>\n",
       "      <td>/contact</td>\n",
       "      <td>3</td>\n",
       "    </tr>\n",
       "    <tr>\n",
       "      <th>24</th>\n",
       "      <td>188</td>\n",
       "      <td>Converted</td>\n",
       "      <td>Company_37</td>\n",
       "      <td>2024-03-07</td>\n",
       "      <td>Finance</td>\n",
       "      <td>US</td>\n",
       "      <td>/landing</td>\n",
       "      <td>/landing</td>\n",
       "      <td>2</td>\n",
       "    </tr>\n",
       "    <tr>\n",
       "      <th>25</th>\n",
       "      <td>189</td>\n",
       "      <td>Converted</td>\n",
       "      <td>Company_45</td>\n",
       "      <td>2024-03-07</td>\n",
       "      <td>SaaS</td>\n",
       "      <td>US</td>\n",
       "      <td>/contact</td>\n",
       "      <td>/pricing</td>\n",
       "      <td>2</td>\n",
       "    </tr>\n",
       "    <tr>\n",
       "      <th>26</th>\n",
       "      <td>174</td>\n",
       "      <td>Lost</td>\n",
       "      <td>Company_55</td>\n",
       "      <td>2024-03-07</td>\n",
       "      <td>Finance</td>\n",
       "      <td>Germany</td>\n",
       "      <td>/landing</td>\n",
       "      <td>/features</td>\n",
       "      <td>2</td>\n",
       "    </tr>\n",
       "    <tr>\n",
       "      <th>27</th>\n",
       "      <td>180</td>\n",
       "      <td>Converted</td>\n",
       "      <td>Company_41</td>\n",
       "      <td>2024-03-08</td>\n",
       "      <td>SaaS</td>\n",
       "      <td>US</td>\n",
       "      <td>/features</td>\n",
       "      <td>/features</td>\n",
       "      <td>1</td>\n",
       "    </tr>\n",
       "    <tr>\n",
       "      <th>28</th>\n",
       "      <td>117</td>\n",
       "      <td>Lost</td>\n",
       "      <td>Company_7</td>\n",
       "      <td>2024-03-08</td>\n",
       "      <td>Finance</td>\n",
       "      <td>France</td>\n",
       "      <td>/features</td>\n",
       "      <td>/landing</td>\n",
       "      <td>2</td>\n",
       "    </tr>\n",
       "    <tr>\n",
       "      <th>29</th>\n",
       "      <td>138</td>\n",
       "      <td>Converted</td>\n",
       "      <td>Company_34</td>\n",
       "      <td>2024-03-08</td>\n",
       "      <td>SaaS</td>\n",
       "      <td>US</td>\n",
       "      <td>/pricing</td>\n",
       "      <td>/pricing</td>\n",
       "      <td>1</td>\n",
       "    </tr>\n",
       "    <tr>\n",
       "      <th>30</th>\n",
       "      <td>170</td>\n",
       "      <td>Converted</td>\n",
       "      <td>Company_57</td>\n",
       "      <td>2024-03-08</td>\n",
       "      <td>E-commerce</td>\n",
       "      <td>US</td>\n",
       "      <td>/features</td>\n",
       "      <td>/features</td>\n",
       "      <td>1</td>\n",
       "    </tr>\n",
       "    <tr>\n",
       "      <th>31</th>\n",
       "      <td>114</td>\n",
       "      <td>Lost</td>\n",
       "      <td>Company_8</td>\n",
       "      <td>2024-03-09</td>\n",
       "      <td>Finance</td>\n",
       "      <td>UK</td>\n",
       "      <td>/landing</td>\n",
       "      <td>/contact</td>\n",
       "      <td>3</td>\n",
       "    </tr>\n",
       "    <tr>\n",
       "      <th>32</th>\n",
       "      <td>183</td>\n",
       "      <td>Converted</td>\n",
       "      <td>Company_56</td>\n",
       "      <td>2024-03-09</td>\n",
       "      <td>E-commerce</td>\n",
       "      <td>US</td>\n",
       "      <td>/landing</td>\n",
       "      <td>/landing</td>\n",
       "      <td>1</td>\n",
       "    </tr>\n",
       "    <tr>\n",
       "      <th>33</th>\n",
       "      <td>123</td>\n",
       "      <td>Lost</td>\n",
       "      <td>Company_46</td>\n",
       "      <td>2024-03-09</td>\n",
       "      <td>E-commerce</td>\n",
       "      <td>US</td>\n",
       "      <td>/features</td>\n",
       "      <td>/pricing</td>\n",
       "      <td>2</td>\n",
       "    </tr>\n",
       "    <tr>\n",
       "      <th>34</th>\n",
       "      <td>137</td>\n",
       "      <td>Converted</td>\n",
       "      <td>Company_0</td>\n",
       "      <td>2024-03-09</td>\n",
       "      <td>Healthcare</td>\n",
       "      <td>US</td>\n",
       "      <td>/features</td>\n",
       "      <td>/features</td>\n",
       "      <td>1</td>\n",
       "    </tr>\n",
       "    <tr>\n",
       "      <th>35</th>\n",
       "      <td>146</td>\n",
       "      <td>Converted</td>\n",
       "      <td>Company_38</td>\n",
       "      <td>2024-03-10</td>\n",
       "      <td>SaaS</td>\n",
       "      <td>UK</td>\n",
       "      <td>/landing</td>\n",
       "      <td>/features</td>\n",
       "      <td>2</td>\n",
       "    </tr>\n",
       "    <tr>\n",
       "      <th>36</th>\n",
       "      <td>150</td>\n",
       "      <td>Prospect</td>\n",
       "      <td>Company_33</td>\n",
       "      <td>2024-03-10</td>\n",
       "      <td>SaaS</td>\n",
       "      <td>UK</td>\n",
       "      <td>/landing</td>\n",
       "      <td>/features</td>\n",
       "      <td>2</td>\n",
       "    </tr>\n",
       "    <tr>\n",
       "      <th>37</th>\n",
       "      <td>158</td>\n",
       "      <td>Converted</td>\n",
       "      <td>Company_30</td>\n",
       "      <td>2024-03-10</td>\n",
       "      <td>Healthcare</td>\n",
       "      <td>France</td>\n",
       "      <td>/pricing</td>\n",
       "      <td>/pricing</td>\n",
       "      <td>1</td>\n",
       "    </tr>\n",
       "    <tr>\n",
       "      <th>38</th>\n",
       "      <td>171</td>\n",
       "      <td>Prospect</td>\n",
       "      <td>Company_9</td>\n",
       "      <td>2024-03-10</td>\n",
       "      <td>Finance</td>\n",
       "      <td>US</td>\n",
       "      <td>/contact</td>\n",
       "      <td>/contact</td>\n",
       "      <td>2</td>\n",
       "    </tr>\n",
       "    <tr>\n",
       "      <th>39</th>\n",
       "      <td>149</td>\n",
       "      <td>Lost</td>\n",
       "      <td>Company_21</td>\n",
       "      <td>2024-03-10</td>\n",
       "      <td>E-commerce</td>\n",
       "      <td>Germany</td>\n",
       "      <td>/pricing</td>\n",
       "      <td>/pricing</td>\n",
       "      <td>1</td>\n",
       "    </tr>\n",
       "    <tr>\n",
       "      <th>40</th>\n",
       "      <td>161</td>\n",
       "      <td>Converted</td>\n",
       "      <td>Company_20</td>\n",
       "      <td>2024-03-11</td>\n",
       "      <td>Finance</td>\n",
       "      <td>US</td>\n",
       "      <td>/features</td>\n",
       "      <td>/contact</td>\n",
       "      <td>5</td>\n",
       "    </tr>\n",
       "    <tr>\n",
       "      <th>41</th>\n",
       "      <td>102</td>\n",
       "      <td>Prospect</td>\n",
       "      <td>Company_10</td>\n",
       "      <td>2024-03-11</td>\n",
       "      <td>E-commerce</td>\n",
       "      <td>UK</td>\n",
       "      <td>/landing</td>\n",
       "      <td>/contact</td>\n",
       "      <td>2</td>\n",
       "    </tr>\n",
       "    <tr>\n",
       "      <th>42</th>\n",
       "      <td>160</td>\n",
       "      <td>Lost</td>\n",
       "      <td>Company_47</td>\n",
       "      <td>2024-03-11</td>\n",
       "      <td>E-commerce</td>\n",
       "      <td>Germany</td>\n",
       "      <td>/contact</td>\n",
       "      <td>/contact</td>\n",
       "      <td>1</td>\n",
       "    </tr>\n",
       "    <tr>\n",
       "      <th>43</th>\n",
       "      <td>132</td>\n",
       "      <td>Lost</td>\n",
       "      <td>Company_44</td>\n",
       "      <td>2024-03-11</td>\n",
       "      <td>Healthcare</td>\n",
       "      <td>UK</td>\n",
       "      <td>/features</td>\n",
       "      <td>/features</td>\n",
       "      <td>1</td>\n",
       "    </tr>\n",
       "    <tr>\n",
       "      <th>44</th>\n",
       "      <td>143</td>\n",
       "      <td>Lost</td>\n",
       "      <td>Company_25</td>\n",
       "      <td>2024-03-11</td>\n",
       "      <td>Finance</td>\n",
       "      <td>US</td>\n",
       "      <td>/pricing</td>\n",
       "      <td>/contact</td>\n",
       "      <td>2</td>\n",
       "    </tr>\n",
       "    <tr>\n",
       "      <th>45</th>\n",
       "      <td>121</td>\n",
       "      <td>Prospect</td>\n",
       "      <td>Company_53</td>\n",
       "      <td>2024-03-11</td>\n",
       "      <td>E-commerce</td>\n",
       "      <td>US</td>\n",
       "      <td>/features</td>\n",
       "      <td>/contact</td>\n",
       "      <td>2</td>\n",
       "    </tr>\n",
       "    <tr>\n",
       "      <th>46</th>\n",
       "      <td>181</td>\n",
       "      <td>Lost</td>\n",
       "      <td>Company_14</td>\n",
       "      <td>2024-03-11</td>\n",
       "      <td>SaaS</td>\n",
       "      <td>US</td>\n",
       "      <td>/contact</td>\n",
       "      <td>/contact</td>\n",
       "      <td>1</td>\n",
       "    </tr>\n",
       "  </tbody>\n",
       "</table>\n",
       "</div>"
      ],
      "text/plain": [
       "    user_id lead_status     company sign_up_date    industry  country  \\\n",
       "0       184    Prospect  Company_18   2024-03-01     Finance       US   \n",
       "1       163        Lost   Company_3   2024-03-01        SaaS       US   \n",
       "2       199   Converted  Company_32   2024-03-01  Healthcare       US   \n",
       "3       151   Converted   Company_5   2024-03-01     Finance       US   \n",
       "4       191    Prospect  Company_42   2024-03-01        SaaS  Germany   \n",
       "5       162        Lost  Company_12   2024-03-01     Finance  Germany   \n",
       "6       106    Prospect  Company_49   2024-03-01     Finance  Germany   \n",
       "7       107    Prospect  Company_19   2024-03-01  E-commerce       US   \n",
       "8       154        Lost  Company_11   2024-03-01     Finance       US   \n",
       "9       141    Prospect   Company_6   2024-03-02  E-commerce  Germany   \n",
       "10      177        Lost  Company_54   2024-03-03  E-commerce   France   \n",
       "11      190   Converted  Company_51   2024-03-03  Healthcare       UK   \n",
       "12      152   Converted  Company_48   2024-03-03  Healthcare       US   \n",
       "13      192   Converted  Company_15   2024-03-03     Finance  Germany   \n",
       "14      187   Converted  Company_31   2024-03-04  E-commerce       US   \n",
       "15      194        Lost  Company_50   2024-03-05        SaaS       US   \n",
       "16      108   Converted  Company_26   2024-03-05        SaaS       US   \n",
       "17      134        Lost  Company_23   2024-03-06  E-commerce       UK   \n",
       "18      159   Converted  Company_24   2024-03-06     Finance       UK   \n",
       "19      120    Prospect  Company_35   2024-03-06        SaaS  Germany   \n",
       "20      157   Converted  Company_16   2024-03-06  E-commerce       UK   \n",
       "21      173   Converted  Company_43   2024-03-06  E-commerce  Germany   \n",
       "22      147    Prospect  Company_13   2024-03-07     Finance       UK   \n",
       "23      103    Prospect  Company_36   2024-03-07        SaaS       UK   \n",
       "24      188   Converted  Company_37   2024-03-07     Finance       US   \n",
       "25      189   Converted  Company_45   2024-03-07        SaaS       US   \n",
       "26      174        Lost  Company_55   2024-03-07     Finance  Germany   \n",
       "27      180   Converted  Company_41   2024-03-08        SaaS       US   \n",
       "28      117        Lost   Company_7   2024-03-08     Finance   France   \n",
       "29      138   Converted  Company_34   2024-03-08        SaaS       US   \n",
       "30      170   Converted  Company_57   2024-03-08  E-commerce       US   \n",
       "31      114        Lost   Company_8   2024-03-09     Finance       UK   \n",
       "32      183   Converted  Company_56   2024-03-09  E-commerce       US   \n",
       "33      123        Lost  Company_46   2024-03-09  E-commerce       US   \n",
       "34      137   Converted   Company_0   2024-03-09  Healthcare       US   \n",
       "35      146   Converted  Company_38   2024-03-10        SaaS       UK   \n",
       "36      150    Prospect  Company_33   2024-03-10        SaaS       UK   \n",
       "37      158   Converted  Company_30   2024-03-10  Healthcare   France   \n",
       "38      171    Prospect   Company_9   2024-03-10     Finance       US   \n",
       "39      149        Lost  Company_21   2024-03-10  E-commerce  Germany   \n",
       "40      161   Converted  Company_20   2024-03-11     Finance       US   \n",
       "41      102    Prospect  Company_10   2024-03-11  E-commerce       UK   \n",
       "42      160        Lost  Company_47   2024-03-11  E-commerce  Germany   \n",
       "43      132        Lost  Company_44   2024-03-11  Healthcare       UK   \n",
       "44      143        Lost  Company_25   2024-03-11     Finance       US   \n",
       "45      121    Prospect  Company_53   2024-03-11  E-commerce       US   \n",
       "46      181        Lost  Company_14   2024-03-11        SaaS       US   \n",
       "\n",
       "    last_page first_page  numb_pages  \n",
       "0   /features  /features           1  \n",
       "1   /features   /pricing           2  \n",
       "2    /landing  /features           2  \n",
       "3    /pricing   /pricing           1  \n",
       "4    /pricing   /contact           2  \n",
       "5    /contact   /contact           1  \n",
       "6   /features  /features           1  \n",
       "7   /features  /features           1  \n",
       "8   /features  /features           1  \n",
       "9    /landing   /landing           1  \n",
       "10  /features   /landing           2  \n",
       "11  /features  /features           1  \n",
       "12   /pricing   /landing           3  \n",
       "13   /landing   /landing           2  \n",
       "14   /contact   /landing           2  \n",
       "15  /features  /features           1  \n",
       "16  /features  /features           1  \n",
       "17   /landing   /landing           1  \n",
       "18  /features  /features           4  \n",
       "19   /contact   /contact           3  \n",
       "20   /landing   /landing           1  \n",
       "21   /landing   /landing           1  \n",
       "22  /features  /features           1  \n",
       "23   /contact   /contact           3  \n",
       "24   /landing   /landing           2  \n",
       "25   /contact   /pricing           2  \n",
       "26   /landing  /features           2  \n",
       "27  /features  /features           1  \n",
       "28  /features   /landing           2  \n",
       "29   /pricing   /pricing           1  \n",
       "30  /features  /features           1  \n",
       "31   /landing   /contact           3  \n",
       "32   /landing   /landing           1  \n",
       "33  /features   /pricing           2  \n",
       "34  /features  /features           1  \n",
       "35   /landing  /features           2  \n",
       "36   /landing  /features           2  \n",
       "37   /pricing   /pricing           1  \n",
       "38   /contact   /contact           2  \n",
       "39   /pricing   /pricing           1  \n",
       "40  /features   /contact           5  \n",
       "41   /landing   /contact           2  \n",
       "42   /contact   /contact           1  \n",
       "43  /features  /features           1  \n",
       "44   /pricing   /contact           2  \n",
       "45  /features   /contact           2  \n",
       "46   /contact   /contact           1  "
      ]
     },
     "execution_count": 158,
     "metadata": {},
     "output_type": "execute_result"
    }
   ],
   "source": [
    "merged_df"
   ]
  },
  {
   "cell_type": "code",
   "execution_count": 217,
   "id": "bbecde3f-48fb-4d46-9ddd-c8733487a143",
   "metadata": {},
   "outputs": [
    {
     "name": "stdout",
     "output_type": "stream",
     "text": [
      "last_page\n",
      "/landing     70.000000\n",
      "/pricing     66.666667\n",
      "/features    50.000000\n",
      "/contact     40.000000\n",
      "Name: lead_status, dtype: float64\n"
     ]
    },
    {
     "data": {
      "text/plain": [
       "<Axes: title={'center': 'Conversion Rate by last_page'}, xlabel='last_page', ylabel='Conversion Rate'>"
      ]
     },
     "execution_count": 217,
     "metadata": {},
     "output_type": "execute_result"
    }
   ],
   "source": [
    "plot_conversion_rate_by_column(merged_df, \"last_page\", False,\"conversion_rate_by_last_page.png\")"
   ]
  },
  {
   "cell_type": "markdown",
   "id": "f8323dc2-7894-466b-90f6-60daf6837d11",
   "metadata": {},
   "source": [
    "- if a user ends on contact page he/she does not converse in 3 out of 4 cases\n",
    "- if a user ends on pricing page he/she converse in 54% of the cases"
   ]
  },
  {
   "cell_type": "code",
   "execution_count": 218,
   "id": "36d6f3be-be4f-43a9-a784-e4335494d1c2",
   "metadata": {},
   "outputs": [
    {
     "name": "stdout",
     "output_type": "stream",
     "text": [
      "first_page\n",
      "/landing     70.000000\n",
      "/features    66.666667\n",
      "/pricing     57.142857\n",
      "/contact     16.666667\n",
      "Name: lead_status, dtype: float64\n"
     ]
    },
    {
     "data": {
      "text/plain": [
       "<Axes: title={'center': 'Conversion Rate by first_page'}, xlabel='first_page', ylabel='Conversion Rate'>"
      ]
     },
     "execution_count": 218,
     "metadata": {},
     "output_type": "execute_result"
    }
   ],
   "source": [
    "plot_conversion_rate_by_column(merged_df, \"first_page\", False,\"conversion_rate_by_first_page.png\")"
   ]
  },
  {
   "cell_type": "code",
   "execution_count": 228,
   "id": "a564ec96-f17e-4fc9-8017-c2553aae46ce",
   "metadata": {},
   "outputs": [],
   "source": [
    "merged_df.numb_pages.value_counts().to_clipboard()"
   ]
  },
  {
   "cell_type": "code",
   "execution_count": 220,
   "id": "fbda377a-a2f0-4d97-a980-7e313c8bc4b8",
   "metadata": {},
   "outputs": [
    {
     "name": "stdout",
     "output_type": "stream",
     "text": [
      "numb_pages\n",
      "4    100.000000\n",
      "5    100.000000\n",
      "1     57.894737\n",
      "2     50.000000\n",
      "3     50.000000\n",
      "Name: lead_status, dtype: float64\n"
     ]
    },
    {
     "data": {
      "text/plain": [
       "<Axes: title={'center': 'Conversion Rate by numb_pages'}, xlabel='numb_pages', ylabel='Conversion Rate'>"
      ]
     },
     "execution_count": 220,
     "metadata": {},
     "output_type": "execute_result"
    }
   ],
   "source": [
    "plot_conversion_rate_by_column(merged_df, \"numb_pages\", False,\"conversion_rate_by_numb_page.png\")"
   ]
  },
  {
   "cell_type": "code",
   "execution_count": 163,
   "id": "cef1cdfa-a7c8-4160-97a1-71a543700098",
   "metadata": {},
   "outputs": [
    {
     "data": {
      "application/vnd.jupyter.widget-view+json": {
       "model_id": "ba11b0f2578f40249b1ae937b7f08eb1",
       "version_major": 2,
       "version_minor": 0
      },
      "text/plain": [
       "Summarize dataset:   0%|          | 0/5 [00:00<?, ?it/s]"
      ]
     },
     "metadata": {},
     "output_type": "display_data"
    },
    {
     "name": "stderr",
     "output_type": "stream",
     "text": [
      "\n",
      "  0%|          | 0/6 [00:00<?, ?it/s]\u001b[A\n",
      "100%|██████████| 6/6 [00:00<00:00, 38.54it/s]\u001b[A\n"
     ]
    },
    {
     "data": {
      "application/vnd.jupyter.widget-view+json": {
       "model_id": "8844406e438d4487b3e3f2da751d460c",
       "version_major": 2,
       "version_minor": 0
      },
      "text/plain": [
       "Generate report structure:   0%|          | 0/1 [00:00<?, ?it/s]"
      ]
     },
     "metadata": {},
     "output_type": "display_data"
    },
    {
     "data": {
      "application/vnd.jupyter.widget-view+json": {
       "model_id": "85d5040c0aea4f51868d85760268ce5a",
       "version_major": 2,
       "version_minor": 0
      },
      "text/plain": [
       "Render HTML:   0%|          | 0/1 [00:00<?, ?it/s]"
      ]
     },
     "metadata": {},
     "output_type": "display_data"
    },
    {
     "data": {
      "application/vnd.jupyter.widget-view+json": {
       "model_id": "10e70c077b3040eea8c1c8cfca89c91e",
       "version_major": 2,
       "version_minor": 0
      },
      "text/plain": [
       "Export report to file:   0%|          | 0/1 [00:00<?, ?it/s]"
      ]
     },
     "metadata": {},
     "output_type": "display_data"
    },
    {
     "data": {
      "application/vnd.jupyter.widget-view+json": {
       "model_id": "510309e2933149d8ab768772e3007392",
       "version_major": 2,
       "version_minor": 0
      },
      "text/plain": [
       "Summarize dataset:   0%|          | 0/5 [00:00<?, ?it/s]"
      ]
     },
     "metadata": {},
     "output_type": "display_data"
    },
    {
     "name": "stderr",
     "output_type": "stream",
     "text": [
      "\n",
      "100%|██████████| 8/8 [00:00<00:00, 125.98it/s]\n"
     ]
    },
    {
     "data": {
      "application/vnd.jupyter.widget-view+json": {
       "model_id": "d42bd7359dad4c4a883055663936d11b",
       "version_major": 2,
       "version_minor": 0
      },
      "text/plain": [
       "Generate report structure:   0%|          | 0/1 [00:00<?, ?it/s]"
      ]
     },
     "metadata": {},
     "output_type": "display_data"
    },
    {
     "data": {
      "application/vnd.jupyter.widget-view+json": {
       "model_id": "c28d25e6b1f942dca97813ed3e1c4a2d",
       "version_major": 2,
       "version_minor": 0
      },
      "text/plain": [
       "Render HTML:   0%|          | 0/1 [00:00<?, ?it/s]"
      ]
     },
     "metadata": {},
     "output_type": "display_data"
    },
    {
     "data": {
      "application/vnd.jupyter.widget-view+json": {
       "model_id": "6947f7dd446548aa8b301ffd250dad40",
       "version_major": 2,
       "version_minor": 0
      },
      "text/plain": [
       "Export report to file:   0%|          | 0/1 [00:00<?, ?it/s]"
      ]
     },
     "metadata": {},
     "output_type": "display_data"
    }
   ],
   "source": [
    "# pandas profiling\n",
    "crm_profile = ProfileReport(crm_df, \n",
    "                            title=\"CRM Data Profiling Report\", \n",
    "                            explorative=True)\n",
    "web_tracking_profile = ProfileReport(web_tracking_df, \n",
    "                                     title=\"Web Tracking Data Profiling Report\", \n",
    "                                     explorative=True)\n",
    "crm_profile.to_file(\"crm_data_profile.html\")\n",
    "web_tracking_profile.to_file(\"web_tracking_data_profile.html\")"
   ]
  },
  {
   "cell_type": "code",
   "execution_count": null,
   "id": "f8033601-6611-46bc-a62b-8a8234aac3ab",
   "metadata": {},
   "outputs": [],
   "source": []
  }
 ],
 "metadata": {
  "kernelspec": {
   "display_name": "Python 3 (ipykernel)",
   "language": "python",
   "name": "python3"
  },
  "language_info": {
   "codemirror_mode": {
    "name": "ipython",
    "version": 3
   },
   "file_extension": ".py",
   "mimetype": "text/x-python",
   "name": "python",
   "nbconvert_exporter": "python",
   "pygments_lexer": "ipython3",
   "version": "3.12.7"
  }
 },
 "nbformat": 4,
 "nbformat_minor": 5
}
