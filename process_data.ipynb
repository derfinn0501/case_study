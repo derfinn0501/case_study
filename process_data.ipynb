{
 "cells": [
  {
   "cell_type": "markdown",
   "id": "73b1ebaa",
   "metadata": {},
   "source": [
    "# Imports and reading data"
   ]
  },
  {
   "cell_type": "code",
   "execution_count": 3,
   "id": "70a2d261-0468-46b4-9f3a-3d9c5693c89e",
   "metadata": {},
   "outputs": [
    {
     "name": "stderr",
     "output_type": "stream",
     "text": [
      "c:\\Users\\Finn Kopmann\\Dokumente\\Beruf und Finanzen\\Fortbildung\\data engineer\\projects\\case_study\\case_study\\.venv\\Lib\\site-packages\\tqdm\\auto.py:21: TqdmWarning: IProgress not found. Please update jupyter and ipywidgets. See https://ipywidgets.readthedocs.io/en/stable/user_install.html\n",
      "  from .autonotebook import tqdm as notebook_tqdm\n"
     ]
    },
    {
     "data": {
      "text/html": [
       "\n",
       "            <div>\n",
       "                <ins><a href=\"https://ydata.ai/register\">Upgrade to ydata-sdk</a></ins>\n",
       "                <p>\n",
       "                    Improve your data and profiling with ydata-sdk, featuring data quality scoring, redundancy detection, outlier identification, text validation, and synthetic data generation.\n",
       "                </p>\n",
       "            </div>\n",
       "            "
      ],
      "text/plain": [
       "<IPython.core.display.HTML object>"
      ]
     },
     "metadata": {},
     "output_type": "display_data"
    }
   ],
   "source": [
    "import os\n",
    "import pandas as pd\n",
    "import matplotlib.pyplot as plt\n",
    "from ydata_profiling import ProfileReport\n",
    "\n",
    "DATA_FOLDER = \"data\"\n",
    "PLOT_FOLDER = \"plots\"\n",
    "CRM_PATH = os.path.join(DATA_FOLDER, \"crm_data.csv\")\n",
    "WEB_TRACKING_PATH = os.path.join(DATA_FOLDER, \"web_tracking.csv\")"
   ]
  },
  {
   "cell_type": "code",
   "execution_count": 2,
   "id": "062923e2-b244-418e-af93-6ed98da4fea7",
   "metadata": {},
   "outputs": [
    {
     "ename": "FileExistsError",
     "evalue": "[WinError 183] Eine Datei kann nicht erstellt werden, wenn sie bereits vorhanden ist: 'plots'",
     "output_type": "error",
     "traceback": [
      "\u001b[1;31m---------------------------------------------------------------------------\u001b[0m",
      "\u001b[1;31mFileExistsError\u001b[0m                           Traceback (most recent call last)",
      "Cell \u001b[1;32mIn[2], line 1\u001b[0m\n\u001b[1;32m----> 1\u001b[0m os\u001b[38;5;241m.\u001b[39mmkdir(PLOT_FOLDER)\n",
      "\u001b[1;31mFileExistsError\u001b[0m: [WinError 183] Eine Datei kann nicht erstellt werden, wenn sie bereits vorhanden ist: 'plots'"
     ]
    }
   ],
   "source": [
    "os.mkdir(PLOT_FOLDER)"
   ]
  },
  {
   "cell_type": "code",
   "execution_count": 4,
   "id": "b4233e6f",
   "metadata": {},
   "outputs": [],
   "source": [
    "crm_df = pd.read_csv(CRM_PATH)\n",
    "web_tracking_df = pd.read_csv(WEB_TRACKING_PATH)"
   ]
  },
  {
   "cell_type": "markdown",
   "id": "a6b4ce78",
   "metadata": {},
   "source": [
    "# EDA + Data validation"
   ]
  },
  {
   "cell_type": "markdown",
   "id": "52c9dcc9",
   "metadata": {},
   "source": [
    "## CRM"
   ]
  },
  {
   "cell_type": "code",
   "execution_count": 5,
   "id": "5739d314",
   "metadata": {},
   "outputs": [
    {
     "data": {
      "text/html": [
       "<div>\n",
       "<style scoped>\n",
       "    .dataframe tbody tr th:only-of-type {\n",
       "        vertical-align: middle;\n",
       "    }\n",
       "\n",
       "    .dataframe tbody tr th {\n",
       "        vertical-align: top;\n",
       "    }\n",
       "\n",
       "    .dataframe thead th {\n",
       "        text-align: right;\n",
       "    }\n",
       "</style>\n",
       "<table border=\"1\" class=\"dataframe\">\n",
       "  <thead>\n",
       "    <tr style=\"text-align: right;\">\n",
       "      <th></th>\n",
       "      <th>user_id</th>\n",
       "      <th>lead_status</th>\n",
       "      <th>company</th>\n",
       "      <th>sign_up_date</th>\n",
       "      <th>industry</th>\n",
       "      <th>country</th>\n",
       "    </tr>\n",
       "  </thead>\n",
       "  <tbody>\n",
       "    <tr>\n",
       "      <th>0</th>\n",
       "      <td>137</td>\n",
       "      <td>Converted</td>\n",
       "      <td>Company_0</td>\n",
       "      <td>2024-03-09</td>\n",
       "      <td>Healthcare</td>\n",
       "      <td>US</td>\n",
       "    </tr>\n",
       "    <tr>\n",
       "      <th>1</th>\n",
       "      <td>163</td>\n",
       "      <td>Converted</td>\n",
       "      <td>Company_1</td>\n",
       "      <td>2024-03-01</td>\n",
       "      <td>Finance</td>\n",
       "      <td>UK</td>\n",
       "    </tr>\n",
       "    <tr>\n",
       "      <th>2</th>\n",
       "      <td>103</td>\n",
       "      <td>Prospect</td>\n",
       "      <td>Company_2</td>\n",
       "      <td>2024-03-02</td>\n",
       "      <td>Healthcare</td>\n",
       "      <td>France</td>\n",
       "    </tr>\n",
       "    <tr>\n",
       "      <th>3</th>\n",
       "      <td>163</td>\n",
       "      <td>Lost</td>\n",
       "      <td>Company_3</td>\n",
       "      <td>2024-03-01</td>\n",
       "      <td>SaaS</td>\n",
       "      <td>US</td>\n",
       "    </tr>\n",
       "    <tr>\n",
       "      <th>4</th>\n",
       "      <td>171</td>\n",
       "      <td>Lost</td>\n",
       "      <td>Company_4</td>\n",
       "      <td>2024-03-07</td>\n",
       "      <td>Healthcare</td>\n",
       "      <td>Germany</td>\n",
       "    </tr>\n",
       "  </tbody>\n",
       "</table>\n",
       "</div>"
      ],
      "text/plain": [
       "   user_id lead_status    company sign_up_date    industry  country\n",
       "0      137   Converted  Company_0   2024-03-09  Healthcare       US\n",
       "1      163   Converted  Company_1   2024-03-01     Finance       UK\n",
       "2      103    Prospect  Company_2   2024-03-02  Healthcare   France\n",
       "3      163        Lost  Company_3   2024-03-01        SaaS       US\n",
       "4      171        Lost  Company_4   2024-03-07  Healthcare  Germany"
      ]
     },
     "execution_count": 5,
     "metadata": {},
     "output_type": "execute_result"
    }
   ],
   "source": [
    "crm_df.head()"
   ]
  },
  {
   "cell_type": "code",
   "execution_count": 6,
   "id": "00b245aa",
   "metadata": {},
   "outputs": [
    {
     "name": "stdout",
     "output_type": "stream",
     "text": [
      "<class 'pandas.core.frame.DataFrame'>\n",
      "RangeIndex: 60 entries, 0 to 59\n",
      "Data columns (total 6 columns):\n",
      " #   Column        Non-Null Count  Dtype \n",
      "---  ------        --------------  ----- \n",
      " 0   user_id       60 non-null     int64 \n",
      " 1   lead_status   60 non-null     object\n",
      " 2   company       60 non-null     object\n",
      " 3   sign_up_date  60 non-null     object\n",
      " 4   industry      60 non-null     object\n",
      " 5   country       60 non-null     object\n",
      "dtypes: int64(1), object(5)\n",
      "memory usage: 2.9+ KB\n"
     ]
    }
   ],
   "source": [
    "crm_df.info()"
   ]
  },
  {
   "cell_type": "code",
   "execution_count": 7,
   "id": "7441e2fb-6f9d-4e1d-8dcf-70641764e45f",
   "metadata": {},
   "outputs": [
    {
     "data": {
      "text/plain": [
       "user_id         0\n",
       "lead_status     0\n",
       "company         0\n",
       "sign_up_date    0\n",
       "industry        0\n",
       "country         0\n",
       "dtype: int64"
      ]
     },
     "execution_count": 7,
     "metadata": {},
     "output_type": "execute_result"
    }
   ],
   "source": [
    "crm_df.isna().sum()"
   ]
  },
  {
   "cell_type": "code",
   "execution_count": 8,
   "id": "e92cc38f",
   "metadata": {},
   "outputs": [
    {
     "data": {
      "text/plain": [
       "user_id         47\n",
       "lead_status      3\n",
       "company         60\n",
       "sign_up_date    11\n",
       "industry         4\n",
       "country          4\n",
       "dtype: int64"
      ]
     },
     "execution_count": 8,
     "metadata": {},
     "output_type": "execute_result"
    }
   ],
   "source": [
    "crm_df.nunique()"
   ]
  },
  {
   "cell_type": "markdown",
   "id": "a9103c37-6ed6-4676-b584-44c6e904c832",
   "metadata": {},
   "source": [
    "**Warning:** user_id is not unique"
   ]
  },
  {
   "cell_type": "markdown",
   "id": "0543b895",
   "metadata": {},
   "source": [
    "Decide which users to keep based on latest sign_up_date.\n",
    "Therefore transform sign_up_date to proper dimensions."
   ]
  },
  {
   "cell_type": "code",
   "execution_count": 12,
   "id": "7f60f936-a19b-4ccf-9f12-73cb05febcc3",
   "metadata": {},
   "outputs": [],
   "source": [
    "crm_df[\"sign_up_date\"] = pd.to_datetime(crm_df[\"sign_up_date\"])"
   ]
  },
  {
   "cell_type": "code",
   "execution_count": 13,
   "id": "d1a50ebd-1b2d-4ab3-a56f-5e9290f3b9b2",
   "metadata": {},
   "outputs": [],
   "source": [
    "crm_df.sort_values(\"sign_up_date\", inplace=True)"
   ]
  },
  {
   "cell_type": "code",
   "execution_count": 14,
   "id": "2ecd7707",
   "metadata": {},
   "outputs": [],
   "source": [
    "crm_df.drop_duplicates(subset='user_id', keep=\"last\", inplace=True)"
   ]
  },
  {
   "cell_type": "code",
   "execution_count": 15,
   "id": "0b10fbbe",
   "metadata": {},
   "outputs": [
    {
     "data": {
      "text/plain": [
       "count                               47\n",
       "mean     2024-03-06 07:39:34.468084992\n",
       "min                2024-03-01 00:00:00\n",
       "25%                2024-03-03 00:00:00\n",
       "50%                2024-03-07 00:00:00\n",
       "75%                2024-03-09 12:00:00\n",
       "max                2024-03-11 00:00:00\n",
       "Name: sign_up_date, dtype: object"
      ]
     },
     "execution_count": 15,
     "metadata": {},
     "output_type": "execute_result"
    }
   ],
   "source": [
    "crm_df[\"sign_up_date\"].describe()"
   ]
  },
  {
   "cell_type": "code",
   "execution_count": 16,
   "id": "a2464795",
   "metadata": {},
   "outputs": [
    {
     "data": {
      "text/html": [
       "<div>\n",
       "<style scoped>\n",
       "    .dataframe tbody tr th:only-of-type {\n",
       "        vertical-align: middle;\n",
       "    }\n",
       "\n",
       "    .dataframe tbody tr th {\n",
       "        vertical-align: top;\n",
       "    }\n",
       "\n",
       "    .dataframe thead th {\n",
       "        text-align: right;\n",
       "    }\n",
       "</style>\n",
       "<table border=\"1\" class=\"dataframe\">\n",
       "  <thead>\n",
       "    <tr style=\"text-align: right;\">\n",
       "      <th></th>\n",
       "      <th>user_id</th>\n",
       "      <th>lead_status</th>\n",
       "      <th>company</th>\n",
       "      <th>sign_up_date</th>\n",
       "      <th>industry</th>\n",
       "      <th>country</th>\n",
       "    </tr>\n",
       "  </thead>\n",
       "  <tbody>\n",
       "  </tbody>\n",
       "</table>\n",
       "</div>"
      ],
      "text/plain": [
       "Empty DataFrame\n",
       "Columns: [user_id, lead_status, company, sign_up_date, industry, country]\n",
       "Index: []"
      ]
     },
     "execution_count": 16,
     "metadata": {},
     "output_type": "execute_result"
    }
   ],
   "source": [
    "crm_df[crm_df.user_id.duplicated()] "
   ]
  },
  {
   "cell_type": "markdown",
   "id": "53f332b1",
   "metadata": {},
   "source": [
    "#### Calculate Conversion Rate"
   ]
  },
  {
   "cell_type": "code",
   "execution_count": 18,
   "id": "86ebf7c7-5771-4d88-9a27-ec78025eece1",
   "metadata": {},
   "outputs": [
    {
     "name": "stdout",
     "output_type": "stream",
     "text": [
      "Conversion Rate = 0.425531914893617\n"
     ]
    }
   ],
   "source": [
    "print(f'Conversion Rate = {(crm_df[\"lead_status\"] == \"Converted\").sum() / len(crm_df)}')"
   ]
  },
  {
   "cell_type": "markdown",
   "id": "e272396a",
   "metadata": {},
   "source": [
    "### Distributions"
   ]
  },
  {
   "cell_type": "code",
   "execution_count": 19,
   "id": "b4ae626b-4435-433e-9032-07f87e7f25f4",
   "metadata": {},
   "outputs": [],
   "source": [
    "def plot_column_distribution(df, col_name, output_path=None):\n",
    "    counts = df[col_name].value_counts()\n",
    "    print(counts)\n",
    "\n",
    "    fig, ax = plt.subplots()\n",
    "    counts.plot(kind=\"bar\", ax=ax)\n",
    "\n",
    "    ax.set_xlabel(col_name)\n",
    "    ax.set_ylabel(\"Count\")\n",
    "    ax.set_title(f\"Distribution of {col_name}\")\n",
    "\n",
    "    ax.grid(axis=\"y\", linestyle=\"--\")\n",
    "\n",
    "    plt.tight_layout()\n",
    "\n",
    "    if output_path:\n",
    "        plt.savefig(os.path.join(PLOT_FOLDER, output_path), format=\"png\")\n",
    "        # plt.close()\n",
    "\n",
    "    return ax"
   ]
  },
  {
   "cell_type": "code",
   "execution_count": 20,
   "id": "12a7fbc7-c0fa-48f1-9971-9075a4034f9f",
   "metadata": {},
   "outputs": [
    {
     "name": "stdout",
     "output_type": "stream",
     "text": [
      "lead_status\n",
      "Converted    20\n",
      "Lost         15\n",
      "Prospect     12\n",
      "Name: count, dtype: int64\n"
     ]
    },
    {
     "data": {
      "text/plain": [
       "<Axes: title={'center': 'Distribution of lead_status'}, xlabel='lead_status', ylabel='Count'>"
      ]
     },
     "execution_count": 20,
     "metadata": {},
     "output_type": "execute_result"
    },
    {
     "data": {
      "image/png": "[encoded data removed]",
      "text/plain": [
       "<Figure size 640x480 with 1 Axes>"
      ]
     },
     "metadata": {},
     "output_type": "display_data"
    }
   ],
   "source": [
    "plot_column_distribution(crm_df, \"lead_status\", \"lead_status_distribution.png\")"
   ]
  },
  {
   "cell_type": "code",
   "execution_count": 21,
   "id": "555f24d6",
   "metadata": {
    "scrolled": true
   },
   "outputs": [
    {
     "name": "stdout",
     "output_type": "stream",
     "text": [
      "industry\n",
      "Finance       15\n",
      "E-commerce    14\n",
      "SaaS          12\n",
      "Healthcare     6\n",
      "Name: count, dtype: int64\n"
     ]
    },
    {
     "data": {
      "text/plain": [
       "<Axes: title={'center': 'Distribution of industry'}, xlabel='industry', ylabel='Count'>"
      ]
     },
     "execution_count": 21,
     "metadata": {},
     "output_type": "execute_result"
    },
    {
     "data": {
      "image/png": "[encoded data removed]",
      "text/plain": [
       "<Figure size 640x480 with 1 Axes>"
      ]
     },
     "metadata": {},
     "output_type": "display_data"
    }
   ],
   "source": [
    "plot_column_distribution(crm_df, \"industry\", \"industry_distribution.png\")"
   ]
  },
  {
   "cell_type": "code",
   "execution_count": 22,
   "id": "2c97cc19",
   "metadata": {},
   "outputs": [
    {
     "name": "stdout",
     "output_type": "stream",
     "text": [
      "country\n",
      "US         23\n",
      "UK         11\n",
      "Germany    10\n",
      "France      3\n",
      "Name: count, dtype: int64\n"
     ]
    },
    {
     "data": {
      "text/plain": [
       "<Axes: title={'center': 'Distribution of country'}, xlabel='country', ylabel='Count'>"
      ]
     },
     "execution_count": 22,
     "metadata": {},
     "output_type": "execute_result"
    },
    {
     "data": {
      "image/png": "[encoded data removed]",
      "text/plain": [
       "<Figure size 640x480 with 1 Axes>"
      ]
     },
     "metadata": {},
     "output_type": "display_data"
    }
   ],
   "source": [
    "plot_column_distribution(crm_df, \"country\", \"country_distribution.png\")"
   ]
  },
  {
   "cell_type": "markdown",
   "id": "1e176666-7b03-4c45-a64b-1d361c81af64",
   "metadata": {},
   "source": [
    "- There are three options for lead_status: (\"converted\", \"lost\", \"prospect\")\n",
    "- lead_status = \"converted\" is the most likely to appear with 25 incides (42%)\n",
    "- The largest groups of web activity:\n",
    "    - Industry: Finance (22)\n",
    "    - Country: US (27)\n",
    "- The smallest groups of web activity:\n",
    "    - Industry: Healthcare (9)\n",
    "    - Country: France (7) "
   ]
  },
  {
   "cell_type": "markdown",
   "id": "479ed1b5",
   "metadata": {},
   "source": [
    "### Conversion rates"
   ]
  },
  {
   "cell_type": "code",
   "execution_count": 23,
   "id": "d6847c4d",
   "metadata": {},
   "outputs": [],
   "source": [
    "def get_conversion_rate(values, prospects = True):\n",
    "    num_converted = values[values == \"Converted\"].shape[0]\n",
    "    if prospects:\n",
    "        total = values.shape[0]\n",
    "    else:\n",
    "        total = values[values != \"Prospect\"].shape[0]\n",
    "    percentage = num_converted / total * 100\n",
    "    return percentage"
   ]
  },
  {
   "cell_type": "code",
   "execution_count": 24,
   "id": "8d89e344-bbc8-41b6-8201-672176a7884a",
   "metadata": {},
   "outputs": [],
   "source": [
    "def plot_conversion_rate_by_column(df, col_name, prospects=True, output_path=None):\n",
    "    conv_rate = df.groupby(col_name)[\"lead_status\"].apply(lambda x: get_conversion_rate(x, prospects))\n",
    "    sorted_conv_rates = conv_rate.sort_values(ascending=False)\n",
    "    print(sorted_conv_rates)\n",
    "\n",
    "    ax = sorted_conv_rates.plot(kind=\"bar\")\n",
    "    ax.set_xlabel(col_name)\n",
    "    ax.set_ylabel(\"Conversion Rate\")\n",
    "    ax.set_title(f\"Conversion Rate by {col_name}\")\n",
    "    ax.grid(axis=\"y\", linestyle=\"--\")\n",
    "\n",
    "    plt.tight_layout()\n",
    "\n",
    "    if output_path:\n",
    "        plt.savefig(os.path.join(PLOT_FOLDER, output_path), format=\"png\")\n",
    "        # plt.close()\n",
    "    \n",
    "    return ax"
   ]
  },
  {
   "cell_type": "code",
   "execution_count": 26,
   "id": "95bdc66f",
   "metadata": {
    "scrolled": true
   },
   "outputs": [
    {
     "name": "stdout",
     "output_type": "stream",
     "text": [
      "country\n",
      "US         56.521739\n",
      "UK         36.363636\n",
      "France     33.333333\n",
      "Germany    20.000000\n",
      "Name: lead_status, dtype: float64\n"
     ]
    },
    {
     "data": {
      "text/plain": [
       "<Axes: title={'center': 'Conversion Rate by country'}, xlabel='country', ylabel='Conversion Rate'>"
      ]
     },
     "execution_count": 26,
     "metadata": {},
     "output_type": "execute_result"
    },
    {
     "data": {
      "image/png": "[encoded data removed]",
      "text/plain": [
       "<Figure size 640x480 with 1 Axes>"
      ]
     },
     "metadata": {},
     "output_type": "display_data"
    }
   ],
   "source": [
    "plot_conversion_rate_by_column(crm_df, \"country\", output_path=\"conversion_rate_by_country.png\")"
   ]
  },
  {
   "cell_type": "code",
   "execution_count": 27,
   "id": "310011bc-bfa2-4542-a914-b59ba839de65",
   "metadata": {},
   "outputs": [
    {
     "name": "stdout",
     "output_type": "stream",
     "text": [
      "industry\n",
      "Healthcare    83.333333\n",
      "SaaS          41.666667\n",
      "E-commerce    35.714286\n",
      "Finance       33.333333\n",
      "Name: lead_status, dtype: float64\n"
     ]
    },
    {
     "data": {
      "text/plain": [
       "<Axes: title={'center': 'Conversion Rate by industry'}, xlabel='industry', ylabel='Conversion Rate'>"
      ]
     },
     "execution_count": 27,
     "metadata": {},
     "output_type": "execute_result"
    },
    {
     "data": {
      "image/png": "[encoded data removed]",
      "text/plain": [
       "<Figure size 640x480 with 1 Axes>"
      ]
     },
     "metadata": {},
     "output_type": "display_data"
    }
   ],
   "source": [
    "plot_conversion_rate_by_column(crm_df, \"industry\", output_path=\"conversion_rate_by_industry.png\")"
   ]
  },
  {
   "cell_type": "markdown",
   "id": "84e79784-a1bc-4b78-8aea-00e34d724c03",
   "metadata": {},
   "source": [
    "- The US has highest conversion rate (59%) in contrast to France with the lowest (14%)\n",
    "- Healthcare has highest conversion rate (55%) in contrast to E-commerce (36%)\n",
    "- **NOTE:** This conversion rate calculation also includes lead_status = \"prospects\""
   ]
  },
  {
   "cell_type": "code",
   "execution_count": 28,
   "id": "2016579c-707f-4294-8bed-c10bb3a64365",
   "metadata": {},
   "outputs": [
    {
     "name": "stdout",
     "output_type": "stream",
     "text": [
      "industry\n",
      "Healthcare    83.333333\n",
      "SaaS          62.500000\n",
      "E-commerce    50.000000\n",
      "Finance       45.454545\n",
      "Name: lead_status, dtype: float64\n"
     ]
    },
    {
     "data": {
      "text/plain": [
       "<Axes: title={'center': 'Conversion Rate by industry'}, xlabel='industry', ylabel='Conversion Rate'>"
      ]
     },
     "execution_count": 28,
     "metadata": {},
     "output_type": "execute_result"
    },
    {
     "data": {
      "image/png": "[encoded data removed]",
      "text/plain": [
       "<Figure size 640x480 with 1 Axes>"
      ]
     },
     "metadata": {},
     "output_type": "display_data"
    }
   ],
   "source": [
    "plot_conversion_rate_by_column(crm_df, \"industry\", False, \"conversion_rate_by_industry_no_prospects.png\")"
   ]
  },
  {
   "cell_type": "code",
   "execution_count": 29,
   "id": "1b92c277-ea33-4083-bc88-5f4a28ba294a",
   "metadata": {},
   "outputs": [
    {
     "name": "stdout",
     "output_type": "stream",
     "text": [
      "country\n",
      "US         68.421053\n",
      "UK         57.142857\n",
      "Germany    33.333333\n",
      "France     33.333333\n",
      "Name: lead_status, dtype: float64\n"
     ]
    },
    {
     "data": {
      "text/plain": [
       "<Axes: title={'center': 'Conversion Rate by country'}, xlabel='country', ylabel='Conversion Rate'>"
      ]
     },
     "execution_count": 29,
     "metadata": {},
     "output_type": "execute_result"
    },
    {
     "data": {
      "image/png": "[encoded data removed]",
      "text/plain": [
       "<Figure size 640x480 with 1 Axes>"
      ]
     },
     "metadata": {},
     "output_type": "display_data"
    }
   ],
   "source": [
    "plot_conversion_rate_by_column(crm_df, \"country\",  False, \"conversion_rate_by_country_no_prospects.png\")"
   ]
  },
  {
   "cell_type": "markdown",
   "id": "63985c92-ffea-43a6-bf1d-d857b2ff7f23",
   "metadata": {},
   "source": [
    "- findings change drastically by not including lead_status = \"Prospect\"\n",
    "    - Industry: Conversion rate differences are less between industries (ranges from 51% (E-commerce) to 71% (Healthcare)\n",
    "    - Country: The lowest country now is Germany with 25% and US with increased conversionrate of 69%"
   ]
  },
  {
   "cell_type": "markdown",
   "id": "5ca9d8ad-3096-44d6-af02-402afc356811",
   "metadata": {},
   "source": [
    "## Web Tracking Data"
   ]
  },
  {
   "cell_type": "code",
   "execution_count": 161,
   "id": "82724121",
   "metadata": {},
   "outputs": [
    {
     "data": {
      "text/plain": [
       "Index(['user_id', 'session_id', 'timestamp', 'page', 'time_spent_sec',\n",
       "       'utm_source', 'utm_medium', 'device_type'],\n",
       "      dtype='object')"
      ]
     },
     "execution_count": 161,
     "metadata": {},
     "output_type": "execute_result"
    }
   ],
   "source": [
    "web_tracking_df.columns"
   ]
  },
  {
   "cell_type": "code",
   "execution_count": 162,
   "id": "154be38a-ef89-48be-bbfd-23fee41c10cc",
   "metadata": {},
   "outputs": [
    {
     "data": {
      "text/html": [
       "<div>\n",
       "<style scoped>\n",
       "    .dataframe tbody tr th:only-of-type {\n",
       "        vertical-align: middle;\n",
       "    }\n",
       "\n",
       "    .dataframe tbody tr th {\n",
       "        vertical-align: top;\n",
       "    }\n",
       "\n",
       "    .dataframe thead th {\n",
       "        text-align: right;\n",
       "    }\n",
       "</style>\n",
       "<table border=\"1\" class=\"dataframe\">\n",
       "  <thead>\n",
       "    <tr style=\"text-align: right;\">\n",
       "      <th></th>\n",
       "      <th>user_id</th>\n",
       "      <th>session_id</th>\n",
       "      <th>timestamp</th>\n",
       "      <th>page</th>\n",
       "      <th>time_spent_sec</th>\n",
       "      <th>utm_source</th>\n",
       "      <th>utm_medium</th>\n",
       "      <th>device_type</th>\n",
       "    </tr>\n",
       "  </thead>\n",
       "  <tbody>\n",
       "    <tr>\n",
       "      <th>34</th>\n",
       "      <td>159</td>\n",
       "      <td>s034</td>\n",
       "      <td>2024-03-01 01:18:00</td>\n",
       "      <td>/features</td>\n",
       "      <td>90</td>\n",
       "      <td>google</td>\n",
       "      <td>organic</td>\n",
       "      <td>mobile</td>\n",
       "    </tr>\n",
       "    <tr>\n",
       "      <th>36</th>\n",
       "      <td>114</td>\n",
       "      <td>s036</td>\n",
       "      <td>2024-03-01 01:28:00</td>\n",
       "      <td>/contact</td>\n",
       "      <td>122</td>\n",
       "      <td>newsletter</td>\n",
       "      <td>cpc</td>\n",
       "      <td>mobile</td>\n",
       "    </tr>\n",
       "    <tr>\n",
       "      <th>90</th>\n",
       "      <td>171</td>\n",
       "      <td>s090</td>\n",
       "      <td>2024-03-01 01:45:00</td>\n",
       "      <td>/contact</td>\n",
       "      <td>217</td>\n",
       "      <td>google</td>\n",
       "      <td>referral</td>\n",
       "      <td>desktop</td>\n",
       "    </tr>\n",
       "    <tr>\n",
       "      <th>97</th>\n",
       "      <td>181</td>\n",
       "      <td>s097</td>\n",
       "      <td>2024-03-01 03:04:00</td>\n",
       "      <td>/contact</td>\n",
       "      <td>84</td>\n",
       "      <td>google</td>\n",
       "      <td>organic</td>\n",
       "      <td>mobile</td>\n",
       "    </tr>\n",
       "    <tr>\n",
       "      <th>82</th>\n",
       "      <td>133</td>\n",
       "      <td>s082</td>\n",
       "      <td>2024-03-01 04:29:00</td>\n",
       "      <td>/pricing</td>\n",
       "      <td>263</td>\n",
       "      <td>newsletter</td>\n",
       "      <td>cpc</td>\n",
       "      <td>mobile</td>\n",
       "    </tr>\n",
       "  </tbody>\n",
       "</table>\n",
       "</div>"
      ],
      "text/plain": [
       "    user_id session_id           timestamp       page  time_spent_sec  \\\n",
       "34      159       s034 2024-03-01 01:18:00  /features              90   \n",
       "36      114       s036 2024-03-01 01:28:00   /contact             122   \n",
       "90      171       s090 2024-03-01 01:45:00   /contact             217   \n",
       "97      181       s097 2024-03-01 03:04:00   /contact              84   \n",
       "82      133       s082 2024-03-01 04:29:00   /pricing             263   \n",
       "\n",
       "    utm_source utm_medium device_type  \n",
       "34      google    organic      mobile  \n",
       "36  newsletter        cpc      mobile  \n",
       "90      google   referral     desktop  \n",
       "97      google    organic      mobile  \n",
       "82  newsletter        cpc      mobile  "
      ]
     },
     "execution_count": 162,
     "metadata": {},
     "output_type": "execute_result"
    }
   ],
   "source": [
    "web_tracking_df.head()"
   ]
  },
  {
   "cell_type": "code",
   "execution_count": 163,
   "id": "3298951d-7bc5-4ab9-a8a3-67abf5ea4d31",
   "metadata": {},
   "outputs": [
    {
     "data": {
      "text/plain": [
       "user_id            61\n",
       "session_id        100\n",
       "timestamp          99\n",
       "page                4\n",
       "time_spent_sec     74\n",
       "utm_source          4\n",
       "utm_medium          4\n",
       "device_type         3\n",
       "dtype: int64"
      ]
     },
     "execution_count": 163,
     "metadata": {},
     "output_type": "execute_result"
    }
   ],
   "source": [
    "web_tracking_df.nunique()"
   ]
  },
  {
   "cell_type": "code",
   "execution_count": 164,
   "id": "d88ce380-57e4-4f2c-8388-eedf05c5bec5",
   "metadata": {},
   "outputs": [
    {
     "name": "stdout",
     "output_type": "stream",
     "text": [
      "<class 'pandas.core.frame.DataFrame'>\n",
      "Index: 100 entries, 34 to 39\n",
      "Data columns (total 8 columns):\n",
      " #   Column          Non-Null Count  Dtype         \n",
      "---  ------          --------------  -----         \n",
      " 0   user_id         100 non-null    int64         \n",
      " 1   session_id      100 non-null    object        \n",
      " 2   timestamp       100 non-null    datetime64[ns]\n",
      " 3   page            100 non-null    object        \n",
      " 4   time_spent_sec  100 non-null    int64         \n",
      " 5   utm_source      100 non-null    object        \n",
      " 6   utm_medium      100 non-null    object        \n",
      " 7   device_type     100 non-null    object        \n",
      "dtypes: datetime64[ns](1), int64(2), object(5)\n",
      "memory usage: 11.1+ KB\n"
     ]
    }
   ],
   "source": [
    "web_tracking_df.info()"
   ]
  },
  {
   "cell_type": "code",
   "execution_count": 165,
   "id": "0f2ce5b3-bd10-4e7a-b10b-7af6f1aff393",
   "metadata": {},
   "outputs": [],
   "source": [
    "web_tracking_df[\"timestamp\"] = pd.to_datetime(web_tracking_df[\"timestamp\"])"
   ]
  },
  {
   "cell_type": "markdown",
   "id": "cddd908c",
   "metadata": {},
   "source": [
    "### Time spent"
   ]
  },
  {
   "cell_type": "code",
   "execution_count": 166,
   "id": "8c2e5999-7304-4a6a-9296-3d1724d7e547",
   "metadata": {},
   "outputs": [
    {
     "data": {
      "text/plain": [
       "count    100.000000\n",
       "mean     163.750000\n",
       "std       71.941106\n",
       "min       11.000000\n",
       "25%      121.750000\n",
       "50%      156.500000\n",
       "75%      227.500000\n",
       "max      295.000000\n",
       "Name: time_spent_sec, dtype: float64"
      ]
     },
     "execution_count": 166,
     "metadata": {},
     "output_type": "execute_result"
    }
   ],
   "source": [
    "web_tracking_df.time_spent_sec.describe()"
   ]
  },
  {
   "cell_type": "code",
   "execution_count": 167,
   "id": "875cdc09-731d-4ee3-a75b-d9d584353e1b",
   "metadata": {},
   "outputs": [
    {
     "data": {
      "text/plain": [
       "count                              100\n",
       "mean     2024-03-04 12:31:25.199999744\n",
       "min                2024-03-01 01:18:00\n",
       "25%                2024-03-02 18:32:15\n",
       "50%                2024-03-04 16:09:30\n",
       "75%                2024-03-06 04:45:15\n",
       "max                2024-03-07 21:13:00\n",
       "Name: timestamp, dtype: object"
      ]
     },
     "execution_count": 167,
     "metadata": {},
     "output_type": "execute_result"
    }
   ],
   "source": [
    "web_tracking_df.timestamp.describe()"
   ]
  },
  {
   "cell_type": "markdown",
   "id": "71b11537-0bc4-4ca6-b2c7-a660dcc14055",
   "metadata": {},
   "source": [
    "**NOTE:** Web tracking until 03-07, but users signed up until 03-10"
   ]
  },
  {
   "cell_type": "code",
   "execution_count": 168,
   "id": "7b9ab627-16d2-457e-8a78-2dc8068d7c2c",
   "metadata": {},
   "outputs": [],
   "source": [
    "def plot_time_spent_hist(df, time_col='time_spent_sec', output_path=None):\n",
    "    ax = df[time_col].plot(kind=\"hist\")\n",
    "\n",
    "    ax.set_xlabel('Time Spent (seconds)')\n",
    "    ax.set_ylabel('Frequency')\n",
    "    ax.set_title('Distribution of Time Spent')\n",
    "\n",
    "    if output_path:\n",
    "        plt.savefig(os.path.join(PLOT_FOLDER, output_path), format=\"png\")\n",
    "        # plt.close()\n",
    "\n",
    "    return ax\n"
   ]
  },
  {
   "cell_type": "code",
   "execution_count": 169,
   "id": "48bab97e-9375-4ae4-ab68-1fded74f828f",
   "metadata": {},
   "outputs": [
    {
     "data": {
      "text/plain": [
       "<Axes: title={'center': 'Distribution of Time Spent'}, xlabel='Time Spent (seconds)', ylabel='Frequency'>"
      ]
     },
     "execution_count": 169,
     "metadata": {},
     "output_type": "execute_result"
    },
    {
     "data": {
      "image/png": "[encoded data removed]",
      "text/plain": [
       "<Figure size 640x480 with 1 Axes>"
      ]
     },
     "metadata": {},
     "output_type": "display_data"
    }
   ],
   "source": [
    "plot_time_spent_hist(df=web_tracking_df, output_path='hist.png')"
   ]
  },
  {
   "cell_type": "code",
   "execution_count": 170,
   "id": "4aeb2baf-824a-42dc-8278-76dd8b916a47",
   "metadata": {},
   "outputs": [
    {
     "data": {
      "text/plain": [
       "count    100.000000\n",
       "mean     163.750000\n",
       "std       71.941106\n",
       "min       11.000000\n",
       "25%      121.750000\n",
       "50%      156.500000\n",
       "75%      227.500000\n",
       "max      295.000000\n",
       "Name: time_spent_sec, dtype: float64"
      ]
     },
     "execution_count": 170,
     "metadata": {},
     "output_type": "execute_result"
    }
   ],
   "source": [
    "web_tracking_df.time_spent_sec.describe()"
   ]
  },
  {
   "cell_type": "markdown",
   "id": "b539a9b5",
   "metadata": {},
   "source": [
    "### Missing users"
   ]
  },
  {
   "cell_type": "code",
   "execution_count": 171,
   "id": "d88e2d61-ca29-4b1f-b602-f7da7e7872dd",
   "metadata": {},
   "outputs": [
    {
     "data": {
      "text/plain": [
       "user_id            61\n",
       "session_id        100\n",
       "timestamp          99\n",
       "page                4\n",
       "time_spent_sec     74\n",
       "utm_source          4\n",
       "utm_medium          4\n",
       "device_type         3\n",
       "dtype: int64"
      ]
     },
     "execution_count": 171,
     "metadata": {},
     "output_type": "execute_result"
    }
   ],
   "source": [
    "web_tracking_df.nunique()"
   ]
  },
  {
   "cell_type": "markdown",
   "id": "4380d3e3-1c70-4d77-a0d8-62b0090288e5",
   "metadata": {},
   "source": [
    "**Warning:** Some users are missing in the crm"
   ]
  },
  {
   "cell_type": "code",
   "execution_count": 172,
   "id": "1df14f2a-ad58-41b6-b3d0-b97d0b394372",
   "metadata": {},
   "outputs": [
    {
     "data": {
      "text/plain": [
       "14"
      ]
     },
     "execution_count": 172,
     "metadata": {},
     "output_type": "execute_result"
    }
   ],
   "source": [
    "missing_users = set(web_tracking_df[\"user_id\"]) - set(crm_df[\"user_id\"])\n",
    "len(missing_users)"
   ]
  },
  {
   "cell_type": "markdown",
   "id": "50542fd2-4b5d-44d6-a5a6-b38252077e82",
   "metadata": {},
   "source": [
    "**NOTE:** user_id {101, 105, 113, 129, 133, 135, 139, 148, 153, 172, 175, 179, 182, 186} have web tracking data but are missing for crm"
   ]
  },
  {
   "cell_type": "code",
   "execution_count": 173,
   "id": "cf449935-c297-419b-bd5a-7d4e41e378f7",
   "metadata": {},
   "outputs": [
    {
     "data": {
      "text/plain": [
       "user_id           0\n",
       "session_id        0\n",
       "timestamp         0\n",
       "page              0\n",
       "time_spent_sec    0\n",
       "utm_source        0\n",
       "utm_medium        0\n",
       "device_type       0\n",
       "dtype: int64"
      ]
     },
     "execution_count": 173,
     "metadata": {},
     "output_type": "execute_result"
    }
   ],
   "source": [
    "web_tracking_df.isna().sum()"
   ]
  },
  {
   "cell_type": "markdown",
   "id": "3b2428f7",
   "metadata": {},
   "source": [
    "### Time spent by columns"
   ]
  },
  {
   "cell_type": "code",
   "execution_count": 174,
   "id": "b2428af8",
   "metadata": {},
   "outputs": [],
   "source": [
    "def get_mean_by_column(df, col, mean_over=\"time_spent_sec\", plot=True):\n",
    "    if mean_over:\n",
    "        res = df.groupby(col)[mean_over].mean().sort_values(ascending=False)\n",
    "        if plot:\n",
    "            return res.plot(kind=\"bar\")\n",
    "        return res\n",
    "    raise ValueError(\"mean_over must be specified\")"
   ]
  },
  {
   "cell_type": "code",
   "execution_count": 175,
   "id": "d155704d",
   "metadata": {},
   "outputs": [
    {
     "data": {
      "text/plain": [
       "Index(['user_id', 'session_id', 'timestamp', 'page', 'time_spent_sec',\n",
       "       'utm_source', 'utm_medium', 'device_type'],\n",
       "      dtype='object')"
      ]
     },
     "execution_count": 175,
     "metadata": {},
     "output_type": "execute_result"
    }
   ],
   "source": [
    "web_tracking_df.columns"
   ]
  },
  {
   "cell_type": "code",
   "execution_count": 176,
   "id": "298793a2",
   "metadata": {},
   "outputs": [
    {
     "data": {
      "text/plain": [
       "page\n",
       "/features    187.352941\n",
       "/landing     172.357143\n",
       "/pricing     139.666667\n",
       "/contact     134.086957\n",
       "Name: time_spent_sec, dtype: float64"
      ]
     },
     "execution_count": 176,
     "metadata": {},
     "output_type": "execute_result"
    }
   ],
   "source": [
    "get_mean_by_column(web_tracking_df, \"page\", plot=False)"
   ]
  },
  {
   "cell_type": "code",
   "execution_count": 177,
   "id": "69de9f51",
   "metadata": {},
   "outputs": [
    {
     "data": {
      "text/plain": [
       "<Axes: xlabel='page'>"
      ]
     },
     "execution_count": 177,
     "metadata": {},
     "output_type": "execute_result"
    },
    {
     "data": {
      "image/png": "[encoded data removed]",
      "text/plain": [
       "<Figure size 640x480 with 1 Axes>"
      ]
     },
     "metadata": {},
     "output_type": "display_data"
    }
   ],
   "source": [
    "get_mean_by_column(web_tracking_df, \"page\", plot=True)"
   ]
  },
  {
   "cell_type": "markdown",
   "id": "ee479a8d",
   "metadata": {},
   "source": [
    "####Results\n",
    "Users spend the most time inspecting features of the product.\n",
    "--> check whether visiting /features is a indicator for conversion\n",
    "Users do spend the least time on /contact and /pricing.\n",
    "--> /contact makes sense, as they only get the contact and do not further interact\n",
    "--> /pricing needs further investigation wether its a significant factor for conversion\n",
    "\n",
    "\n"
   ]
  },
  {
   "cell_type": "code",
   "execution_count": 178,
   "id": "90e2f1de",
   "metadata": {},
   "outputs": [
    {
     "data": {
      "text/plain": [
       "utm_source\n",
       "linkedin      179.142857\n",
       "facebook      169.150000\n",
       "newsletter    167.933333\n",
       "google        144.551724\n",
       "Name: time_spent_sec, dtype: float64"
      ]
     },
     "execution_count": 178,
     "metadata": {},
     "output_type": "execute_result"
    }
   ],
   "source": [
    "\n",
    "get_mean_by_column(web_tracking_df, \"utm_source\", plot=False)"
   ]
  },
  {
   "cell_type": "code",
   "execution_count": 179,
   "id": "a6b5d857",
   "metadata": {},
   "outputs": [
    {
     "data": {
      "text/plain": [
       "<Axes: xlabel='utm_source'>"
      ]
     },
     "execution_count": 179,
     "metadata": {},
     "output_type": "execute_result"
    },
    {
     "data": {
      "image/png": "[encoded data removed]",
      "text/plain": [
       "<Figure size 640x480 with 1 Axes>"
      ]
     },
     "metadata": {},
     "output_type": "display_data"
    }
   ],
   "source": [
    "get_mean_by_column(web_tracking_df, \"utm_source\", plot=True)"
   ]
  },
  {
   "cell_type": "markdown",
   "id": "195004d4",
   "metadata": {},
   "source": [
    "Google leads to the least engagement with 179 seconds.\n",
    "LinkedIn leads to the most engagement with 145 seconds.\n",
    "Newsletter and Facebook lead to also rather high engagement."
   ]
  },
  {
   "cell_type": "code",
   "execution_count": 180,
   "id": "f35d4a02",
   "metadata": {},
   "outputs": [
    {
     "data": {
      "text/plain": [
       "utm_medium\n",
       "organic     171.666667\n",
       "email       169.968750\n",
       "cpc         165.555556\n",
       "referral    147.538462\n",
       "Name: time_spent_sec, dtype: float64"
      ]
     },
     "execution_count": 180,
     "metadata": {},
     "output_type": "execute_result"
    }
   ],
   "source": [
    "get_mean_by_column(web_tracking_df, \"utm_medium\", plot=False)"
   ]
  },
  {
   "cell_type": "code",
   "execution_count": 181,
   "id": "7106c0e3",
   "metadata": {},
   "outputs": [
    {
     "data": {
      "text/plain": [
       "<Axes: xlabel='utm_medium'>"
      ]
     },
     "execution_count": 181,
     "metadata": {},
     "output_type": "execute_result"
    },
    {
     "data": {
      "image/png": "[encoded data removed]",
      "text/plain": [
       "<Figure size 640x480 with 1 Axes>"
      ]
     },
     "metadata": {},
     "output_type": "display_data"
    }
   ],
   "source": [
    "get_mean_by_column(web_tracking_df, \"utm_medium\", plot=True)"
   ]
  },
  {
   "cell_type": "markdown",
   "id": "9a88ca66",
   "metadata": {},
   "source": [
    "Organic, Email and CPC lead to very similar engagements.  \n",
    "Does cpc not lead to higher engagement? --> check also conversion  \n",
    "Referral leads to the least engagement. --> what sources are causing referral?  "
   ]
  },
  {
   "cell_type": "code",
   "execution_count": 182,
   "id": "d4463ae1",
   "metadata": {},
   "outputs": [
    {
     "data": {
      "text/plain": [
       "device_type\n",
       "desktop    187.111111\n",
       "mobile     154.815789\n",
       "tablet     144.461538\n",
       "Name: time_spent_sec, dtype: float64"
      ]
     },
     "execution_count": 182,
     "metadata": {},
     "output_type": "execute_result"
    }
   ],
   "source": [
    "get_mean_by_column(web_tracking_df, \"device_type\", plot=False)"
   ]
  },
  {
   "cell_type": "code",
   "execution_count": 183,
   "id": "42d9dfcc",
   "metadata": {},
   "outputs": [
    {
     "data": {
      "text/plain": [
       "<Axes: xlabel='device_type'>"
      ]
     },
     "execution_count": 183,
     "metadata": {},
     "output_type": "execute_result"
    },
    {
     "data": {
      "image/png": "[encoded data removed]",
      "text/plain": [
       "<Figure size 640x480 with 1 Axes>"
      ]
     },
     "metadata": {},
     "output_type": "display_data"
    }
   ],
   "source": [
    "get_mean_by_column(web_tracking_df, \"device_type\", plot=True)"
   ]
  },
  {
   "cell_type": "markdown",
   "id": "2b4595d8",
   "metadata": {},
   "source": [
    "Desktop devices lead to higher engagement than mobile (both tablet and mobile) devices."
   ]
  },
  {
   "cell_type": "markdown",
   "id": "a9a79b45",
   "metadata": {},
   "source": [
    "### Pivot Plots by Weekday"
   ]
  },
  {
   "cell_type": "code",
   "execution_count": 185,
   "id": "5b40aa05",
   "metadata": {},
   "outputs": [],
   "source": [
    "# Extract weekday from timestamp and create new column\n",
    "web_tracking_df['weekday'] = web_tracking_df['timestamp'].dt.day_name()"
   ]
  },
  {
   "cell_type": "code",
   "execution_count": 189,
   "id": "25fec33c",
   "metadata": {},
   "outputs": [
    {
     "data": {
      "text/html": [
       "<div>\n",
       "<style scoped>\n",
       "    .dataframe tbody tr th:only-of-type {\n",
       "        vertical-align: middle;\n",
       "    }\n",
       "\n",
       "    .dataframe tbody tr th {\n",
       "        vertical-align: top;\n",
       "    }\n",
       "\n",
       "    .dataframe thead th {\n",
       "        text-align: right;\n",
       "    }\n",
       "</style>\n",
       "<table border=\"1\" class=\"dataframe\">\n",
       "  <thead>\n",
       "    <tr style=\"text-align: right;\">\n",
       "      <th>device_type</th>\n",
       "      <th>desktop</th>\n",
       "      <th>mobile</th>\n",
       "      <th>tablet</th>\n",
       "    </tr>\n",
       "    <tr>\n",
       "      <th>weekday</th>\n",
       "      <th></th>\n",
       "      <th></th>\n",
       "      <th></th>\n",
       "    </tr>\n",
       "  </thead>\n",
       "  <tbody>\n",
       "    <tr>\n",
       "      <th>Friday</th>\n",
       "      <td>172.40</td>\n",
       "      <td>152.000000</td>\n",
       "      <td>91.666667</td>\n",
       "    </tr>\n",
       "    <tr>\n",
       "      <th>Monday</th>\n",
       "      <td>135.75</td>\n",
       "      <td>148.600000</td>\n",
       "      <td>171.333333</td>\n",
       "    </tr>\n",
       "    <tr>\n",
       "      <th>Saturday</th>\n",
       "      <td>189.20</td>\n",
       "      <td>153.250000</td>\n",
       "      <td>134.333333</td>\n",
       "    </tr>\n",
       "    <tr>\n",
       "      <th>Sunday</th>\n",
       "      <td>217.40</td>\n",
       "      <td>150.000000</td>\n",
       "      <td>144.750000</td>\n",
       "    </tr>\n",
       "    <tr>\n",
       "      <th>Thursday</th>\n",
       "      <td>229.60</td>\n",
       "      <td>136.833333</td>\n",
       "      <td>149.666667</td>\n",
       "    </tr>\n",
       "    <tr>\n",
       "      <th>Tuesday</th>\n",
       "      <td>188.25</td>\n",
       "      <td>181.600000</td>\n",
       "      <td>149.500000</td>\n",
       "    </tr>\n",
       "    <tr>\n",
       "      <th>Wednesday</th>\n",
       "      <td>161.00</td>\n",
       "      <td>163.333333</td>\n",
       "      <td>159.750000</td>\n",
       "    </tr>\n",
       "  </tbody>\n",
       "</table>\n",
       "</div>"
      ],
      "text/plain": [
       "device_type  desktop      mobile      tablet\n",
       "weekday                                     \n",
       "Friday        172.40  152.000000   91.666667\n",
       "Monday        135.75  148.600000  171.333333\n",
       "Saturday      189.20  153.250000  134.333333\n",
       "Sunday        217.40  150.000000  144.750000\n",
       "Thursday      229.60  136.833333  149.666667\n",
       "Tuesday       188.25  181.600000  149.500000\n",
       "Wednesday     161.00  163.333333  159.750000"
      ]
     },
     "execution_count": 189,
     "metadata": {},
     "output_type": "execute_result"
    }
   ],
   "source": [
    "web_tracking_df.pivot_table(index='weekday', columns=\"device_type\", values='time_spent_sec', aggfunc='mean')"
   ]
  },
  {
   "cell_type": "markdown",
   "id": "b366d7ee",
   "metadata": {},
   "source": [
    "### Heat maps web tracking data"
   ]
  },
  {
   "cell_type": "code",
   "execution_count": 184,
   "id": "13715393",
   "metadata": {},
   "outputs": [
    {
     "data": {
      "image/png": "[encoded data removed]",
      "text/plain": [
       "<Figure size 800x600 with 2 Axes>"
      ]
     },
     "metadata": {},
     "output_type": "display_data"
    }
   ],
   "source": [
    "import seaborn as sns\n",
    "\n",
    "utm_counts = web_tracking_df.groupby(['utm_source', 'utm_medium']).size().unstack(fill_value=0)\n",
    "plt.figure(figsize=(8, 6))\n",
    "sns.heatmap(utm_counts, annot=True, fmt=\"d\", cmap=\"Blues\")\n",
    "plt.title(\"Heatmap of utm_source vs utm_medium\")\n",
    "plt.xlabel(\"utm_medium\")\n",
    "plt.ylabel(\"utm_source\")\n",
    "plt.tight_layout()\n",
    "plt.savefig(os.path.join(PLOT_FOLDER, \"utm_source_utm_medium_heatmap.png\"), format=\"png\")\n",
    "plt.show()"
   ]
  },
  {
   "cell_type": "markdown",
   "id": "2cb9f4b1",
   "metadata": {},
   "source": [
    "## Merging CRM and Web-Tracking data"
   ]
  },
  {
   "cell_type": "markdown",
   "id": "12027172",
   "metadata": {},
   "source": [
    "### Page visits"
   ]
  },
  {
   "cell_type": "code",
   "execution_count": 43,
   "id": "13054514-dd36-4a68-b09e-dfef981d9e50",
   "metadata": {},
   "outputs": [],
   "source": [
    "web_tracking_df.sort_values(\"timestamp\", inplace = True)"
   ]
  },
  {
   "cell_type": "code",
   "execution_count": 44,
   "id": "ad4b6edf-24c1-4e6c-9084-0733dd956657",
   "metadata": {},
   "outputs": [
    {
     "data": {
      "text/html": [
       "<div>\n",
       "<style scoped>\n",
       "    .dataframe tbody tr th:only-of-type {\n",
       "        vertical-align: middle;\n",
       "    }\n",
       "\n",
       "    .dataframe tbody tr th {\n",
       "        vertical-align: top;\n",
       "    }\n",
       "\n",
       "    .dataframe thead th {\n",
       "        text-align: right;\n",
       "    }\n",
       "</style>\n",
       "<table border=\"1\" class=\"dataframe\">\n",
       "  <thead>\n",
       "    <tr style=\"text-align: right;\">\n",
       "      <th></th>\n",
       "      <th>user_id</th>\n",
       "      <th>session_id</th>\n",
       "      <th>timestamp</th>\n",
       "      <th>page</th>\n",
       "      <th>time_spent_sec</th>\n",
       "      <th>utm_source</th>\n",
       "      <th>utm_medium</th>\n",
       "      <th>device_type</th>\n",
       "    </tr>\n",
       "  </thead>\n",
       "  <tbody>\n",
       "    <tr>\n",
       "      <th>37</th>\n",
       "      <td>161</td>\n",
       "      <td>s037</td>\n",
       "      <td>2024-03-01 06:29:00</td>\n",
       "      <td>/contact</td>\n",
       "      <td>11</td>\n",
       "      <td>facebook</td>\n",
       "      <td>referral</td>\n",
       "      <td>tablet</td>\n",
       "    </tr>\n",
       "    <tr>\n",
       "      <th>40</th>\n",
       "      <td>161</td>\n",
       "      <td>s040</td>\n",
       "      <td>2024-03-03 18:03:00</td>\n",
       "      <td>/contact</td>\n",
       "      <td>63</td>\n",
       "      <td>facebook</td>\n",
       "      <td>email</td>\n",
       "      <td>tablet</td>\n",
       "    </tr>\n",
       "    <tr>\n",
       "      <th>38</th>\n",
       "      <td>161</td>\n",
       "      <td>s038</td>\n",
       "      <td>2024-03-04 18:03:00</td>\n",
       "      <td>/pricing</td>\n",
       "      <td>139</td>\n",
       "      <td>facebook</td>\n",
       "      <td>cpc</td>\n",
       "      <td>tablet</td>\n",
       "    </tr>\n",
       "    <tr>\n",
       "      <th>93</th>\n",
       "      <td>161</td>\n",
       "      <td>s093</td>\n",
       "      <td>2024-03-06 17:50:00</td>\n",
       "      <td>/features</td>\n",
       "      <td>63</td>\n",
       "      <td>google</td>\n",
       "      <td>referral</td>\n",
       "      <td>mobile</td>\n",
       "    </tr>\n",
       "    <tr>\n",
       "      <th>84</th>\n",
       "      <td>161</td>\n",
       "      <td>s084</td>\n",
       "      <td>2024-03-07 03:22:00</td>\n",
       "      <td>/features</td>\n",
       "      <td>46</td>\n",
       "      <td>google</td>\n",
       "      <td>cpc</td>\n",
       "      <td>tablet</td>\n",
       "    </tr>\n",
       "  </tbody>\n",
       "</table>\n",
       "</div>"
      ],
      "text/plain": [
       "    user_id session_id           timestamp       page  time_spent_sec  \\\n",
       "37      161       s037 2024-03-01 06:29:00   /contact              11   \n",
       "40      161       s040 2024-03-03 18:03:00   /contact              63   \n",
       "38      161       s038 2024-03-04 18:03:00   /pricing             139   \n",
       "93      161       s093 2024-03-06 17:50:00  /features              63   \n",
       "84      161       s084 2024-03-07 03:22:00  /features              46   \n",
       "\n",
       "   utm_source utm_medium device_type  \n",
       "37   facebook   referral      tablet  \n",
       "40   facebook      email      tablet  \n",
       "38   facebook        cpc      tablet  \n",
       "93     google   referral      mobile  \n",
       "84     google        cpc      tablet  "
      ]
     },
     "execution_count": 44,
     "metadata": {},
     "output_type": "execute_result"
    }
   ],
   "source": [
    "web_tracking_df[web_tracking_df[\"user_id\"] == 161]"
   ]
  },
  {
   "cell_type": "code",
   "execution_count": null,
   "id": "4a080ccd-48f1-4ec8-9ee8-1cda957170a5",
   "metadata": {},
   "outputs": [],
   "source": [
    "nb_of_pages_visited = web_tracking_df.user_id.value_counts()\n",
    "nb_of_pages_visited_df = nb_of_pages_visited.to_frame().reset_index()\n",
    "nb_of_pages_visited_df.rename(columns = {\"count\":\"numb_pages\"}, inplace = True)"
   ]
  },
  {
   "cell_type": "code",
   "execution_count": 66,
   "id": "3a4f089e-3fef-4d64-8e78-9d28c203db26",
   "metadata": {},
   "outputs": [
    {
     "name": "stdout",
     "output_type": "stream",
     "text": [
      "count\n",
      "1    33\n",
      "2    21\n",
      "3     4\n",
      "4     2\n",
      "5     1\n",
      "Name: count, dtype: int64\n"
     ]
    }
   ],
   "source": [
    "# nb_of_pages_visited is a Series with user_id as index and visit count as value\n",
    "freq_of_visit_counts = nb_of_pages_visited.value_counts()\n",
    "print(freq_of_visit_counts)"
   ]
  },
  {
   "cell_type": "code",
   "execution_count": 49,
   "id": "8babe10c-fe83-4b47-b162-67b34b48e345",
   "metadata": {},
   "outputs": [],
   "source": [
    "def get_last_page(x):\n",
    "    last_page = x.to_list()[-1]\n",
    "    return last_page"
   ]
  },
  {
   "cell_type": "code",
   "execution_count": 50,
   "id": "dad3f612-cda0-4cc5-8878-7b851b57dd7d",
   "metadata": {},
   "outputs": [],
   "source": [
    "last_page = web_tracking_df.groupby('user_id').page.apply(get_last_page)"
   ]
  },
  {
   "cell_type": "code",
   "execution_count": 51,
   "id": "c3ac9df7-9735-4e1a-8fbe-ec4a5aed975f",
   "metadata": {},
   "outputs": [],
   "source": [
    "last_page_df = last_page.to_frame().reset_index()\n",
    "last_page_df.rename(columns = {\"page\":\"last_page\"}, inplace=True)"
   ]
  },
  {
   "cell_type": "code",
   "execution_count": 52,
   "id": "59aeda5a-a112-4ce5-b9f1-fbeece0652ba",
   "metadata": {},
   "outputs": [],
   "source": [
    "def get_first_page(x):\n",
    "    first_page = x.to_list()[0]\n",
    "    return first_page"
   ]
  },
  {
   "cell_type": "code",
   "execution_count": 53,
   "id": "4d231cba-811b-448a-b356-95d5c0e74fd6",
   "metadata": {},
   "outputs": [],
   "source": [
    "first_page = web_tracking_df.groupby('user_id').page.apply(get_first_page)"
   ]
  },
  {
   "cell_type": "code",
   "execution_count": 54,
   "id": "3894cf74-a114-4438-922a-131ec68a1b0a",
   "metadata": {},
   "outputs": [],
   "source": [
    "first_page_df = first_page.to_frame().reset_index()\n",
    "first_page_df.rename(columns = {\"page\":\"first_page\"}, inplace=True)"
   ]
  },
  {
   "cell_type": "code",
   "execution_count": 55,
   "id": "8c5b7e79-29ba-42cd-a246-04c2c06bbe78",
   "metadata": {},
   "outputs": [],
   "source": [
    "merged_df = crm_df.merge(last_page_df, on = \"user_id\")\\\n",
    "            .merge(first_page_df, on = \"user_id\")\\\n",
    "            .merge(nb_of_pages_visited_df, on = \"user_id\")"
   ]
  },
  {
   "cell_type": "code",
   "execution_count": 136,
   "id": "204d51ca-d5f2-4c43-bc4e-7d0ab02a7111",
   "metadata": {},
   "outputs": [
    {
     "data": {
      "text/html": [
       "<div>\n",
       "<style scoped>\n",
       "    .dataframe tbody tr th:only-of-type {\n",
       "        vertical-align: middle;\n",
       "    }\n",
       "\n",
       "    .dataframe tbody tr th {\n",
       "        vertical-align: top;\n",
       "    }\n",
       "\n",
       "    .dataframe thead th {\n",
       "        text-align: right;\n",
       "    }\n",
       "</style>\n",
       "<table border=\"1\" class=\"dataframe\">\n",
       "  <thead>\n",
       "    <tr style=\"text-align: right;\">\n",
       "      <th></th>\n",
       "      <th>user_id</th>\n",
       "      <th>lead_status</th>\n",
       "      <th>company</th>\n",
       "      <th>sign_up_date</th>\n",
       "      <th>industry</th>\n",
       "      <th>country</th>\n",
       "      <th>last_page</th>\n",
       "      <th>first_page</th>\n",
       "      <th>numb_pages</th>\n",
       "    </tr>\n",
       "  </thead>\n",
       "  <tbody>\n",
       "    <tr>\n",
       "      <th>0</th>\n",
       "      <td>184</td>\n",
       "      <td>Prospect</td>\n",
       "      <td>Company_18</td>\n",
       "      <td>2024-03-01</td>\n",
       "      <td>Finance</td>\n",
       "      <td>US</td>\n",
       "      <td>/features</td>\n",
       "      <td>/features</td>\n",
       "      <td>1</td>\n",
       "    </tr>\n",
       "    <tr>\n",
       "      <th>1</th>\n",
       "      <td>163</td>\n",
       "      <td>Lost</td>\n",
       "      <td>Company_3</td>\n",
       "      <td>2024-03-01</td>\n",
       "      <td>SaaS</td>\n",
       "      <td>US</td>\n",
       "      <td>/features</td>\n",
       "      <td>/pricing</td>\n",
       "      <td>2</td>\n",
       "    </tr>\n",
       "    <tr>\n",
       "      <th>2</th>\n",
       "      <td>199</td>\n",
       "      <td>Converted</td>\n",
       "      <td>Company_32</td>\n",
       "      <td>2024-03-01</td>\n",
       "      <td>Healthcare</td>\n",
       "      <td>US</td>\n",
       "      <td>/landing</td>\n",
       "      <td>/features</td>\n",
       "      <td>2</td>\n",
       "    </tr>\n",
       "    <tr>\n",
       "      <th>3</th>\n",
       "      <td>151</td>\n",
       "      <td>Converted</td>\n",
       "      <td>Company_5</td>\n",
       "      <td>2024-03-01</td>\n",
       "      <td>Finance</td>\n",
       "      <td>US</td>\n",
       "      <td>/pricing</td>\n",
       "      <td>/pricing</td>\n",
       "      <td>1</td>\n",
       "    </tr>\n",
       "    <tr>\n",
       "      <th>4</th>\n",
       "      <td>191</td>\n",
       "      <td>Prospect</td>\n",
       "      <td>Company_42</td>\n",
       "      <td>2024-03-01</td>\n",
       "      <td>SaaS</td>\n",
       "      <td>Germany</td>\n",
       "      <td>/pricing</td>\n",
       "      <td>/contact</td>\n",
       "      <td>2</td>\n",
       "    </tr>\n",
       "  </tbody>\n",
       "</table>\n",
       "</div>"
      ],
      "text/plain": [
       "   user_id lead_status     company sign_up_date    industry  country  \\\n",
       "0      184    Prospect  Company_18   2024-03-01     Finance       US   \n",
       "1      163        Lost   Company_3   2024-03-01        SaaS       US   \n",
       "2      199   Converted  Company_32   2024-03-01  Healthcare       US   \n",
       "3      151   Converted   Company_5   2024-03-01     Finance       US   \n",
       "4      191    Prospect  Company_42   2024-03-01        SaaS  Germany   \n",
       "\n",
       "   last_page first_page  numb_pages  \n",
       "0  /features  /features           1  \n",
       "1  /features   /pricing           2  \n",
       "2   /landing  /features           2  \n",
       "3   /pricing   /pricing           1  \n",
       "4   /pricing   /contact           2  "
      ]
     },
     "execution_count": 136,
     "metadata": {},
     "output_type": "execute_result"
    }
   ],
   "source": [
    "merged_df.head()"
   ]
  },
  {
   "cell_type": "code",
   "execution_count": 60,
   "id": "bbecde3f-48fb-4d46-9ddd-c8733487a143",
   "metadata": {},
   "outputs": [
    {
     "name": "stdout",
     "output_type": "stream",
     "text": [
      "last_page\n",
      "/pricing     57.142857\n",
      "/landing     53.846154\n",
      "/features    36.842105\n",
      "/contact     25.000000\n",
      "Name: lead_status, dtype: float64\n"
     ]
    },
    {
     "data": {
      "text/plain": [
       "<Axes: title={'center': 'Conversion Rate by last_page'}, xlabel='last_page', ylabel='Conversion Rate'>"
      ]
     },
     "execution_count": 60,
     "metadata": {},
     "output_type": "execute_result"
    },
    {
     "data": {
      "image/png": "[encoded data removed]",
      "text/plain": [
       "<Figure size 640x480 with 1 Axes>"
      ]
     },
     "metadata": {},
     "output_type": "display_data"
    }
   ],
   "source": [
    "plot_conversion_rate_by_column(merged_df, \"last_page\", True,\"conversion_rate_by_last_page.png\")"
   ]
  },
  {
   "cell_type": "markdown",
   "id": "f8323dc2-7894-466b-90f6-60daf6837d11",
   "metadata": {},
   "source": [
    "- if a user ends on contact page he/she does not converse in 3 out of 4 cases\n",
    "- if a user ends on pricing page he/she converse in 54% of the cases"
   ]
  },
  {
   "cell_type": "code",
   "execution_count": 62,
   "id": "36d6f3be-be4f-43a9-a784-e4335494d1c2",
   "metadata": {},
   "outputs": [
    {
     "name": "stdout",
     "output_type": "stream",
     "text": [
      "first_page\n",
      "/landing     63.636364\n",
      "/pricing     57.142857\n",
      "/features    47.058824\n",
      "/contact      8.333333\n",
      "Name: lead_status, dtype: float64\n"
     ]
    },
    {
     "data": {
      "text/plain": [
       "<Axes: title={'center': 'Conversion Rate by first_page'}, xlabel='first_page', ylabel='Conversion Rate'>"
      ]
     },
     "execution_count": 62,
     "metadata": {},
     "output_type": "execute_result"
    },
    {
     "data": {
      "image/png": "[encoded data removed]",
      "text/plain": [
       "<Figure size 640x480 with 1 Axes>"
      ]
     },
     "metadata": {},
     "output_type": "display_data"
    }
   ],
   "source": [
    "plot_conversion_rate_by_column(merged_df, \"first_page\", True,\"conversion_rate_by_first_page.png\")"
   ]
  },
  {
   "cell_type": "code",
   "execution_count": 63,
   "id": "a564ec96-f17e-4fc9-8017-c2553aae46ce",
   "metadata": {},
   "outputs": [],
   "source": [
    "merged_df.numb_pages.value_counts().to_clipboard()"
   ]
  },
  {
   "cell_type": "code",
   "execution_count": 64,
   "id": "fbda377a-a2f0-4d97-a980-7e313c8bc4b8",
   "metadata": {},
   "outputs": [
    {
     "name": "stdout",
     "output_type": "stream",
     "text": [
      "numb_pages\n",
      "5    100.000000\n",
      "4    100.000000\n",
      "1     57.894737\n",
      "3     50.000000\n",
      "2     50.000000\n",
      "Name: lead_status, dtype: float64\n"
     ]
    },
    {
     "data": {
      "text/plain": [
       "<Axes: title={'center': 'Conversion Rate by numb_pages'}, xlabel='numb_pages', ylabel='Conversion Rate'>"
      ]
     },
     "execution_count": 64,
     "metadata": {},
     "output_type": "execute_result"
    },
    {
     "data": {
      "image/png": "[encoded data removed]",
      "text/plain": [
       "<Figure size 640x480 with 1 Axes>"
      ]
     },
     "metadata": {},
     "output_type": "display_data"
    }
   ],
   "source": [
    "plot_conversion_rate_by_column(merged_df, \"numb_pages\", False,\"conversion_rate_by_numb_page.png\")"
   ]
  },
  {
   "cell_type": "markdown",
   "id": "e43977a1",
   "metadata": {},
   "source": [
    "# Profiling"
   ]
  },
  {
   "cell_type": "code",
   "execution_count": null,
   "id": "effbd019",
   "metadata": {},
   "outputs": [
    {
     "name": "stderr",
     "output_type": "stream",
     "text": [
      "100%|██████████| 6/6 [00:00<00:00, 71.95it/s]00<00:00, 10.63it/s, Describe variable: country]\n",
      "Summarize dataset: 100%|██████████| 16/16 [00:01<00:00, 11.25it/s, Completed]                \n",
      "Generate report structure: 100%|██████████| 1/1 [00:05<00:00,  5.08s/it]\n",
      "Render HTML: 100%|██████████| 1/1 [00:01<00:00,  1.98s/it]\n",
      "Export report to file: 100%|██████████| 1/1 [00:00<00:00, 86.05it/s]\n",
      "100%|██████████| 8/8 [00:00<00:00, 78.85it/s]00<00:00, 22.51it/s, Describe variable: device_type]   \n",
      "Summarize dataset: 100%|██████████| 21/21 [00:01<00:00, 12.55it/s, Completed]                             \n",
      "Generate report structure: 100%|██████████| 1/1 [00:04<00:00,  4.33s/it]\n",
      "Render HTML: 100%|██████████| 1/1 [00:00<00:00,  1.66it/s]\n",
      "Export report to file: 100%|██████████| 1/1 [00:00<00:00, 64.10it/s]\n"
     ]
    }
   ],
   "source": [
    "# pandas profiling\n",
    "crm_profile = ProfileReport(crm_df, \n",
    "                            title=\"CRM Data Profiling Report\", \n",
    "                            explorative=True)\n",
    "web_tracking_profile = ProfileReport(web_tracking_df, \n",
    "                                     title=\"Web Tracking Data Profiling Report\", \n",
    "                                     explorative=True)\n",
    "crm_profile.to_file(\"crm_data_profile.html\")\n",
    "web_tracking_profile.to_file(\"web_tracking_data_profile.html\")"
   ]
  },
  {
   "cell_type": "code",
   "execution_count": null,
   "id": "b8d26b8b",
   "metadata": {},
   "outputs": [
    {
     "name": "stderr",
     "output_type": "stream",
     "text": [
      "100%|██████████| 6/6 [00:00<00:00, 71.95it/s]00<00:00, 10.63it/s, Describe variable: country]\n",
      "Summarize dataset: 100%|██████████| 16/16 [00:01<00:00, 11.25it/s, Completed]                \n",
      "Generate report structure: 100%|██████████| 1/1 [00:05<00:00,  5.08s/it]\n",
      "Render HTML: 100%|██████████| 1/1 [00:01<00:00,  1.98s/it]\n",
      "Export report to file: 100%|██████████| 1/1 [00:00<00:00, 86.05it/s]\n",
      "100%|██████████| 8/8 [00:00<00:00, 78.85it/s]00<00:00, 22.51it/s, Describe variable: device_type]   \n",
      "Summarize dataset: 100%|██████████| 21/21 [00:01<00:00, 12.55it/s, Completed]                             \n",
      "Generate report structure: 100%|██████████| 1/1 [00:04<00:00,  4.33s/it]\n",
      "Render HTML: 100%|██████████| 1/1 [00:00<00:00,  1.66it/s]\n",
      "Export report to file: 100%|██████████| 1/1 [00:00<00:00, 64.10it/s]\n"
     ]
    }
   ],
   "source": [
    "# pandas profiling\n",
    "crm_profile = ProfileReport(crm_df, \n",
    "                            title=\"CRM Data Profiling Report\", \n",
    "                            explorative=True)\n",
    "web_tracking_profile = ProfileReport(web_tracking_df, \n",
    "                                     title=\"Web Tracking Data Profiling Report\", \n",
    "                                     explorative=True)\n",
    "crm_profile.to_file(\"crm_data_profile.html\")\n",
    "web_tracking_profile.to_file(\"web_tracking_data_profile.html\")"
   ]
  }
 ],
 "metadata": {
  "kernelspec": {
   "display_name": ".venv",
   "language": "python",
   "name": "python3"
  },
  "language_info": {
   "codemirror_mode": {
    "name": "ipython",
    "version": 3
   },
   "file_extension": ".py",
   "mimetype": "text/x-python",
   "name": "python",
   "nbconvert_exporter": "python",
   "pygments_lexer": "ipython3",
   "version": "3.11.1"
  }
 },
 "nbformat": 4,
 "nbformat_minor": 5
}
