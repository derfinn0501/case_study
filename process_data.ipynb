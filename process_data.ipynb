{
 "cells": [
  {
   "cell_type": "markdown",
   "id": "73b1ebaa",
   "metadata": {},
   "source": [
    "# Imports and reading data"
   ]
  },
  {
   "cell_type": "code",
   "execution_count": 1,
   "id": "70a2d261-0468-46b4-9f3a-3d9c5693c89e",
   "metadata": {},
   "outputs": [],
   "source": [
    "import pandas as pd\n",
    "import os\n",
    "\n",
    "DATA_FOLDER = \"data\"\n",
    "CRM_PATH = os.path.join(DATA_FOLDER, \"crm_data.csv\")\n",
    "WEB_TRACKING_PATH = os.path.join(DATA_FOLDER, \"web_tracking.csv\")"
   ]
  },
  {
   "cell_type": "code",
   "execution_count": 2,
   "id": "b4233e6f",
   "metadata": {},
   "outputs": [],
   "source": [
    "crm_df = pd.read_csv(CRM_PATH)\n",
    "web_tracking_df = pd.read_csv(WEB_TRACKING_PATH)"
   ]
  },
  {
   "cell_type": "markdown",
   "id": "a6b4ce78",
   "metadata": {},
   "source": [
    "# EDA + Data validation"
   ]
  },
  {
   "cell_type": "code",
   "execution_count": 4,
   "id": "5739d314",
   "metadata": {},
   "outputs": [
    {
     "data": {
      "text/html": [
       "<div>\n",
       "<style scoped>\n",
       "    .dataframe tbody tr th:only-of-type {\n",
       "        vertical-align: middle;\n",
       "    }\n",
       "\n",
       "    .dataframe tbody tr th {\n",
       "        vertical-align: top;\n",
       "    }\n",
       "\n",
       "    .dataframe thead th {\n",
       "        text-align: right;\n",
       "    }\n",
       "</style>\n",
       "<table border=\"1\" class=\"dataframe\">\n",
       "  <thead>\n",
       "    <tr style=\"text-align: right;\">\n",
       "      <th></th>\n",
       "      <th>user_id</th>\n",
       "      <th>lead_status</th>\n",
       "      <th>company</th>\n",
       "      <th>sign_up_date</th>\n",
       "      <th>industry</th>\n",
       "      <th>country</th>\n",
       "    </tr>\n",
       "  </thead>\n",
       "  <tbody>\n",
       "    <tr>\n",
       "      <th>0</th>\n",
       "      <td>137</td>\n",
       "      <td>Converted</td>\n",
       "      <td>Company_0</td>\n",
       "      <td>2024-03-09</td>\n",
       "      <td>Healthcare</td>\n",
       "      <td>US</td>\n",
       "    </tr>\n",
       "    <tr>\n",
       "      <th>1</th>\n",
       "      <td>163</td>\n",
       "      <td>Converted</td>\n",
       "      <td>Company_1</td>\n",
       "      <td>2024-03-01</td>\n",
       "      <td>Finance</td>\n",
       "      <td>UK</td>\n",
       "    </tr>\n",
       "    <tr>\n",
       "      <th>2</th>\n",
       "      <td>103</td>\n",
       "      <td>Prospect</td>\n",
       "      <td>Company_2</td>\n",
       "      <td>2024-03-02</td>\n",
       "      <td>Healthcare</td>\n",
       "      <td>France</td>\n",
       "    </tr>\n",
       "    <tr>\n",
       "      <th>3</th>\n",
       "      <td>163</td>\n",
       "      <td>Lost</td>\n",
       "      <td>Company_3</td>\n",
       "      <td>2024-03-01</td>\n",
       "      <td>SaaS</td>\n",
       "      <td>US</td>\n",
       "    </tr>\n",
       "    <tr>\n",
       "      <th>4</th>\n",
       "      <td>171</td>\n",
       "      <td>Lost</td>\n",
       "      <td>Company_4</td>\n",
       "      <td>2024-03-07</td>\n",
       "      <td>Healthcare</td>\n",
       "      <td>Germany</td>\n",
       "    </tr>\n",
       "    <tr>\n",
       "      <th>5</th>\n",
       "      <td>151</td>\n",
       "      <td>Converted</td>\n",
       "      <td>Company_5</td>\n",
       "      <td>2024-03-01</td>\n",
       "      <td>Finance</td>\n",
       "      <td>US</td>\n",
       "    </tr>\n",
       "    <tr>\n",
       "      <th>6</th>\n",
       "      <td>141</td>\n",
       "      <td>Prospect</td>\n",
       "      <td>Company_6</td>\n",
       "      <td>2024-03-02</td>\n",
       "      <td>E-commerce</td>\n",
       "      <td>Germany</td>\n",
       "    </tr>\n",
       "    <tr>\n",
       "      <th>7</th>\n",
       "      <td>117</td>\n",
       "      <td>Lost</td>\n",
       "      <td>Company_7</td>\n",
       "      <td>2024-03-08</td>\n",
       "      <td>Finance</td>\n",
       "      <td>France</td>\n",
       "    </tr>\n",
       "    <tr>\n",
       "      <th>8</th>\n",
       "      <td>114</td>\n",
       "      <td>Lost</td>\n",
       "      <td>Company_8</td>\n",
       "      <td>2024-03-09</td>\n",
       "      <td>Finance</td>\n",
       "      <td>UK</td>\n",
       "    </tr>\n",
       "    <tr>\n",
       "      <th>9</th>\n",
       "      <td>171</td>\n",
       "      <td>Prospect</td>\n",
       "      <td>Company_9</td>\n",
       "      <td>2024-03-10</td>\n",
       "      <td>Finance</td>\n",
       "      <td>US</td>\n",
       "    </tr>\n",
       "    <tr>\n",
       "      <th>10</th>\n",
       "      <td>102</td>\n",
       "      <td>Prospect</td>\n",
       "      <td>Company_10</td>\n",
       "      <td>2024-03-11</td>\n",
       "      <td>E-commerce</td>\n",
       "      <td>UK</td>\n",
       "    </tr>\n",
       "    <tr>\n",
       "      <th>11</th>\n",
       "      <td>154</td>\n",
       "      <td>Lost</td>\n",
       "      <td>Company_11</td>\n",
       "      <td>2024-03-01</td>\n",
       "      <td>Finance</td>\n",
       "      <td>US</td>\n",
       "    </tr>\n",
       "    <tr>\n",
       "      <th>12</th>\n",
       "      <td>162</td>\n",
       "      <td>Lost</td>\n",
       "      <td>Company_12</td>\n",
       "      <td>2024-03-01</td>\n",
       "      <td>Finance</td>\n",
       "      <td>Germany</td>\n",
       "    </tr>\n",
       "    <tr>\n",
       "      <th>13</th>\n",
       "      <td>147</td>\n",
       "      <td>Prospect</td>\n",
       "      <td>Company_13</td>\n",
       "      <td>2024-03-07</td>\n",
       "      <td>Finance</td>\n",
       "      <td>UK</td>\n",
       "    </tr>\n",
       "    <tr>\n",
       "      <th>14</th>\n",
       "      <td>181</td>\n",
       "      <td>Lost</td>\n",
       "      <td>Company_14</td>\n",
       "      <td>2024-03-11</td>\n",
       "      <td>SaaS</td>\n",
       "      <td>US</td>\n",
       "    </tr>\n",
       "    <tr>\n",
       "      <th>15</th>\n",
       "      <td>192</td>\n",
       "      <td>Converted</td>\n",
       "      <td>Company_15</td>\n",
       "      <td>2024-03-03</td>\n",
       "      <td>Finance</td>\n",
       "      <td>Germany</td>\n",
       "    </tr>\n",
       "    <tr>\n",
       "      <th>16</th>\n",
       "      <td>157</td>\n",
       "      <td>Converted</td>\n",
       "      <td>Company_16</td>\n",
       "      <td>2024-03-06</td>\n",
       "      <td>E-commerce</td>\n",
       "      <td>UK</td>\n",
       "    </tr>\n",
       "    <tr>\n",
       "      <th>17</th>\n",
       "      <td>161</td>\n",
       "      <td>Prospect</td>\n",
       "      <td>Company_17</td>\n",
       "      <td>2024-03-07</td>\n",
       "      <td>Finance</td>\n",
       "      <td>UK</td>\n",
       "    </tr>\n",
       "    <tr>\n",
       "      <th>18</th>\n",
       "      <td>184</td>\n",
       "      <td>Prospect</td>\n",
       "      <td>Company_18</td>\n",
       "      <td>2024-03-01</td>\n",
       "      <td>Finance</td>\n",
       "      <td>US</td>\n",
       "    </tr>\n",
       "    <tr>\n",
       "      <th>19</th>\n",
       "      <td>107</td>\n",
       "      <td>Prospect</td>\n",
       "      <td>Company_19</td>\n",
       "      <td>2024-03-01</td>\n",
       "      <td>E-commerce</td>\n",
       "      <td>US</td>\n",
       "    </tr>\n",
       "    <tr>\n",
       "      <th>20</th>\n",
       "      <td>161</td>\n",
       "      <td>Converted</td>\n",
       "      <td>Company_20</td>\n",
       "      <td>2024-03-11</td>\n",
       "      <td>Finance</td>\n",
       "      <td>US</td>\n",
       "    </tr>\n",
       "    <tr>\n",
       "      <th>21</th>\n",
       "      <td>149</td>\n",
       "      <td>Lost</td>\n",
       "      <td>Company_21</td>\n",
       "      <td>2024-03-10</td>\n",
       "      <td>E-commerce</td>\n",
       "      <td>Germany</td>\n",
       "    </tr>\n",
       "    <tr>\n",
       "      <th>22</th>\n",
       "      <td>120</td>\n",
       "      <td>Converted</td>\n",
       "      <td>Company_22</td>\n",
       "      <td>2024-03-01</td>\n",
       "      <td>Finance</td>\n",
       "      <td>US</td>\n",
       "    </tr>\n",
       "    <tr>\n",
       "      <th>23</th>\n",
       "      <td>134</td>\n",
       "      <td>Lost</td>\n",
       "      <td>Company_23</td>\n",
       "      <td>2024-03-06</td>\n",
       "      <td>E-commerce</td>\n",
       "      <td>UK</td>\n",
       "    </tr>\n",
       "    <tr>\n",
       "      <th>24</th>\n",
       "      <td>159</td>\n",
       "      <td>Converted</td>\n",
       "      <td>Company_24</td>\n",
       "      <td>2024-03-06</td>\n",
       "      <td>Finance</td>\n",
       "      <td>UK</td>\n",
       "    </tr>\n",
       "    <tr>\n",
       "      <th>25</th>\n",
       "      <td>143</td>\n",
       "      <td>Lost</td>\n",
       "      <td>Company_25</td>\n",
       "      <td>2024-03-11</td>\n",
       "      <td>Finance</td>\n",
       "      <td>US</td>\n",
       "    </tr>\n",
       "    <tr>\n",
       "      <th>26</th>\n",
       "      <td>108</td>\n",
       "      <td>Converted</td>\n",
       "      <td>Company_26</td>\n",
       "      <td>2024-03-05</td>\n",
       "      <td>SaaS</td>\n",
       "      <td>US</td>\n",
       "    </tr>\n",
       "    <tr>\n",
       "      <th>27</th>\n",
       "      <td>150</td>\n",
       "      <td>Prospect</td>\n",
       "      <td>Company_27</td>\n",
       "      <td>2024-03-04</td>\n",
       "      <td>SaaS</td>\n",
       "      <td>France</td>\n",
       "    </tr>\n",
       "    <tr>\n",
       "      <th>28</th>\n",
       "      <td>121</td>\n",
       "      <td>Converted</td>\n",
       "      <td>Company_28</td>\n",
       "      <td>2024-03-03</td>\n",
       "      <td>Finance</td>\n",
       "      <td>UK</td>\n",
       "    </tr>\n",
       "    <tr>\n",
       "      <th>29</th>\n",
       "      <td>187</td>\n",
       "      <td>Lost</td>\n",
       "      <td>Company_29</td>\n",
       "      <td>2024-03-03</td>\n",
       "      <td>Finance</td>\n",
       "      <td>Germany</td>\n",
       "    </tr>\n",
       "    <tr>\n",
       "      <th>30</th>\n",
       "      <td>158</td>\n",
       "      <td>Converted</td>\n",
       "      <td>Company_30</td>\n",
       "      <td>2024-03-10</td>\n",
       "      <td>Healthcare</td>\n",
       "      <td>France</td>\n",
       "    </tr>\n",
       "    <tr>\n",
       "      <th>31</th>\n",
       "      <td>187</td>\n",
       "      <td>Converted</td>\n",
       "      <td>Company_31</td>\n",
       "      <td>2024-03-04</td>\n",
       "      <td>E-commerce</td>\n",
       "      <td>US</td>\n",
       "    </tr>\n",
       "    <tr>\n",
       "      <th>32</th>\n",
       "      <td>199</td>\n",
       "      <td>Converted</td>\n",
       "      <td>Company_32</td>\n",
       "      <td>2024-03-01</td>\n",
       "      <td>Healthcare</td>\n",
       "      <td>US</td>\n",
       "    </tr>\n",
       "    <tr>\n",
       "      <th>33</th>\n",
       "      <td>150</td>\n",
       "      <td>Prospect</td>\n",
       "      <td>Company_33</td>\n",
       "      <td>2024-03-10</td>\n",
       "      <td>SaaS</td>\n",
       "      <td>UK</td>\n",
       "    </tr>\n",
       "    <tr>\n",
       "      <th>34</th>\n",
       "      <td>138</td>\n",
       "      <td>Converted</td>\n",
       "      <td>Company_34</td>\n",
       "      <td>2024-03-08</td>\n",
       "      <td>SaaS</td>\n",
       "      <td>US</td>\n",
       "    </tr>\n",
       "    <tr>\n",
       "      <th>35</th>\n",
       "      <td>120</td>\n",
       "      <td>Prospect</td>\n",
       "      <td>Company_35</td>\n",
       "      <td>2024-03-06</td>\n",
       "      <td>SaaS</td>\n",
       "      <td>Germany</td>\n",
       "    </tr>\n",
       "    <tr>\n",
       "      <th>36</th>\n",
       "      <td>103</td>\n",
       "      <td>Prospect</td>\n",
       "      <td>Company_36</td>\n",
       "      <td>2024-03-07</td>\n",
       "      <td>SaaS</td>\n",
       "      <td>UK</td>\n",
       "    </tr>\n",
       "    <tr>\n",
       "      <th>37</th>\n",
       "      <td>188</td>\n",
       "      <td>Converted</td>\n",
       "      <td>Company_37</td>\n",
       "      <td>2024-03-07</td>\n",
       "      <td>Finance</td>\n",
       "      <td>US</td>\n",
       "    </tr>\n",
       "    <tr>\n",
       "      <th>38</th>\n",
       "      <td>146</td>\n",
       "      <td>Converted</td>\n",
       "      <td>Company_38</td>\n",
       "      <td>2024-03-10</td>\n",
       "      <td>SaaS</td>\n",
       "      <td>UK</td>\n",
       "    </tr>\n",
       "    <tr>\n",
       "      <th>39</th>\n",
       "      <td>161</td>\n",
       "      <td>Converted</td>\n",
       "      <td>Company_39</td>\n",
       "      <td>2024-03-01</td>\n",
       "      <td>Finance</td>\n",
       "      <td>US</td>\n",
       "    </tr>\n",
       "    <tr>\n",
       "      <th>40</th>\n",
       "      <td>146</td>\n",
       "      <td>Lost</td>\n",
       "      <td>Company_40</td>\n",
       "      <td>2024-03-03</td>\n",
       "      <td>Finance</td>\n",
       "      <td>US</td>\n",
       "    </tr>\n",
       "    <tr>\n",
       "      <th>41</th>\n",
       "      <td>180</td>\n",
       "      <td>Converted</td>\n",
       "      <td>Company_41</td>\n",
       "      <td>2024-03-08</td>\n",
       "      <td>SaaS</td>\n",
       "      <td>US</td>\n",
       "    </tr>\n",
       "    <tr>\n",
       "      <th>42</th>\n",
       "      <td>191</td>\n",
       "      <td>Prospect</td>\n",
       "      <td>Company_42</td>\n",
       "      <td>2024-03-01</td>\n",
       "      <td>SaaS</td>\n",
       "      <td>Germany</td>\n",
       "    </tr>\n",
       "    <tr>\n",
       "      <th>43</th>\n",
       "      <td>173</td>\n",
       "      <td>Converted</td>\n",
       "      <td>Company_43</td>\n",
       "      <td>2024-03-06</td>\n",
       "      <td>E-commerce</td>\n",
       "      <td>Germany</td>\n",
       "    </tr>\n",
       "    <tr>\n",
       "      <th>44</th>\n",
       "      <td>132</td>\n",
       "      <td>Lost</td>\n",
       "      <td>Company_44</td>\n",
       "      <td>2024-03-11</td>\n",
       "      <td>Healthcare</td>\n",
       "      <td>UK</td>\n",
       "    </tr>\n",
       "    <tr>\n",
       "      <th>45</th>\n",
       "      <td>189</td>\n",
       "      <td>Converted</td>\n",
       "      <td>Company_45</td>\n",
       "      <td>2024-03-07</td>\n",
       "      <td>SaaS</td>\n",
       "      <td>US</td>\n",
       "    </tr>\n",
       "    <tr>\n",
       "      <th>46</th>\n",
       "      <td>123</td>\n",
       "      <td>Lost</td>\n",
       "      <td>Company_46</td>\n",
       "      <td>2024-03-09</td>\n",
       "      <td>E-commerce</td>\n",
       "      <td>US</td>\n",
       "    </tr>\n",
       "    <tr>\n",
       "      <th>47</th>\n",
       "      <td>160</td>\n",
       "      <td>Lost</td>\n",
       "      <td>Company_47</td>\n",
       "      <td>2024-03-11</td>\n",
       "      <td>E-commerce</td>\n",
       "      <td>Germany</td>\n",
       "    </tr>\n",
       "    <tr>\n",
       "      <th>48</th>\n",
       "      <td>152</td>\n",
       "      <td>Converted</td>\n",
       "      <td>Company_48</td>\n",
       "      <td>2024-03-03</td>\n",
       "      <td>Healthcare</td>\n",
       "      <td>US</td>\n",
       "    </tr>\n",
       "    <tr>\n",
       "      <th>49</th>\n",
       "      <td>106</td>\n",
       "      <td>Prospect</td>\n",
       "      <td>Company_49</td>\n",
       "      <td>2024-03-01</td>\n",
       "      <td>Finance</td>\n",
       "      <td>Germany</td>\n",
       "    </tr>\n",
       "    <tr>\n",
       "      <th>50</th>\n",
       "      <td>194</td>\n",
       "      <td>Lost</td>\n",
       "      <td>Company_50</td>\n",
       "      <td>2024-03-05</td>\n",
       "      <td>SaaS</td>\n",
       "      <td>US</td>\n",
       "    </tr>\n",
       "    <tr>\n",
       "      <th>51</th>\n",
       "      <td>190</td>\n",
       "      <td>Converted</td>\n",
       "      <td>Company_51</td>\n",
       "      <td>2024-03-03</td>\n",
       "      <td>Healthcare</td>\n",
       "      <td>UK</td>\n",
       "    </tr>\n",
       "    <tr>\n",
       "      <th>52</th>\n",
       "      <td>102</td>\n",
       "      <td>Converted</td>\n",
       "      <td>Company_52</td>\n",
       "      <td>2024-03-02</td>\n",
       "      <td>SaaS</td>\n",
       "      <td>US</td>\n",
       "    </tr>\n",
       "    <tr>\n",
       "      <th>53</th>\n",
       "      <td>121</td>\n",
       "      <td>Prospect</td>\n",
       "      <td>Company_53</td>\n",
       "      <td>2024-03-11</td>\n",
       "      <td>E-commerce</td>\n",
       "      <td>US</td>\n",
       "    </tr>\n",
       "    <tr>\n",
       "      <th>54</th>\n",
       "      <td>177</td>\n",
       "      <td>Lost</td>\n",
       "      <td>Company_54</td>\n",
       "      <td>2024-03-03</td>\n",
       "      <td>E-commerce</td>\n",
       "      <td>France</td>\n",
       "    </tr>\n",
       "    <tr>\n",
       "      <th>55</th>\n",
       "      <td>174</td>\n",
       "      <td>Lost</td>\n",
       "      <td>Company_55</td>\n",
       "      <td>2024-03-07</td>\n",
       "      <td>Finance</td>\n",
       "      <td>Germany</td>\n",
       "    </tr>\n",
       "    <tr>\n",
       "      <th>56</th>\n",
       "      <td>183</td>\n",
       "      <td>Converted</td>\n",
       "      <td>Company_56</td>\n",
       "      <td>2024-03-09</td>\n",
       "      <td>E-commerce</td>\n",
       "      <td>US</td>\n",
       "    </tr>\n",
       "    <tr>\n",
       "      <th>57</th>\n",
       "      <td>170</td>\n",
       "      <td>Converted</td>\n",
       "      <td>Company_57</td>\n",
       "      <td>2024-03-08</td>\n",
       "      <td>E-commerce</td>\n",
       "      <td>US</td>\n",
       "    </tr>\n",
       "    <tr>\n",
       "      <th>58</th>\n",
       "      <td>161</td>\n",
       "      <td>Prospect</td>\n",
       "      <td>Company_58</td>\n",
       "      <td>2024-03-08</td>\n",
       "      <td>Healthcare</td>\n",
       "      <td>France</td>\n",
       "    </tr>\n",
       "    <tr>\n",
       "      <th>59</th>\n",
       "      <td>103</td>\n",
       "      <td>Prospect</td>\n",
       "      <td>Company_59</td>\n",
       "      <td>2024-03-02</td>\n",
       "      <td>SaaS</td>\n",
       "      <td>France</td>\n",
       "    </tr>\n",
       "  </tbody>\n",
       "</table>\n",
       "</div>"
      ],
      "text/plain": [
       "    user_id lead_status     company sign_up_date    industry  country\n",
       "0       137   Converted   Company_0   2024-03-09  Healthcare       US\n",
       "1       163   Converted   Company_1   2024-03-01     Finance       UK\n",
       "2       103    Prospect   Company_2   2024-03-02  Healthcare   France\n",
       "3       163        Lost   Company_3   2024-03-01        SaaS       US\n",
       "4       171        Lost   Company_4   2024-03-07  Healthcare  Germany\n",
       "5       151   Converted   Company_5   2024-03-01     Finance       US\n",
       "6       141    Prospect   Company_6   2024-03-02  E-commerce  Germany\n",
       "7       117        Lost   Company_7   2024-03-08     Finance   France\n",
       "8       114        Lost   Company_8   2024-03-09     Finance       UK\n",
       "9       171    Prospect   Company_9   2024-03-10     Finance       US\n",
       "10      102    Prospect  Company_10   2024-03-11  E-commerce       UK\n",
       "11      154        Lost  Company_11   2024-03-01     Finance       US\n",
       "12      162        Lost  Company_12   2024-03-01     Finance  Germany\n",
       "13      147    Prospect  Company_13   2024-03-07     Finance       UK\n",
       "14      181        Lost  Company_14   2024-03-11        SaaS       US\n",
       "15      192   Converted  Company_15   2024-03-03     Finance  Germany\n",
       "16      157   Converted  Company_16   2024-03-06  E-commerce       UK\n",
       "17      161    Prospect  Company_17   2024-03-07     Finance       UK\n",
       "18      184    Prospect  Company_18   2024-03-01     Finance       US\n",
       "19      107    Prospect  Company_19   2024-03-01  E-commerce       US\n",
       "20      161   Converted  Company_20   2024-03-11     Finance       US\n",
       "21      149        Lost  Company_21   2024-03-10  E-commerce  Germany\n",
       "22      120   Converted  Company_22   2024-03-01     Finance       US\n",
       "23      134        Lost  Company_23   2024-03-06  E-commerce       UK\n",
       "24      159   Converted  Company_24   2024-03-06     Finance       UK\n",
       "25      143        Lost  Company_25   2024-03-11     Finance       US\n",
       "26      108   Converted  Company_26   2024-03-05        SaaS       US\n",
       "27      150    Prospect  Company_27   2024-03-04        SaaS   France\n",
       "28      121   Converted  Company_28   2024-03-03     Finance       UK\n",
       "29      187        Lost  Company_29   2024-03-03     Finance  Germany\n",
       "30      158   Converted  Company_30   2024-03-10  Healthcare   France\n",
       "31      187   Converted  Company_31   2024-03-04  E-commerce       US\n",
       "32      199   Converted  Company_32   2024-03-01  Healthcare       US\n",
       "33      150    Prospect  Company_33   2024-03-10        SaaS       UK\n",
       "34      138   Converted  Company_34   2024-03-08        SaaS       US\n",
       "35      120    Prospect  Company_35   2024-03-06        SaaS  Germany\n",
       "36      103    Prospect  Company_36   2024-03-07        SaaS       UK\n",
       "37      188   Converted  Company_37   2024-03-07     Finance       US\n",
       "38      146   Converted  Company_38   2024-03-10        SaaS       UK\n",
       "39      161   Converted  Company_39   2024-03-01     Finance       US\n",
       "40      146        Lost  Company_40   2024-03-03     Finance       US\n",
       "41      180   Converted  Company_41   2024-03-08        SaaS       US\n",
       "42      191    Prospect  Company_42   2024-03-01        SaaS  Germany\n",
       "43      173   Converted  Company_43   2024-03-06  E-commerce  Germany\n",
       "44      132        Lost  Company_44   2024-03-11  Healthcare       UK\n",
       "45      189   Converted  Company_45   2024-03-07        SaaS       US\n",
       "46      123        Lost  Company_46   2024-03-09  E-commerce       US\n",
       "47      160        Lost  Company_47   2024-03-11  E-commerce  Germany\n",
       "48      152   Converted  Company_48   2024-03-03  Healthcare       US\n",
       "49      106    Prospect  Company_49   2024-03-01     Finance  Germany\n",
       "50      194        Lost  Company_50   2024-03-05        SaaS       US\n",
       "51      190   Converted  Company_51   2024-03-03  Healthcare       UK\n",
       "52      102   Converted  Company_52   2024-03-02        SaaS       US\n",
       "53      121    Prospect  Company_53   2024-03-11  E-commerce       US\n",
       "54      177        Lost  Company_54   2024-03-03  E-commerce   France\n",
       "55      174        Lost  Company_55   2024-03-07     Finance  Germany\n",
       "56      183   Converted  Company_56   2024-03-09  E-commerce       US\n",
       "57      170   Converted  Company_57   2024-03-08  E-commerce       US\n",
       "58      161    Prospect  Company_58   2024-03-08  Healthcare   France\n",
       "59      103    Prospect  Company_59   2024-03-02        SaaS   France"
      ]
     },
     "execution_count": 4,
     "metadata": {},
     "output_type": "execute_result"
    }
   ],
   "source": [
    "crm_df#.columns"
   ]
  },
  {
   "cell_type": "code",
   "execution_count": 5,
   "id": "00b245aa",
   "metadata": {},
   "outputs": [
    {
     "name": "stdout",
     "output_type": "stream",
     "text": [
      "<class 'pandas.core.frame.DataFrame'>\n",
      "RangeIndex: 60 entries, 0 to 59\n",
      "Data columns (total 6 columns):\n",
      " #   Column        Non-Null Count  Dtype \n",
      "---  ------        --------------  ----- \n",
      " 0   user_id       60 non-null     int64 \n",
      " 1   lead_status   60 non-null     object\n",
      " 2   company       60 non-null     object\n",
      " 3   sign_up_date  60 non-null     object\n",
      " 4   industry      60 non-null     object\n",
      " 5   country       60 non-null     object\n",
      "dtypes: int64(1), object(5)\n",
      "memory usage: 2.9+ KB\n"
     ]
    }
   ],
   "source": [
    "crm_df.info()"
   ]
  },
  {
   "cell_type": "code",
   "execution_count": 19,
   "id": "7441e2fb-6f9d-4e1d-8dcf-70641764e45f",
   "metadata": {},
   "outputs": [
    {
     "data": {
      "text/plain": [
       "user_id         0\n",
       "lead_status     0\n",
       "company         0\n",
       "sign_up_date    0\n",
       "industry        0\n",
       "country         0\n",
       "dtype: int64"
      ]
     },
     "execution_count": 19,
     "metadata": {},
     "output_type": "execute_result"
    }
   ],
   "source": [
    "crm_df.isna().sum()"
   ]
  },
  {
   "cell_type": "code",
   "execution_count": 12,
   "id": "e92cc38f",
   "metadata": {},
   "outputs": [
    {
     "data": {
      "application/vnd.microsoft.datawrangler.viewer.v0+json": {
       "columns": [
        {
         "name": "index",
         "rawType": "object",
         "type": "string"
        },
        {
         "name": "0",
         "rawType": "int64",
         "type": "integer"
        }
       ],
       "ref": "6f806195-b961-4f20-a1c6-23b7131e742d",
       "rows": [
        [
         "user_id",
         "47"
        ],
        [
         "lead_status",
         "3"
        ],
        [
         "company",
         "60"
        ],
        [
         "sign_up_date",
         "11"
        ],
        [
         "industry",
         "4"
        ],
        [
         "country",
         "4"
        ]
       ],
       "shape": {
        "columns": 1,
        "rows": 6
       }
      },
      "text/plain": [
       "user_id         47\n",
       "lead_status      3\n",
       "company         60\n",
       "sign_up_date    11\n",
       "industry         4\n",
       "country          4\n",
       "dtype: int64"
      ]
     },
     "execution_count": 12,
     "metadata": {},
     "output_type": "execute_result"
    }
   ],
   "source": [
    "crm_df.nunique()"
   ]
  },
  {
   "cell_type": "code",
   "execution_count": 6,
   "id": "2ecd7707",
   "metadata": {},
   "outputs": [],
   "source": [
    "crm_df[\"sign_up_date\"] = pd.to_datetime(crm_df[\"sign_up_date\"] )"
   ]
  },
  {
   "cell_type": "code",
   "execution_count": 7,
   "id": "0b10fbbe",
   "metadata": {},
   "outputs": [
    {
     "data": {
      "text/plain": [
       "count                     60\n",
       "mean     2024-03-05 16:24:00\n",
       "min      2024-03-01 00:00:00\n",
       "25%      2024-03-02 00:00:00\n",
       "50%      2024-03-06 00:00:00\n",
       "75%      2024-03-09 00:00:00\n",
       "max      2024-03-11 00:00:00\n",
       "Name: sign_up_date, dtype: object"
      ]
     },
     "execution_count": 7,
     "metadata": {},
     "output_type": "execute_result"
    }
   ],
   "source": [
    "crm_df[\"sign_up_date\"].describe()"
   ]
  },
  {
   "cell_type": "code",
   "execution_count": 17,
   "id": "a2464795",
   "metadata": {},
   "outputs": [
    {
     "data": {
      "application/vnd.microsoft.datawrangler.viewer.v0+json": {
       "columns": [
        {
         "name": "index",
         "rawType": "int64",
         "type": "integer"
        },
        {
         "name": "user_id",
         "rawType": "int64",
         "type": "integer"
        },
        {
         "name": "lead_status",
         "rawType": "object",
         "type": "string"
        },
        {
         "name": "company",
         "rawType": "object",
         "type": "string"
        },
        {
         "name": "sign_up_date",
         "rawType": "object",
         "type": "string"
        },
        {
         "name": "industry",
         "rawType": "object",
         "type": "string"
        },
        {
         "name": "country",
         "rawType": "object",
         "type": "string"
        }
       ],
       "ref": "889a2812-ccc8-4c09-b41a-da6cb9dddf88",
       "rows": [
        [
         "3",
         "163",
         "Lost",
         "Company_3",
         "2024-03-01",
         "SaaS",
         "US"
        ],
        [
         "9",
         "171",
         "Prospect",
         "Company_9",
         "2024-03-10",
         "Finance",
         "US"
        ],
        [
         "20",
         "161",
         "Converted",
         "Company_20",
         "2024-03-11",
         "Finance",
         "US"
        ],
        [
         "31",
         "187",
         "Converted",
         "Company_31",
         "2024-03-04",
         "E-commerce",
         "US"
        ],
        [
         "33",
         "150",
         "Prospect",
         "Company_33",
         "2024-03-10",
         "SaaS",
         "UK"
        ],
        [
         "35",
         "120",
         "Prospect",
         "Company_35",
         "2024-03-06",
         "SaaS",
         "Germany"
        ],
        [
         "36",
         "103",
         "Prospect",
         "Company_36",
         "2024-03-07",
         "SaaS",
         "UK"
        ],
        [
         "39",
         "161",
         "Converted",
         "Company_39",
         "2024-03-01",
         "Finance",
         "US"
        ],
        [
         "40",
         "146",
         "Lost",
         "Company_40",
         "2024-03-03",
         "Finance",
         "US"
        ],
        [
         "52",
         "102",
         "Converted",
         "Company_52",
         "2024-03-02",
         "SaaS",
         "US"
        ],
        [
         "53",
         "121",
         "Prospect",
         "Company_53",
         "2024-03-11",
         "E-commerce",
         "US"
        ],
        [
         "58",
         "161",
         "Prospect",
         "Company_58",
         "2024-03-08",
         "Healthcare",
         "France"
        ],
        [
         "59",
         "103",
         "Prospect",
         "Company_59",
         "2024-03-02",
         "SaaS",
         "France"
        ]
       ],
       "shape": {
        "columns": 6,
        "rows": 13
       }
      },
      "text/html": [
       "<div>\n",
       "<style scoped>\n",
       "    .dataframe tbody tr th:only-of-type {\n",
       "        vertical-align: middle;\n",
       "    }\n",
       "\n",
       "    .dataframe tbody tr th {\n",
       "        vertical-align: top;\n",
       "    }\n",
       "\n",
       "    .dataframe thead th {\n",
       "        text-align: right;\n",
       "    }\n",
       "</style>\n",
       "<table border=\"1\" class=\"dataframe\">\n",
       "  <thead>\n",
       "    <tr style=\"text-align: right;\">\n",
       "      <th></th>\n",
       "      <th>user_id</th>\n",
       "      <th>lead_status</th>\n",
       "      <th>company</th>\n",
       "      <th>sign_up_date</th>\n",
       "      <th>industry</th>\n",
       "      <th>country</th>\n",
       "    </tr>\n",
       "  </thead>\n",
       "  <tbody>\n",
       "    <tr>\n",
       "      <th>3</th>\n",
       "      <td>163</td>\n",
       "      <td>Lost</td>\n",
       "      <td>Company_3</td>\n",
       "      <td>2024-03-01</td>\n",
       "      <td>SaaS</td>\n",
       "      <td>US</td>\n",
       "    </tr>\n",
       "    <tr>\n",
       "      <th>9</th>\n",
       "      <td>171</td>\n",
       "      <td>Prospect</td>\n",
       "      <td>Company_9</td>\n",
       "      <td>2024-03-10</td>\n",
       "      <td>Finance</td>\n",
       "      <td>US</td>\n",
       "    </tr>\n",
       "    <tr>\n",
       "      <th>20</th>\n",
       "      <td>161</td>\n",
       "      <td>Converted</td>\n",
       "      <td>Company_20</td>\n",
       "      <td>2024-03-11</td>\n",
       "      <td>Finance</td>\n",
       "      <td>US</td>\n",
       "    </tr>\n",
       "    <tr>\n",
       "      <th>31</th>\n",
       "      <td>187</td>\n",
       "      <td>Converted</td>\n",
       "      <td>Company_31</td>\n",
       "      <td>2024-03-04</td>\n",
       "      <td>E-commerce</td>\n",
       "      <td>US</td>\n",
       "    </tr>\n",
       "    <tr>\n",
       "      <th>33</th>\n",
       "      <td>150</td>\n",
       "      <td>Prospect</td>\n",
       "      <td>Company_33</td>\n",
       "      <td>2024-03-10</td>\n",
       "      <td>SaaS</td>\n",
       "      <td>UK</td>\n",
       "    </tr>\n",
       "    <tr>\n",
       "      <th>35</th>\n",
       "      <td>120</td>\n",
       "      <td>Prospect</td>\n",
       "      <td>Company_35</td>\n",
       "      <td>2024-03-06</td>\n",
       "      <td>SaaS</td>\n",
       "      <td>Germany</td>\n",
       "    </tr>\n",
       "    <tr>\n",
       "      <th>36</th>\n",
       "      <td>103</td>\n",
       "      <td>Prospect</td>\n",
       "      <td>Company_36</td>\n",
       "      <td>2024-03-07</td>\n",
       "      <td>SaaS</td>\n",
       "      <td>UK</td>\n",
       "    </tr>\n",
       "    <tr>\n",
       "      <th>39</th>\n",
       "      <td>161</td>\n",
       "      <td>Converted</td>\n",
       "      <td>Company_39</td>\n",
       "      <td>2024-03-01</td>\n",
       "      <td>Finance</td>\n",
       "      <td>US</td>\n",
       "    </tr>\n",
       "    <tr>\n",
       "      <th>40</th>\n",
       "      <td>146</td>\n",
       "      <td>Lost</td>\n",
       "      <td>Company_40</td>\n",
       "      <td>2024-03-03</td>\n",
       "      <td>Finance</td>\n",
       "      <td>US</td>\n",
       "    </tr>\n",
       "    <tr>\n",
       "      <th>52</th>\n",
       "      <td>102</td>\n",
       "      <td>Converted</td>\n",
       "      <td>Company_52</td>\n",
       "      <td>2024-03-02</td>\n",
       "      <td>SaaS</td>\n",
       "      <td>US</td>\n",
       "    </tr>\n",
       "    <tr>\n",
       "      <th>53</th>\n",
       "      <td>121</td>\n",
       "      <td>Prospect</td>\n",
       "      <td>Company_53</td>\n",
       "      <td>2024-03-11</td>\n",
       "      <td>E-commerce</td>\n",
       "      <td>US</td>\n",
       "    </tr>\n",
       "    <tr>\n",
       "      <th>58</th>\n",
       "      <td>161</td>\n",
       "      <td>Prospect</td>\n",
       "      <td>Company_58</td>\n",
       "      <td>2024-03-08</td>\n",
       "      <td>Healthcare</td>\n",
       "      <td>France</td>\n",
       "    </tr>\n",
       "    <tr>\n",
       "      <th>59</th>\n",
       "      <td>103</td>\n",
       "      <td>Prospect</td>\n",
       "      <td>Company_59</td>\n",
       "      <td>2024-03-02</td>\n",
       "      <td>SaaS</td>\n",
       "      <td>France</td>\n",
       "    </tr>\n",
       "  </tbody>\n",
       "</table>\n",
       "</div>"
      ],
      "text/plain": [
       "    user_id lead_status     company sign_up_date    industry  country\n",
       "3       163        Lost   Company_3   2024-03-01        SaaS       US\n",
       "9       171    Prospect   Company_9   2024-03-10     Finance       US\n",
       "20      161   Converted  Company_20   2024-03-11     Finance       US\n",
       "31      187   Converted  Company_31   2024-03-04  E-commerce       US\n",
       "33      150    Prospect  Company_33   2024-03-10        SaaS       UK\n",
       "35      120    Prospect  Company_35   2024-03-06        SaaS  Germany\n",
       "36      103    Prospect  Company_36   2024-03-07        SaaS       UK\n",
       "39      161   Converted  Company_39   2024-03-01     Finance       US\n",
       "40      146        Lost  Company_40   2024-03-03     Finance       US\n",
       "52      102   Converted  Company_52   2024-03-02        SaaS       US\n",
       "53      121    Prospect  Company_53   2024-03-11  E-commerce       US\n",
       "58      161    Prospect  Company_58   2024-03-08  Healthcare   France\n",
       "59      103    Prospect  Company_59   2024-03-02        SaaS   France"
      ]
     },
     "execution_count": 17,
     "metadata": {},
     "output_type": "execute_result"
    }
   ],
   "source": [
    "crm_df[crm_df.user_id.duplicated()] "
   ]
  },
  {
   "cell_type": "code",
   "execution_count": 14,
   "id": "b4ae626b-4435-433e-9032-07f87e7f25f4",
   "metadata": {},
   "outputs": [],
   "source": [
    "def plot_column_distribution(df, col_name):\n",
    "    return df[col_name].value_counts().plot(kind = \"bar\")"
   ]
  },
  {
   "cell_type": "code",
   "execution_count": 20,
   "id": "12a7fbc7-c0fa-48f1-9971-9075a4034f9f",
   "metadata": {},
   "outputs": [
    {
     "data": {
      "text/plain": [
       "<Axes: xlabel='lead_status'>"
      ]
     },
     "execution_count": 20,
     "metadata": {},
     "output_type": "execute_result"
    },
    {
     "data": {
      "image/png": "[encoded data removed]",
      "text/plain": [
       "<Figure size 640x480 with 1 Axes>"
      ]
     },
     "metadata": {},
     "output_type": "display_data"
    }
   ],
   "source": [
    "plot_column_distribution(crm_df, \"lead_status\")"
   ]
  },
  {
   "cell_type": "code",
   "execution_count": 15,
   "id": "555f24d6",
   "metadata": {
    "scrolled": true
   },
   "outputs": [
    {
     "data": {
      "text/plain": [
       "<Axes: xlabel='industry'>"
      ]
     },
     "execution_count": 15,
     "metadata": {},
     "output_type": "execute_result"
    },
    {
     "data": {
      "image/png": "[encoded data removed]",
      "text/plain": [
       "<Figure size 640x480 with 1 Axes>"
      ]
     },
     "metadata": {},
     "output_type": "display_data"
    }
   ],
   "source": [
    "plot_column_distribution(crm_df, \"industry\")"
   ]
  },
  {
   "cell_type": "code",
   "execution_count": 16,
   "id": "2c97cc19",
   "metadata": {},
   "outputs": [
    {
     "data": {
      "text/plain": [
       "<Axes: xlabel='country'>"
      ]
     },
     "execution_count": 16,
     "metadata": {},
     "output_type": "execute_result"
    },
    {
     "data": {
      "image/png": "[encoded data removed]",
      "text/plain": [
       "<Figure size 640x480 with 1 Axes>"
      ]
     },
     "metadata": {},
     "output_type": "display_data"
    }
   ],
   "source": [
    "plot_column_distribution(crm_df, \"country\")"
   ]
  },
  {
   "cell_type": "code",
   "execution_count": null,
   "id": "de0e4dc8",
   "metadata": {},
   "outputs": [],
   "source": [
    "def get_conversion_rate_by_column(df, column_name):\n",
    "    \"\"\"\n",
    "    Calculate conversion rate by a specific column.\n",
    "    \"\"\"\n",
    "    total_count = df[column_name].value_counts()\n",
    "    converted_count = df[df[\"lead_status\"] == \"Converted\"][column_name].value_counts()\n",
    "\n",
    "    conversion_rate = (converted_count / total_count).fillna(0)\n",
    "    return conversion_rate"
   ]
  },
  {
   "cell_type": "code",
   "execution_count": 44,
   "id": "25908e07",
   "metadata": {},
   "outputs": [
    {
     "data": {
      "application/vnd.microsoft.datawrangler.viewer.v0+json": {
       "columns": [
        {
         "name": "country",
         "rawType": "object",
         "type": "string"
        },
        {
         "name": "('user_id', 'count')",
         "rawType": "float64",
         "type": "float"
        },
        {
         "name": "('user_id', 'mean')",
         "rawType": "float64",
         "type": "float"
        },
        {
         "name": "('user_id', 'min')",
         "rawType": "float64",
         "type": "float"
        },
        {
         "name": "('user_id', '25%')",
         "rawType": "float64",
         "type": "float"
        },
        {
         "name": "('user_id', '50%')",
         "rawType": "float64",
         "type": "float"
        },
        {
         "name": "('user_id', '75%')",
         "rawType": "float64",
         "type": "float"
        },
        {
         "name": "('user_id', 'max')",
         "rawType": "float64",
         "type": "float"
        },
        {
         "name": "('user_id', 'std')",
         "rawType": "float64",
         "type": "float"
        },
        {
         "name": "('sign_up_date', 'count')",
         "rawType": "object",
         "type": "unknown"
        },
        {
         "name": "('sign_up_date', 'mean')",
         "rawType": "object",
         "type": "unknown"
        },
        {
         "name": "('sign_up_date', 'min')",
         "rawType": "object",
         "type": "unknown"
        },
        {
         "name": "('sign_up_date', '25%')",
         "rawType": "object",
         "type": "unknown"
        },
        {
         "name": "('sign_up_date', '50%')",
         "rawType": "object",
         "type": "unknown"
        },
        {
         "name": "('sign_up_date', '75%')",
         "rawType": "object",
         "type": "unknown"
        },
        {
         "name": "('sign_up_date', 'max')",
         "rawType": "object",
         "type": "unknown"
        },
        {
         "name": "('sign_up_date', 'std')",
         "rawType": "object",
         "type": "unknown"
        }
       ],
       "ref": "96527e7c-b183-4e7a-9de9-429daea07852",
       "rows": [
        [
         "France",
         "7.0",
         "138.42857142857142",
         "103.0",
         "110.0",
         "150.0",
         "159.5",
         "177.0",
         "30.23164535635434",
         "7",
         "2024-03-05 06:51:25.714285824",
         "2024-03-02 00:00:00",
         "2024-03-02 12:00:00",
         "2024-03-04 00:00:00",
         "2024-03-08 00:00:00",
         "2024-03-10 00:00:00",
         null
        ],
        [
         "Germany",
         "12.0",
         "160.5",
         "106.0",
         "147.0",
         "166.5",
         "177.25",
         "192.0",
         "27.301348618037835",
         "12",
         "2024-03-04 20:00:00",
         "2024-03-01 00:00:00",
         "2024-03-01 18:00:00",
         "2024-03-04 12:00:00",
         "2024-03-07 00:00:00",
         "2024-03-11 00:00:00",
         null
        ],
        [
         "UK",
         "14.0",
         "141.35714285714286",
         "102.0",
         "123.75",
         "146.5",
         "158.5",
         "190.0",
         "25.159818829166547",
         "14",
         "2024-03-06 22:17:08.571428608",
         "2024-03-01 00:00:00",
         "2024-03-06 00:00:00",
         "2024-03-07 00:00:00",
         "2024-03-09 18:00:00",
         "2024-03-11 00:00:00",
         null
        ],
        [
         "US",
         "27.0",
         "156.03703703703704",
         "102.0",
         "137.5",
         "161.0",
         "182.0",
         "199.0",
         "28.976756575787114",
         "27",
         "2024-03-05 12:26:40",
         "2024-03-01 00:00:00",
         "2024-03-01 00:00:00",
         "2024-03-05 00:00:00",
         "2024-03-09 00:00:00",
         "2024-03-11 00:00:00",
         null
        ]
       ],
       "shape": {
        "columns": 16,
        "rows": 4
       }
      },
      "text/html": [
       "<div>\n",
       "<style scoped>\n",
       "    .dataframe tbody tr th:only-of-type {\n",
       "        vertical-align: middle;\n",
       "    }\n",
       "\n",
       "    .dataframe tbody tr th {\n",
       "        vertical-align: top;\n",
       "    }\n",
       "\n",
       "    .dataframe thead tr th {\n",
       "        text-align: left;\n",
       "    }\n",
       "\n",
       "    .dataframe thead tr:last-of-type th {\n",
       "        text-align: right;\n",
       "    }\n",
       "</style>\n",
       "<table border=\"1\" class=\"dataframe\">\n",
       "  <thead>\n",
       "    <tr>\n",
       "      <th></th>\n",
       "      <th colspan=\"8\" halign=\"left\">user_id</th>\n",
       "      <th colspan=\"8\" halign=\"left\">sign_up_date</th>\n",
       "    </tr>\n",
       "    <tr>\n",
       "      <th></th>\n",
       "      <th>count</th>\n",
       "      <th>mean</th>\n",
       "      <th>min</th>\n",
       "      <th>25%</th>\n",
       "      <th>50%</th>\n",
       "      <th>75%</th>\n",
       "      <th>max</th>\n",
       "      <th>std</th>\n",
       "      <th>count</th>\n",
       "      <th>mean</th>\n",
       "      <th>min</th>\n",
       "      <th>25%</th>\n",
       "      <th>50%</th>\n",
       "      <th>75%</th>\n",
       "      <th>max</th>\n",
       "      <th>std</th>\n",
       "    </tr>\n",
       "    <tr>\n",
       "      <th>country</th>\n",
       "      <th></th>\n",
       "      <th></th>\n",
       "      <th></th>\n",
       "      <th></th>\n",
       "      <th></th>\n",
       "      <th></th>\n",
       "      <th></th>\n",
       "      <th></th>\n",
       "      <th></th>\n",
       "      <th></th>\n",
       "      <th></th>\n",
       "      <th></th>\n",
       "      <th></th>\n",
       "      <th></th>\n",
       "      <th></th>\n",
       "      <th></th>\n",
       "    </tr>\n",
       "  </thead>\n",
       "  <tbody>\n",
       "    <tr>\n",
       "      <th>France</th>\n",
       "      <td>7.0</td>\n",
       "      <td>138.428571</td>\n",
       "      <td>103.0</td>\n",
       "      <td>110.00</td>\n",
       "      <td>150.0</td>\n",
       "      <td>159.50</td>\n",
       "      <td>177.0</td>\n",
       "      <td>30.231645</td>\n",
       "      <td>7</td>\n",
       "      <td>2024-03-05 06:51:25.714285824</td>\n",
       "      <td>2024-03-02 00:00:00</td>\n",
       "      <td>2024-03-02 12:00:00</td>\n",
       "      <td>2024-03-04 00:00:00</td>\n",
       "      <td>2024-03-08 00:00:00</td>\n",
       "      <td>2024-03-10 00:00:00</td>\n",
       "      <td>NaN</td>\n",
       "    </tr>\n",
       "    <tr>\n",
       "      <th>Germany</th>\n",
       "      <td>12.0</td>\n",
       "      <td>160.500000</td>\n",
       "      <td>106.0</td>\n",
       "      <td>147.00</td>\n",
       "      <td>166.5</td>\n",
       "      <td>177.25</td>\n",
       "      <td>192.0</td>\n",
       "      <td>27.301349</td>\n",
       "      <td>12</td>\n",
       "      <td>2024-03-04 20:00:00</td>\n",
       "      <td>2024-03-01 00:00:00</td>\n",
       "      <td>2024-03-01 18:00:00</td>\n",
       "      <td>2024-03-04 12:00:00</td>\n",
       "      <td>2024-03-07 00:00:00</td>\n",
       "      <td>2024-03-11 00:00:00</td>\n",
       "      <td>NaN</td>\n",
       "    </tr>\n",
       "    <tr>\n",
       "      <th>UK</th>\n",
       "      <td>14.0</td>\n",
       "      <td>141.357143</td>\n",
       "      <td>102.0</td>\n",
       "      <td>123.75</td>\n",
       "      <td>146.5</td>\n",
       "      <td>158.50</td>\n",
       "      <td>190.0</td>\n",
       "      <td>25.159819</td>\n",
       "      <td>14</td>\n",
       "      <td>2024-03-06 22:17:08.571428608</td>\n",
       "      <td>2024-03-01 00:00:00</td>\n",
       "      <td>2024-03-06 00:00:00</td>\n",
       "      <td>2024-03-07 00:00:00</td>\n",
       "      <td>2024-03-09 18:00:00</td>\n",
       "      <td>2024-03-11 00:00:00</td>\n",
       "      <td>NaN</td>\n",
       "    </tr>\n",
       "    <tr>\n",
       "      <th>US</th>\n",
       "      <td>27.0</td>\n",
       "      <td>156.037037</td>\n",
       "      <td>102.0</td>\n",
       "      <td>137.50</td>\n",
       "      <td>161.0</td>\n",
       "      <td>182.00</td>\n",
       "      <td>199.0</td>\n",
       "      <td>28.976757</td>\n",
       "      <td>27</td>\n",
       "      <td>2024-03-05 12:26:40</td>\n",
       "      <td>2024-03-01 00:00:00</td>\n",
       "      <td>2024-03-01 00:00:00</td>\n",
       "      <td>2024-03-05 00:00:00</td>\n",
       "      <td>2024-03-09 00:00:00</td>\n",
       "      <td>2024-03-11 00:00:00</td>\n",
       "      <td>NaN</td>\n",
       "    </tr>\n",
       "  </tbody>\n",
       "</table>\n",
       "</div>"
      ],
      "text/plain": [
       "        user_id                                                              \\\n",
       "          count        mean    min     25%    50%     75%    max        std   \n",
       "country                                                                       \n",
       "France      7.0  138.428571  103.0  110.00  150.0  159.50  177.0  30.231645   \n",
       "Germany    12.0  160.500000  106.0  147.00  166.5  177.25  192.0  27.301349   \n",
       "UK         14.0  141.357143  102.0  123.75  146.5  158.50  190.0  25.159819   \n",
       "US         27.0  156.037037  102.0  137.50  161.0  182.00  199.0  28.976757   \n",
       "\n",
       "        sign_up_date                                                      \\\n",
       "               count                           mean                  min   \n",
       "country                                                                    \n",
       "France             7  2024-03-05 06:51:25.714285824  2024-03-02 00:00:00   \n",
       "Germany           12            2024-03-04 20:00:00  2024-03-01 00:00:00   \n",
       "UK                14  2024-03-06 22:17:08.571428608  2024-03-01 00:00:00   \n",
       "US                27            2024-03-05 12:26:40  2024-03-01 00:00:00   \n",
       "\n",
       "                                                                        \\\n",
       "                         25%                  50%                  75%   \n",
       "country                                                                  \n",
       "France   2024-03-02 12:00:00  2024-03-04 00:00:00  2024-03-08 00:00:00   \n",
       "Germany  2024-03-01 18:00:00  2024-03-04 12:00:00  2024-03-07 00:00:00   \n",
       "UK       2024-03-06 00:00:00  2024-03-07 00:00:00  2024-03-09 18:00:00   \n",
       "US       2024-03-01 00:00:00  2024-03-05 00:00:00  2024-03-09 00:00:00   \n",
       "\n",
       "                                   \n",
       "                         max  std  \n",
       "country                            \n",
       "France   2024-03-10 00:00:00  NaN  \n",
       "Germany  2024-03-11 00:00:00  NaN  \n",
       "UK       2024-03-11 00:00:00  NaN  \n",
       "US       2024-03-11 00:00:00  NaN  "
      ]
     },
     "execution_count": 44,
     "metadata": {},
     "output_type": "execute_result"
    }
   ],
   "source": [
    "crm_df.groupby(\"country\").describe()"
   ]
  },
  {
   "cell_type": "code",
   "execution_count": 59,
   "id": "d6847c4d",
   "metadata": {},
   "outputs": [],
   "source": [
    "def get_conversion_rate(values):\n",
    "    # print(values)\n",
    "    num_converted = values[values == \"Converted\"].shape[0]\n",
    "    percentage = num_converted / values.shape[0] * 100\n",
    "    return percentage\n",
    "    # converted = values[values[\"lead_status\"] == \"Converted\"].shape[0]"
   ]
  },
  {
   "cell_type": "code",
   "execution_count": 62,
   "id": "95bdc66f",
   "metadata": {},
   "outputs": [
    {
     "data": {
      "application/vnd.microsoft.datawrangler.viewer.v0+json": {
       "columns": [
        {
         "name": "country",
         "rawType": "object",
         "type": "string"
        },
        {
         "name": "lead_status",
         "rawType": "float64",
         "type": "float"
        }
       ],
       "ref": "61026fc8-506d-44dc-a140-19bf08b2f41e",
       "rows": [
        [
         "France",
         "14.285714285714285"
        ],
        [
         "Germany",
         "16.666666666666664"
        ],
        [
         "UK",
         "42.857142857142854"
        ],
        [
         "US",
         "59.25925925925925"
        ]
       ],
       "shape": {
        "columns": 1,
        "rows": 4
       }
      },
      "text/plain": [
       "country\n",
       "France     14.285714\n",
       "Germany    16.666667\n",
       "UK         42.857143\n",
       "US         59.259259\n",
       "Name: lead_status, dtype: float64"
      ]
     },
     "execution_count": 62,
     "metadata": {},
     "output_type": "execute_result"
    }
   ],
   "source": [
    "crm_df.groupby('country')[\"lead_status\"].apply(get_conversion_rate)"
   ]
  },
  {
   "cell_type": "code",
   "execution_count": null,
   "id": "310011bc-bfa2-4542-a914-b59ba839de65",
   "metadata": {},
   "outputs": [],
   "source": []
  },
  {
   "cell_type": "code",
   "execution_count": null,
   "id": "eea2dd53",
   "metadata": {},
   "outputs": [
    {
     "name": "stdout",
     "output_type": "stream",
     "text": [
      "Industry: E-commerce\n",
      "    user_id lead_status     company sign_up_date    industry  country\n",
      "6       141    Prospect   Company_6   2024-03-02  E-commerce  Germany\n",
      "10      102    Prospect  Company_10   2024-03-11  E-commerce       UK\n",
      "16      157   Converted  Company_16   2024-03-06  E-commerce       UK\n",
      "19      107    Prospect  Company_19   2024-03-01  E-commerce       US\n",
      "21      149        Lost  Company_21   2024-03-10  E-commerce  Germany\n",
      "23      134        Lost  Company_23   2024-03-06  E-commerce       UK\n",
      "31      187   Converted  Company_31   2024-03-04  E-commerce       US\n",
      "43      173   Converted  Company_43   2024-03-06  E-commerce  Germany\n",
      "46      123        Lost  Company_46   2024-03-09  E-commerce       US\n",
      "47      160        Lost  Company_47   2024-03-11  E-commerce  Germany\n",
      "53      121    Prospect  Company_53   2024-03-11  E-commerce       US\n",
      "54      177        Lost  Company_54   2024-03-03  E-commerce   France\n",
      "56      183   Converted  Company_56   2024-03-09  E-commerce       US\n",
      "57      170   Converted  Company_57   2024-03-08  E-commerce       US\n",
      "\n",
      "\n",
      "Industry: Finance\n",
      "    user_id lead_status     company sign_up_date industry  country\n",
      "1       163   Converted   Company_1   2024-03-01  Finance       UK\n",
      "5       151   Converted   Company_5   2024-03-01  Finance       US\n",
      "7       117        Lost   Company_7   2024-03-08  Finance   France\n",
      "8       114        Lost   Company_8   2024-03-09  Finance       UK\n",
      "9       171    Prospect   Company_9   2024-03-10  Finance       US\n",
      "11      154        Lost  Company_11   2024-03-01  Finance       US\n",
      "12      162        Lost  Company_12   2024-03-01  Finance  Germany\n",
      "13      147    Prospect  Company_13   2024-03-07  Finance       UK\n",
      "15      192   Converted  Company_15   2024-03-03  Finance  Germany\n",
      "17      161    Prospect  Company_17   2024-03-07  Finance       UK\n",
      "18      184    Prospect  Company_18   2024-03-01  Finance       US\n",
      "20      161   Converted  Company_20   2024-03-11  Finance       US\n",
      "22      120   Converted  Company_22   2024-03-01  Finance       US\n",
      "24      159   Converted  Company_24   2024-03-06  Finance       UK\n",
      "25      143        Lost  Company_25   2024-03-11  Finance       US\n",
      "28      121   Converted  Company_28   2024-03-03  Finance       UK\n",
      "29      187        Lost  Company_29   2024-03-03  Finance  Germany\n",
      "37      188   Converted  Company_37   2024-03-07  Finance       US\n",
      "39      161   Converted  Company_39   2024-03-01  Finance       US\n",
      "40      146        Lost  Company_40   2024-03-03  Finance       US\n",
      "49      106    Prospect  Company_49   2024-03-01  Finance  Germany\n",
      "55      174        Lost  Company_55   2024-03-07  Finance  Germany\n",
      "\n",
      "\n",
      "Industry: Healthcare\n",
      "    user_id lead_status     company sign_up_date    industry  country\n",
      "0       137   Converted   Company_0   2024-03-09  Healthcare       US\n",
      "2       103    Prospect   Company_2   2024-03-02  Healthcare   France\n",
      "4       171        Lost   Company_4   2024-03-07  Healthcare  Germany\n",
      "30      158   Converted  Company_30   2024-03-10  Healthcare   France\n",
      "32      199   Converted  Company_32   2024-03-01  Healthcare       US\n",
      "44      132        Lost  Company_44   2024-03-11  Healthcare       UK\n",
      "48      152   Converted  Company_48   2024-03-03  Healthcare       US\n",
      "51      190   Converted  Company_51   2024-03-03  Healthcare       UK\n",
      "58      161    Prospect  Company_58   2024-03-08  Healthcare   France\n",
      "\n",
      "\n",
      "Industry: SaaS\n",
      "    user_id lead_status     company sign_up_date industry  country\n",
      "3       163        Lost   Company_3   2024-03-01     SaaS       US\n",
      "14      181        Lost  Company_14   2024-03-11     SaaS       US\n",
      "26      108   Converted  Company_26   2024-03-05     SaaS       US\n",
      "27      150    Prospect  Company_27   2024-03-04     SaaS   France\n",
      "33      150    Prospect  Company_33   2024-03-10     SaaS       UK\n",
      "34      138   Converted  Company_34   2024-03-08     SaaS       US\n",
      "35      120    Prospect  Company_35   2024-03-06     SaaS  Germany\n",
      "36      103    Prospect  Company_36   2024-03-07     SaaS       UK\n",
      "38      146   Converted  Company_38   2024-03-10     SaaS       UK\n",
      "41      180   Converted  Company_41   2024-03-08     SaaS       US\n",
      "42      191    Prospect  Company_42   2024-03-01     SaaS  Germany\n",
      "45      189   Converted  Company_45   2024-03-07     SaaS       US\n",
      "50      194        Lost  Company_50   2024-03-05     SaaS       US\n",
      "52      102   Converted  Company_52   2024-03-02     SaaS       US\n",
      "59      103    Prospect  Company_59   2024-03-02     SaaS   France\n",
      "\n",
      "\n"
     ]
    }
   ],
   "source": [
    "for group, data in crm_df.groupby('industry'):\n",
    "    print(f\"Industry: {group}\")\n",
    "    print(data)\n",
    "    # print(get_conversion_rate_by_column(data, \"country\"))\n",
    "    print(\"\\n\")"
   ]
  },
  {
   "cell_type": "code",
   "execution_count": 32,
   "id": "8d73cf93",
   "metadata": {},
   "outputs": [
    {
     "data": {
      "application/vnd.microsoft.datawrangler.viewer.v0+json": {
       "columns": [
        {
         "name": "index",
         "rawType": "int64",
         "type": "integer"
        },
        {
         "name": "user_id",
         "rawType": "int64",
         "type": "integer"
        },
        {
         "name": "lead_status",
         "rawType": "object",
         "type": "string"
        },
        {
         "name": "company",
         "rawType": "object",
         "type": "string"
        },
        {
         "name": "sign_up_date",
         "rawType": "datetime64[ns]",
         "type": "datetime"
        },
        {
         "name": "industry",
         "rawType": "object",
         "type": "string"
        },
        {
         "name": "country",
         "rawType": "object",
         "type": "string"
        }
       ],
       "ref": "a3ed0474-953c-44a0-bcd0-ee351d108a81",
       "rows": [
        [
         "6",
         "141",
         "Prospect",
         "Company_6",
         "2024-03-02 00:00:00",
         "E-commerce",
         "Germany"
        ],
        [
         "10",
         "102",
         "Prospect",
         "Company_10",
         "2024-03-11 00:00:00",
         "E-commerce",
         "UK"
        ],
        [
         "16",
         "157",
         "Converted",
         "Company_16",
         "2024-03-06 00:00:00",
         "E-commerce",
         "UK"
        ],
        [
         "19",
         "107",
         "Prospect",
         "Company_19",
         "2024-03-01 00:00:00",
         "E-commerce",
         "US"
        ],
        [
         "21",
         "149",
         "Lost",
         "Company_21",
         "2024-03-10 00:00:00",
         "E-commerce",
         "Germany"
        ],
        [
         "23",
         "134",
         "Lost",
         "Company_23",
         "2024-03-06 00:00:00",
         "E-commerce",
         "UK"
        ],
        [
         "31",
         "187",
         "Converted",
         "Company_31",
         "2024-03-04 00:00:00",
         "E-commerce",
         "US"
        ],
        [
         "43",
         "173",
         "Converted",
         "Company_43",
         "2024-03-06 00:00:00",
         "E-commerce",
         "Germany"
        ],
        [
         "46",
         "123",
         "Lost",
         "Company_46",
         "2024-03-09 00:00:00",
         "E-commerce",
         "US"
        ],
        [
         "47",
         "160",
         "Lost",
         "Company_47",
         "2024-03-11 00:00:00",
         "E-commerce",
         "Germany"
        ],
        [
         "53",
         "121",
         "Prospect",
         "Company_53",
         "2024-03-11 00:00:00",
         "E-commerce",
         "US"
        ],
        [
         "54",
         "177",
         "Lost",
         "Company_54",
         "2024-03-03 00:00:00",
         "E-commerce",
         "France"
        ],
        [
         "56",
         "183",
         "Converted",
         "Company_56",
         "2024-03-09 00:00:00",
         "E-commerce",
         "US"
        ],
        [
         "57",
         "170",
         "Converted",
         "Company_57",
         "2024-03-08 00:00:00",
         "E-commerce",
         "US"
        ]
       ],
       "shape": {
        "columns": 6,
        "rows": 14
       }
      },
      "text/html": [
       "<div>\n",
       "<style scoped>\n",
       "    .dataframe tbody tr th:only-of-type {\n",
       "        vertical-align: middle;\n",
       "    }\n",
       "\n",
       "    .dataframe tbody tr th {\n",
       "        vertical-align: top;\n",
       "    }\n",
       "\n",
       "    .dataframe thead th {\n",
       "        text-align: right;\n",
       "    }\n",
       "</style>\n",
       "<table border=\"1\" class=\"dataframe\">\n",
       "  <thead>\n",
       "    <tr style=\"text-align: right;\">\n",
       "      <th></th>\n",
       "      <th>user_id</th>\n",
       "      <th>lead_status</th>\n",
       "      <th>company</th>\n",
       "      <th>sign_up_date</th>\n",
       "      <th>industry</th>\n",
       "      <th>country</th>\n",
       "    </tr>\n",
       "  </thead>\n",
       "  <tbody>\n",
       "    <tr>\n",
       "      <th>6</th>\n",
       "      <td>141</td>\n",
       "      <td>Prospect</td>\n",
       "      <td>Company_6</td>\n",
       "      <td>2024-03-02</td>\n",
       "      <td>E-commerce</td>\n",
       "      <td>Germany</td>\n",
       "    </tr>\n",
       "    <tr>\n",
       "      <th>10</th>\n",
       "      <td>102</td>\n",
       "      <td>Prospect</td>\n",
       "      <td>Company_10</td>\n",
       "      <td>2024-03-11</td>\n",
       "      <td>E-commerce</td>\n",
       "      <td>UK</td>\n",
       "    </tr>\n",
       "    <tr>\n",
       "      <th>16</th>\n",
       "      <td>157</td>\n",
       "      <td>Converted</td>\n",
       "      <td>Company_16</td>\n",
       "      <td>2024-03-06</td>\n",
       "      <td>E-commerce</td>\n",
       "      <td>UK</td>\n",
       "    </tr>\n",
       "    <tr>\n",
       "      <th>19</th>\n",
       "      <td>107</td>\n",
       "      <td>Prospect</td>\n",
       "      <td>Company_19</td>\n",
       "      <td>2024-03-01</td>\n",
       "      <td>E-commerce</td>\n",
       "      <td>US</td>\n",
       "    </tr>\n",
       "    <tr>\n",
       "      <th>21</th>\n",
       "      <td>149</td>\n",
       "      <td>Lost</td>\n",
       "      <td>Company_21</td>\n",
       "      <td>2024-03-10</td>\n",
       "      <td>E-commerce</td>\n",
       "      <td>Germany</td>\n",
       "    </tr>\n",
       "    <tr>\n",
       "      <th>23</th>\n",
       "      <td>134</td>\n",
       "      <td>Lost</td>\n",
       "      <td>Company_23</td>\n",
       "      <td>2024-03-06</td>\n",
       "      <td>E-commerce</td>\n",
       "      <td>UK</td>\n",
       "    </tr>\n",
       "    <tr>\n",
       "      <th>31</th>\n",
       "      <td>187</td>\n",
       "      <td>Converted</td>\n",
       "      <td>Company_31</td>\n",
       "      <td>2024-03-04</td>\n",
       "      <td>E-commerce</td>\n",
       "      <td>US</td>\n",
       "    </tr>\n",
       "    <tr>\n",
       "      <th>43</th>\n",
       "      <td>173</td>\n",
       "      <td>Converted</td>\n",
       "      <td>Company_43</td>\n",
       "      <td>2024-03-06</td>\n",
       "      <td>E-commerce</td>\n",
       "      <td>Germany</td>\n",
       "    </tr>\n",
       "    <tr>\n",
       "      <th>46</th>\n",
       "      <td>123</td>\n",
       "      <td>Lost</td>\n",
       "      <td>Company_46</td>\n",
       "      <td>2024-03-09</td>\n",
       "      <td>E-commerce</td>\n",
       "      <td>US</td>\n",
       "    </tr>\n",
       "    <tr>\n",
       "      <th>47</th>\n",
       "      <td>160</td>\n",
       "      <td>Lost</td>\n",
       "      <td>Company_47</td>\n",
       "      <td>2024-03-11</td>\n",
       "      <td>E-commerce</td>\n",
       "      <td>Germany</td>\n",
       "    </tr>\n",
       "    <tr>\n",
       "      <th>53</th>\n",
       "      <td>121</td>\n",
       "      <td>Prospect</td>\n",
       "      <td>Company_53</td>\n",
       "      <td>2024-03-11</td>\n",
       "      <td>E-commerce</td>\n",
       "      <td>US</td>\n",
       "    </tr>\n",
       "    <tr>\n",
       "      <th>54</th>\n",
       "      <td>177</td>\n",
       "      <td>Lost</td>\n",
       "      <td>Company_54</td>\n",
       "      <td>2024-03-03</td>\n",
       "      <td>E-commerce</td>\n",
       "      <td>France</td>\n",
       "    </tr>\n",
       "    <tr>\n",
       "      <th>56</th>\n",
       "      <td>183</td>\n",
       "      <td>Converted</td>\n",
       "      <td>Company_56</td>\n",
       "      <td>2024-03-09</td>\n",
       "      <td>E-commerce</td>\n",
       "      <td>US</td>\n",
       "    </tr>\n",
       "    <tr>\n",
       "      <th>57</th>\n",
       "      <td>170</td>\n",
       "      <td>Converted</td>\n",
       "      <td>Company_57</td>\n",
       "      <td>2024-03-08</td>\n",
       "      <td>E-commerce</td>\n",
       "      <td>US</td>\n",
       "    </tr>\n",
       "  </tbody>\n",
       "</table>\n",
       "</div>"
      ],
      "text/plain": [
       "    user_id lead_status     company sign_up_date    industry  country\n",
       "6       141    Prospect   Company_6   2024-03-02  E-commerce  Germany\n",
       "10      102    Prospect  Company_10   2024-03-11  E-commerce       UK\n",
       "16      157   Converted  Company_16   2024-03-06  E-commerce       UK\n",
       "19      107    Prospect  Company_19   2024-03-01  E-commerce       US\n",
       "21      149        Lost  Company_21   2024-03-10  E-commerce  Germany\n",
       "23      134        Lost  Company_23   2024-03-06  E-commerce       UK\n",
       "31      187   Converted  Company_31   2024-03-04  E-commerce       US\n",
       "43      173   Converted  Company_43   2024-03-06  E-commerce  Germany\n",
       "46      123        Lost  Company_46   2024-03-09  E-commerce       US\n",
       "47      160        Lost  Company_47   2024-03-11  E-commerce  Germany\n",
       "53      121    Prospect  Company_53   2024-03-11  E-commerce       US\n",
       "54      177        Lost  Company_54   2024-03-03  E-commerce   France\n",
       "56      183   Converted  Company_56   2024-03-09  E-commerce       US\n",
       "57      170   Converted  Company_57   2024-03-08  E-commerce       US"
      ]
     },
     "execution_count": 32,
     "metadata": {},
     "output_type": "execute_result"
    }
   ],
   "source": [
    "e_com"
   ]
  },
  {
   "cell_type": "code",
   "execution_count": null,
   "id": "0e5f8f59",
   "metadata": {},
   "outputs": [],
   "source": [
    "\n",
    "def get_conversion_rate_by_industry(df, industry):\n",
    "    \"\"\"\n",
    "    Calculate conversion rate for a specific industry.\n",
    "    \"\"\"\n",
    "    industry_df = df[df[\"industry\"] == industry]\n",
    "    total_count = industry_df.shape[0]\n",
    "    converted_count = industry_df[industry_df[\"lead_status\"] == \"Converted\"].shape[0]\n",
    "    \n",
    "    return converted_count / total_count * 100\n"
   ]
  },
  {
   "cell_type": "code",
   "execution_count": 23,
   "id": "74643fb7",
   "metadata": {},
   "outputs": [
    {
     "data": {
      "application/vnd.microsoft.datawrangler.viewer.v0+json": {
       "columns": [
        {
         "name": "('industry', 'lead_status')",
         "rawType": "object",
         "type": "unknown"
        },
        {
         "name": "count",
         "rawType": "int64",
         "type": "integer"
        }
       ],
       "ref": "4b617990-5298-424c-b928-46a538c55dfd",
       "rows": [
        [
         "('E-commerce', 'Converted')",
         "5"
        ],
        [
         "('E-commerce', 'Lost')",
         "5"
        ],
        [
         "('E-commerce', 'Prospect')",
         "4"
        ],
        [
         "('Finance', 'Converted')",
         "9"
        ],
        [
         "('Finance', 'Lost')",
         "8"
        ],
        [
         "('Finance', 'Prospect')",
         "5"
        ],
        [
         "('Healthcare', 'Converted')",
         "5"
        ],
        [
         "('Healthcare', 'Lost')",
         "2"
        ],
        [
         "('Healthcare', 'Prospect')",
         "2"
        ],
        [
         "('SaaS', 'Converted')",
         "6"
        ],
        [
         "('SaaS', 'Prospect')",
         "6"
        ],
        [
         "('SaaS', 'Lost')",
         "3"
        ]
       ],
       "shape": {
        "columns": 1,
        "rows": 12
       }
      },
      "text/plain": [
       "industry    lead_status\n",
       "E-commerce  Converted      5\n",
       "            Lost           5\n",
       "            Prospect       4\n",
       "Finance     Converted      9\n",
       "            Lost           8\n",
       "            Prospect       5\n",
       "Healthcare  Converted      5\n",
       "            Lost           2\n",
       "            Prospect       2\n",
       "SaaS        Converted      6\n",
       "            Prospect       6\n",
       "            Lost           3\n",
       "Name: count, dtype: int64"
      ]
     },
     "execution_count": 23,
     "metadata": {},
     "output_type": "execute_result"
    }
   ],
   "source": [
    "crm_df.groupby(\"industry\")[\"lead_status\"].value_counts()"
   ]
  },
  {
   "cell_type": "code",
   "execution_count": null,
   "id": "cfb7f188",
   "metadata": {},
   "outputs": [],
   "source": [
    "\"11 < 2\""
   ]
  },
  {
   "cell_type": "code",
   "execution_count": null,
   "id": "3dff58a4",
   "metadata": {},
   "outputs": [],
   "source": [
    "web_tracking_df"
   ]
  },
  {
   "cell_type": "code",
   "execution_count": null,
   "id": "73f545ff",
   "metadata": {},
   "outputs": [],
   "source": [
    "crm_df[crm_df.duplicated()]"
   ]
  },
  {
   "cell_type": "code",
   "execution_count": 9,
   "id": "82724121",
   "metadata": {},
   "outputs": [
    {
     "data": {
      "text/plain": [
       "Index(['user_id', 'session_id', 'timestamp', 'page', 'time_spent_sec',\n",
       "       'utm_source', 'utm_medium', 'device_type'],\n",
       "      dtype='object')"
      ]
     },
     "execution_count": 9,
     "metadata": {},
     "output_type": "execute_result"
    }
   ],
   "source": [
    "web_tracking_df.columns"
   ]
  },
  {
   "cell_type": "code",
   "execution_count": 2,
   "id": "0348821d",
   "metadata": {},
   "outputs": [
    {
     "name": "stdout",
     "output_type": "stream",
     "text": [
      "data\\new_table\n"
     ]
    }
   ],
   "source": [
    "print(r\"data\\new_table\")"
   ]
  },
  {
   "cell_type": "code",
   "execution_count": 70,
   "id": "62602ba1-0a20-471e-8105-b033da3a01a8",
   "metadata": {},
   "outputs": [
    {
     "data": {
      "text/html": [
       "<div>\n",
       "<style scoped>\n",
       "    .dataframe tbody tr th:only-of-type {\n",
       "        vertical-align: middle;\n",
       "    }\n",
       "\n",
       "    .dataframe tbody tr th {\n",
       "        vertical-align: top;\n",
       "    }\n",
       "\n",
       "    .dataframe thead th {\n",
       "        text-align: right;\n",
       "    }\n",
       "</style>\n",
       "<table border=\"1\" class=\"dataframe\">\n",
       "  <thead>\n",
       "    <tr style=\"text-align: right;\">\n",
       "      <th></th>\n",
       "      <th>user_id</th>\n",
       "      <th>lead_status</th>\n",
       "      <th>company</th>\n",
       "      <th>sign_up_date</th>\n",
       "      <th>industry</th>\n",
       "      <th>country</th>\n",
       "    </tr>\n",
       "  </thead>\n",
       "  <tbody>\n",
       "    <tr>\n",
       "      <th>0</th>\n",
       "      <td>137</td>\n",
       "      <td>Converted</td>\n",
       "      <td>Company_0</td>\n",
       "      <td>2024-03-09</td>\n",
       "      <td>Healthcare</td>\n",
       "      <td>US</td>\n",
       "    </tr>\n",
       "    <tr>\n",
       "      <th>1</th>\n",
       "      <td>163</td>\n",
       "      <td>Converted</td>\n",
       "      <td>Company_1</td>\n",
       "      <td>2024-03-01</td>\n",
       "      <td>Finance</td>\n",
       "      <td>UK</td>\n",
       "    </tr>\n",
       "    <tr>\n",
       "      <th>2</th>\n",
       "      <td>103</td>\n",
       "      <td>Prospect</td>\n",
       "      <td>Company_2</td>\n",
       "      <td>2024-03-02</td>\n",
       "      <td>Healthcare</td>\n",
       "      <td>France</td>\n",
       "    </tr>\n",
       "    <tr>\n",
       "      <th>3</th>\n",
       "      <td>163</td>\n",
       "      <td>Lost</td>\n",
       "      <td>Company_3</td>\n",
       "      <td>2024-03-01</td>\n",
       "      <td>SaaS</td>\n",
       "      <td>US</td>\n",
       "    </tr>\n",
       "    <tr>\n",
       "      <th>4</th>\n",
       "      <td>171</td>\n",
       "      <td>Lost</td>\n",
       "      <td>Company_4</td>\n",
       "      <td>2024-03-07</td>\n",
       "      <td>Healthcare</td>\n",
       "      <td>Germany</td>\n",
       "    </tr>\n",
       "  </tbody>\n",
       "</table>\n",
       "</div>"
      ],
      "text/plain": [
       "   user_id lead_status    company sign_up_date    industry  country\n",
       "0      137   Converted  Company_0   2024-03-09  Healthcare       US\n",
       "1      163   Converted  Company_1   2024-03-01     Finance       UK\n",
       "2      103    Prospect  Company_2   2024-03-02  Healthcare   France\n",
       "3      163        Lost  Company_3   2024-03-01        SaaS       US\n",
       "4      171        Lost  Company_4   2024-03-07  Healthcare  Germany"
      ]
     },
     "execution_count": 70,
     "metadata": {},
     "output_type": "execute_result"
    }
   ],
   "source": [
    "# Display the first few rows\n",
    "crm_df.head()"
   ]
  },
  {
   "cell_type": "code",
   "execution_count": 71,
   "id": "320ca46f-39ca-470b-b388-1ae979e1a970",
   "metadata": {},
   "outputs": [
    {
     "data": {
      "text/html": [
       "<div>\n",
       "<style scoped>\n",
       "    .dataframe tbody tr th:only-of-type {\n",
       "        vertical-align: middle;\n",
       "    }\n",
       "\n",
       "    .dataframe tbody tr th {\n",
       "        vertical-align: top;\n",
       "    }\n",
       "\n",
       "    .dataframe thead th {\n",
       "        text-align: right;\n",
       "    }\n",
       "</style>\n",
       "<table border=\"1\" class=\"dataframe\">\n",
       "  <thead>\n",
       "    <tr style=\"text-align: right;\">\n",
       "      <th></th>\n",
       "      <th>user_id</th>\n",
       "      <th>session_id</th>\n",
       "      <th>timestamp</th>\n",
       "      <th>page</th>\n",
       "      <th>time_spent_sec</th>\n",
       "      <th>utm_source</th>\n",
       "      <th>utm_medium</th>\n",
       "      <th>device_type</th>\n",
       "    </tr>\n",
       "  </thead>\n",
       "  <tbody>\n",
       "    <tr>\n",
       "      <th>0</th>\n",
       "      <td>151</td>\n",
       "      <td>s000</td>\n",
       "      <td>2024-03-07 12:55:00</td>\n",
       "      <td>/pricing</td>\n",
       "      <td>54</td>\n",
       "      <td>newsletter</td>\n",
       "      <td>referral</td>\n",
       "      <td>mobile</td>\n",
       "    </tr>\n",
       "    <tr>\n",
       "      <th>1</th>\n",
       "      <td>192</td>\n",
       "      <td>s001</td>\n",
       "      <td>2024-03-05 14:21:00</td>\n",
       "      <td>/landing</td>\n",
       "      <td>71</td>\n",
       "      <td>linkedin</td>\n",
       "      <td>email</td>\n",
       "      <td>desktop</td>\n",
       "    </tr>\n",
       "    <tr>\n",
       "      <th>2</th>\n",
       "      <td>114</td>\n",
       "      <td>s002</td>\n",
       "      <td>2024-03-01 14:25:00</td>\n",
       "      <td>/contact</td>\n",
       "      <td>143</td>\n",
       "      <td>facebook</td>\n",
       "      <td>cpc</td>\n",
       "      <td>desktop</td>\n",
       "    </tr>\n",
       "    <tr>\n",
       "      <th>3</th>\n",
       "      <td>171</td>\n",
       "      <td>s003</td>\n",
       "      <td>2024-03-06 16:56:00</td>\n",
       "      <td>/contact</td>\n",
       "      <td>293</td>\n",
       "      <td>newsletter</td>\n",
       "      <td>email</td>\n",
       "      <td>desktop</td>\n",
       "    </tr>\n",
       "    <tr>\n",
       "      <th>4</th>\n",
       "      <td>160</td>\n",
       "      <td>s004</td>\n",
       "      <td>2024-03-01 21:41:00</td>\n",
       "      <td>/contact</td>\n",
       "      <td>37</td>\n",
       "      <td>linkedin</td>\n",
       "      <td>organic</td>\n",
       "      <td>tablet</td>\n",
       "    </tr>\n",
       "  </tbody>\n",
       "</table>\n",
       "</div>"
      ],
      "text/plain": [
       "   user_id session_id            timestamp      page  time_spent_sec  \\\n",
       "0      151       s000  2024-03-07 12:55:00  /pricing              54   \n",
       "1      192       s001  2024-03-05 14:21:00  /landing              71   \n",
       "2      114       s002  2024-03-01 14:25:00  /contact             143   \n",
       "3      171       s003  2024-03-06 16:56:00  /contact             293   \n",
       "4      160       s004  2024-03-01 21:41:00  /contact              37   \n",
       "\n",
       "   utm_source utm_medium device_type  \n",
       "0  newsletter   referral      mobile  \n",
       "1    linkedin      email     desktop  \n",
       "2    facebook        cpc     desktop  \n",
       "3  newsletter      email     desktop  \n",
       "4    linkedin    organic      tablet  "
      ]
     },
     "execution_count": 71,
     "metadata": {},
     "output_type": "execute_result"
    }
   ],
   "source": [
    "# Display the first few rows\n",
    "web_tracking_df.head()"
   ]
  },
  {
   "cell_type": "code",
   "execution_count": 96,
   "id": "13054514-dd36-4a68-b09e-dfef981d9e50",
   "metadata": {},
   "outputs": [
    {
     "data": {
      "text/plain": [
       "user_id\n",
       "101    [/contact, /features, /landing, /landing]\n",
       "102                         [/landing, /contact]\n",
       "103              [/features, /contact, /contact]\n",
       "105                                  [/features]\n",
       "106                                  [/features]\n",
       "                         ...                    \n",
       "190                                  [/features]\n",
       "191                         [/contact, /pricing]\n",
       "192                         [/landing, /landing]\n",
       "194                                  [/features]\n",
       "199                        [/landing, /features]\n",
       "Name: page, Length: 61, dtype: object"
      ]
     },
     "execution_count": 96,
     "metadata": {},
     "output_type": "execute_result"
    }
   ],
   "source": [
    "web_tracking_df.groupby('user_id').page.apply(list)"
   ]
  },
  {
   "cell_type": "code",
   "execution_count": 72,
   "id": "e02833ca-2244-4750-b836-38050cc11be0",
   "metadata": {},
   "outputs": [],
   "source": [
    "# Create Dimension Tables\n",
    "lead_status_dim = crm_df[['lead_status']].drop_duplicates().reset_index(drop=True)\n",
    "lead_status_dim['lead_status_id'] = lead_status_dim.index + 1\n"
   ]
  },
  {
   "cell_type": "code",
   "execution_count": 97,
   "id": "43b4f38e-0c80-467e-9d9a-ea47338cadfd",
   "metadata": {},
   "outputs": [
    {
     "ename": "SyntaxError",
     "evalue": "incomplete input (766641423.py, line 2)",
     "output_type": "error",
     "traceback": [
      "\u001b[1;36m  Cell \u001b[1;32mIn[97], line 2\u001b[1;36m\u001b[0m\n\u001b[1;33m    \u001b[0m\n\u001b[1;37m    ^\u001b[0m\n\u001b[1;31mSyntaxError\u001b[0m\u001b[1;31m:\u001b[0m incomplete input\n"
     ]
    }
   ],
   "source": [
    "def create_2_dim_table(col_name: str) -> None:\n",
    "    "
   ]
  },
  {
   "cell_type": "code",
   "execution_count": 98,
   "id": "53edc914-934e-42da-8810-c82b286ae1f4",
   "metadata": {},
   "outputs": [
    {
     "ename": "NameError",
     "evalue": "name 'create' is not defined",
     "output_type": "error",
     "traceback": [
      "\u001b[1;31m---------------------------------------------------------------------------\u001b[0m",
      "\u001b[1;31mNameError\u001b[0m                                 Traceback (most recent call last)",
      "Cell \u001b[1;32mIn[98], line 1\u001b[0m\n\u001b[1;32m----> 1\u001b[0m create\n",
      "\u001b[1;31mNameError\u001b[0m: name 'create' is not defined"
     ]
    }
   ],
   "source": [
    "create"
   ]
  },
  {
   "cell_type": "code",
   "execution_count": 80,
   "id": "28beeea6-b90a-4101-abb0-8753da33f862",
   "metadata": {},
   "outputs": [],
   "source": [
    "company_dim = crm_df[['company']].drop_duplicates().reset_index(drop=True)\n",
    "company_dim['company_id'] = company_dim.index + 1"
   ]
  },
  {
   "cell_type": "code",
   "execution_count": 74,
   "id": "427474e9-d92a-432f-908e-8de739e13256",
   "metadata": {},
   "outputs": [],
   "source": [
    "industry_dim = crm_df[['industry']].drop_duplicates().reset_index(drop=True)\n",
    "industry_dim['industry_id'] = industry_dim.index + 1"
   ]
  },
  {
   "cell_type": "code",
   "execution_count": 75,
   "id": "29297c70-8290-4017-96ad-62f4a74a003f",
   "metadata": {},
   "outputs": [],
   "source": [
    "country_dim = crm_df[['country']].drop_duplicates().reset_index(drop=True)\n",
    "country_dim['country_id'] = country_dim.index + 1"
   ]
  },
  {
   "cell_type": "code",
   "execution_count": 93,
   "id": "dd922d5a-1120-4373-ba7d-7b069e1c3378",
   "metadata": {},
   "outputs": [],
   "source": [
    "# Sign-up time breakdown\n",
    "crm_df['sign_up_datetime'] = pd.to_datetime(crm_df['sign_up_date'])\n",
    "sign_up_time_dim = crm_df[['sign_up_datetime']].drop_duplicates().reset_index(drop=True)\n",
    "sign_up_time_dim['sign_up_time_id'] = sign_up_time_dim.index + 1\n",
    "sign_up_time_dim['sign_up_year'] = sign_up_time_dim['sign_up_datetime'].dt.year\n",
    "sign_up_time_dim['sign_up_month'] = sign_up_time_dim['sign_up_datetime'].dt.month\n",
    "sign_up_time_dim['sign_up_week'] = sign_up_time_dim['sign_up_datetime'].dt.isocalendar().week\n",
    "sign_up_time_dim['sign_up_weekday'] = sign_up_time_dim['sign_up_datetime'].dt.weekday"
   ]
  },
  {
   "cell_type": "code",
   "execution_count": 92,
   "id": "09862fd1-c97c-4e44-a695-c5cd2d34e665",
   "metadata": {},
   "outputs": [],
   "source": [
    "# User Dimension Table\n",
    "user_dim = crm_df.merge(company_dim, on=\"company\")\\\n",
    ".merge(industry_dim, on=\"industry\")\\\n",
    ".merge(country_dim, on=\"country\")\\\n",
    ".merge(sign_up_time_dim, on=\"sign_up_datetime\")\\\n",
    ".merge(lead_status_dim, on=\"lead_status\")\\\n",
    "[[\"user_id\",\"lead_status_id\", \"industry_id\", \"company_id\", \"country_id\", \"sign_up_time_id\"]].drop_duplicates(subset='user_id')"
   ]
  },
  {
   "cell_type": "code",
   "execution_count": 85,
   "id": "fbb2aa75-1699-46fd-ac57-861806f256ed",
   "metadata": {},
   "outputs": [],
   "source": [
    "# Prepare Session Data Dimensions\n",
    "web_tracking_df[\"timestamp_datetime\"] = pd.to_datetime(web_tracking_df['timestamp'])\n",
    "datetime_dim = web_tracking_df[['timestamp_datetime']].drop_duplicates().reset_index(drop=True)\n",
    "datetime_dim['datetime_id'] = datetime_dim.index + 1\n",
    "datetime_dim['year'] = datetime_dim['timestamp_datetime'].dt.year\n",
    "datetime_dim['month'] = datetime_dim['timestamp_datetime'].dt.month\n",
    "datetime_dim['week'] = datetime_dim['timestamp_datetime'].dt.isocalendar().week\n",
    "datetime_dim['weekday'] = datetime_dim['timestamp_datetime'].dt.weekday"
   ]
  },
  {
   "cell_type": "code",
   "execution_count": 86,
   "id": "b9317ece-4b3e-444c-9fbd-a63f243b6257",
   "metadata": {},
   "outputs": [],
   "source": [
    "page_dim = web_tracking_df[['page']].drop_duplicates().reset_index(drop=True)\n",
    "page_dim['page_id'] = page_dim.index + 1"
   ]
  },
  {
   "cell_type": "code",
   "execution_count": 87,
   "id": "478b6bc8-1732-4944-8023-f8a1d8e2ad3e",
   "metadata": {},
   "outputs": [],
   "source": [
    "utm_source_dim = web_tracking_df[['utm_source']].drop_duplicates().reset_index(drop=True)\n",
    "utm_source_dim['utm_source_id'] = utm_source_dim.index + 1"
   ]
  },
  {
   "cell_type": "code",
   "execution_count": 88,
   "id": "3b4b7acc-80b5-440f-bac7-c4081fbaafbf",
   "metadata": {},
   "outputs": [],
   "source": [
    "utm_medium_dim = web_tracking_df[['utm_medium']].drop_duplicates().reset_index(drop=True)\n",
    "utm_medium_dim['utm_medium_id'] = utm_medium_dim.index + 1"
   ]
  },
  {
   "cell_type": "code",
   "execution_count": 89,
   "id": "85fb96a0-b7f2-49ac-98a0-db9a309cb34a",
   "metadata": {},
   "outputs": [],
   "source": [
    "device_type_dim = web_tracking_df[['device_type']].drop_duplicates().reset_index(drop=True)\n",
    "device_type_dim['device_type_id'] = device_type_dim.index + 1"
   ]
  },
  {
   "cell_type": "code",
   "execution_count": 91,
   "id": "f04d900f-80c7-4a13-a071-5f88cbd7c899",
   "metadata": {},
   "outputs": [],
   "source": [
    "# Fact Table\n",
    "fact_table = web_tracking_df.merge(user_dim, on=\"user_id\")\\\n",
    ".merge(datetime_dim, on=\"timestamp_datetime\")\\\n",
    ".merge(page_dim, on=\"page\")\\\n",
    ".merge(utm_source_dim, on=\"utm_source\")\\\n",
    ".merge(utm_medium_dim, on=\"utm_medium\")\\\n",
    ".merge(device_type_dim, on=\"device_type\")\\\n",
    "[['session_id', 'user_id', 'datetime_id', 'page_id', 'utm_source_id', 'utm_medium_id', 'device_type_id', 'time_spent_sec']]"
   ]
  },
  {
   "cell_type": "code",
   "execution_count": null,
   "id": "f8033601-6611-46bc-a62b-8a8234aac3ab",
   "metadata": {},
   "outputs": [],
   "source": []
  }
 ],
 "metadata": {
  "kernelspec": {
   "display_name": "Python 3 (ipykernel)",
   "language": "python",
   "name": "python3"
  },
  "language_info": {
   "codemirror_mode": {
    "name": "ipython",
    "version": 3
   },
   "file_extension": ".py",
   "mimetype": "text/x-python",
   "name": "python",
   "nbconvert_exporter": "python",
   "pygments_lexer": "ipython3",
   "version": "3.12.7"
  }
 },
 "nbformat": 4,
 "nbformat_minor": 5
}
