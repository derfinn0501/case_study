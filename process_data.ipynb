{
 "cells": [
  {
   "cell_type": "markdown",
   "id": "73b1ebaa",
   "metadata": {},
   "source": [
    "# Imports and reading data"
   ]
  },
  {
   "cell_type": "code",
   "execution_count": 1,
   "id": "70a2d261-0468-46b4-9f3a-3d9c5693c89e",
   "metadata": {},
   "outputs": [
    {
     "data": {
      "text/html": [
       "\n",
       "            <div>\n",
       "                <ins><a href=\"https://ydata.ai/register\">Upgrade to ydata-sdk</a></ins>\n",
       "                <p>\n",
       "                    Improve your data and profiling with ydata-sdk, featuring data quality scoring, redundancy detection, outlier identification, text validation, and synthetic data generation.\n",
       "                </p>\n",
       "            </div>\n",
       "            "
      ],
      "text/plain": [
       "<IPython.core.display.HTML object>"
      ]
     },
     "metadata": {},
     "output_type": "display_data"
    }
   ],
   "source": [
    "import os\n",
    "import pandas as pd\n",
    "from ydata_profiling import ProfileReport\n",
    "\n",
    "DATA_FOLDER = \"data\"\n",
    "CRM_PATH = os.path.join(DATA_FOLDER, \"crm_data.csv\")\n",
    "WEB_TRACKING_PATH = os.path.join(DATA_FOLDER, \"web_tracking.csv\")"
   ]
  },
  {
   "cell_type": "code",
   "execution_count": 2,
   "id": "b4233e6f",
   "metadata": {},
   "outputs": [],
   "source": [
    "crm_df = pd.read_csv(CRM_PATH)\n",
    "web_tracking_df = pd.read_csv(WEB_TRACKING_PATH)"
   ]
  },
  {
   "cell_type": "markdown",
   "id": "a6b4ce78",
   "metadata": {},
   "source": [
    "# EDA + Data validation"
   ]
  },
  {
   "cell_type": "code",
   "execution_count": 3,
   "id": "5739d314",
   "metadata": {},
   "outputs": [
    {
     "data": {
      "text/html": [
       "<div>\n",
       "<style scoped>\n",
       "    .dataframe tbody tr th:only-of-type {\n",
       "        vertical-align: middle;\n",
       "    }\n",
       "\n",
       "    .dataframe tbody tr th {\n",
       "        vertical-align: top;\n",
       "    }\n",
       "\n",
       "    .dataframe thead th {\n",
       "        text-align: right;\n",
       "    }\n",
       "</style>\n",
       "<table border=\"1\" class=\"dataframe\">\n",
       "  <thead>\n",
       "    <tr style=\"text-align: right;\">\n",
       "      <th></th>\n",
       "      <th>user_id</th>\n",
       "      <th>lead_status</th>\n",
       "      <th>company</th>\n",
       "      <th>sign_up_date</th>\n",
       "      <th>industry</th>\n",
       "      <th>country</th>\n",
       "    </tr>\n",
       "  </thead>\n",
       "  <tbody>\n",
       "    <tr>\n",
       "      <th>0</th>\n",
       "      <td>137</td>\n",
       "      <td>Converted</td>\n",
       "      <td>Company_0</td>\n",
       "      <td>2024-03-09</td>\n",
       "      <td>Healthcare</td>\n",
       "      <td>US</td>\n",
       "    </tr>\n",
       "    <tr>\n",
       "      <th>1</th>\n",
       "      <td>163</td>\n",
       "      <td>Converted</td>\n",
       "      <td>Company_1</td>\n",
       "      <td>2024-03-01</td>\n",
       "      <td>Finance</td>\n",
       "      <td>UK</td>\n",
       "    </tr>\n",
       "    <tr>\n",
       "      <th>2</th>\n",
       "      <td>103</td>\n",
       "      <td>Prospect</td>\n",
       "      <td>Company_2</td>\n",
       "      <td>2024-03-02</td>\n",
       "      <td>Healthcare</td>\n",
       "      <td>France</td>\n",
       "    </tr>\n",
       "    <tr>\n",
       "      <th>3</th>\n",
       "      <td>163</td>\n",
       "      <td>Lost</td>\n",
       "      <td>Company_3</td>\n",
       "      <td>2024-03-01</td>\n",
       "      <td>SaaS</td>\n",
       "      <td>US</td>\n",
       "    </tr>\n",
       "    <tr>\n",
       "      <th>4</th>\n",
       "      <td>171</td>\n",
       "      <td>Lost</td>\n",
       "      <td>Company_4</td>\n",
       "      <td>2024-03-07</td>\n",
       "      <td>Healthcare</td>\n",
       "      <td>Germany</td>\n",
       "    </tr>\n",
       "    <tr>\n",
       "      <th>5</th>\n",
       "      <td>151</td>\n",
       "      <td>Converted</td>\n",
       "      <td>Company_5</td>\n",
       "      <td>2024-03-01</td>\n",
       "      <td>Finance</td>\n",
       "      <td>US</td>\n",
       "    </tr>\n",
       "    <tr>\n",
       "      <th>6</th>\n",
       "      <td>141</td>\n",
       "      <td>Prospect</td>\n",
       "      <td>Company_6</td>\n",
       "      <td>2024-03-02</td>\n",
       "      <td>E-commerce</td>\n",
       "      <td>Germany</td>\n",
       "    </tr>\n",
       "    <tr>\n",
       "      <th>7</th>\n",
       "      <td>117</td>\n",
       "      <td>Lost</td>\n",
       "      <td>Company_7</td>\n",
       "      <td>2024-03-08</td>\n",
       "      <td>Finance</td>\n",
       "      <td>France</td>\n",
       "    </tr>\n",
       "    <tr>\n",
       "      <th>8</th>\n",
       "      <td>114</td>\n",
       "      <td>Lost</td>\n",
       "      <td>Company_8</td>\n",
       "      <td>2024-03-09</td>\n",
       "      <td>Finance</td>\n",
       "      <td>UK</td>\n",
       "    </tr>\n",
       "    <tr>\n",
       "      <th>9</th>\n",
       "      <td>171</td>\n",
       "      <td>Prospect</td>\n",
       "      <td>Company_9</td>\n",
       "      <td>2024-03-10</td>\n",
       "      <td>Finance</td>\n",
       "      <td>US</td>\n",
       "    </tr>\n",
       "    <tr>\n",
       "      <th>10</th>\n",
       "      <td>102</td>\n",
       "      <td>Prospect</td>\n",
       "      <td>Company_10</td>\n",
       "      <td>2024-03-11</td>\n",
       "      <td>E-commerce</td>\n",
       "      <td>UK</td>\n",
       "    </tr>\n",
       "    <tr>\n",
       "      <th>11</th>\n",
       "      <td>154</td>\n",
       "      <td>Lost</td>\n",
       "      <td>Company_11</td>\n",
       "      <td>2024-03-01</td>\n",
       "      <td>Finance</td>\n",
       "      <td>US</td>\n",
       "    </tr>\n",
       "    <tr>\n",
       "      <th>12</th>\n",
       "      <td>162</td>\n",
       "      <td>Lost</td>\n",
       "      <td>Company_12</td>\n",
       "      <td>2024-03-01</td>\n",
       "      <td>Finance</td>\n",
       "      <td>Germany</td>\n",
       "    </tr>\n",
       "    <tr>\n",
       "      <th>13</th>\n",
       "      <td>147</td>\n",
       "      <td>Prospect</td>\n",
       "      <td>Company_13</td>\n",
       "      <td>2024-03-07</td>\n",
       "      <td>Finance</td>\n",
       "      <td>UK</td>\n",
       "    </tr>\n",
       "    <tr>\n",
       "      <th>14</th>\n",
       "      <td>181</td>\n",
       "      <td>Lost</td>\n",
       "      <td>Company_14</td>\n",
       "      <td>2024-03-11</td>\n",
       "      <td>SaaS</td>\n",
       "      <td>US</td>\n",
       "    </tr>\n",
       "    <tr>\n",
       "      <th>15</th>\n",
       "      <td>192</td>\n",
       "      <td>Converted</td>\n",
       "      <td>Company_15</td>\n",
       "      <td>2024-03-03</td>\n",
       "      <td>Finance</td>\n",
       "      <td>Germany</td>\n",
       "    </tr>\n",
       "    <tr>\n",
       "      <th>16</th>\n",
       "      <td>157</td>\n",
       "      <td>Converted</td>\n",
       "      <td>Company_16</td>\n",
       "      <td>2024-03-06</td>\n",
       "      <td>E-commerce</td>\n",
       "      <td>UK</td>\n",
       "    </tr>\n",
       "    <tr>\n",
       "      <th>17</th>\n",
       "      <td>161</td>\n",
       "      <td>Prospect</td>\n",
       "      <td>Company_17</td>\n",
       "      <td>2024-03-07</td>\n",
       "      <td>Finance</td>\n",
       "      <td>UK</td>\n",
       "    </tr>\n",
       "    <tr>\n",
       "      <th>18</th>\n",
       "      <td>184</td>\n",
       "      <td>Prospect</td>\n",
       "      <td>Company_18</td>\n",
       "      <td>2024-03-01</td>\n",
       "      <td>Finance</td>\n",
       "      <td>US</td>\n",
       "    </tr>\n",
       "    <tr>\n",
       "      <th>19</th>\n",
       "      <td>107</td>\n",
       "      <td>Prospect</td>\n",
       "      <td>Company_19</td>\n",
       "      <td>2024-03-01</td>\n",
       "      <td>E-commerce</td>\n",
       "      <td>US</td>\n",
       "    </tr>\n",
       "    <tr>\n",
       "      <th>20</th>\n",
       "      <td>161</td>\n",
       "      <td>Converted</td>\n",
       "      <td>Company_20</td>\n",
       "      <td>2024-03-11</td>\n",
       "      <td>Finance</td>\n",
       "      <td>US</td>\n",
       "    </tr>\n",
       "    <tr>\n",
       "      <th>21</th>\n",
       "      <td>149</td>\n",
       "      <td>Lost</td>\n",
       "      <td>Company_21</td>\n",
       "      <td>2024-03-10</td>\n",
       "      <td>E-commerce</td>\n",
       "      <td>Germany</td>\n",
       "    </tr>\n",
       "    <tr>\n",
       "      <th>22</th>\n",
       "      <td>120</td>\n",
       "      <td>Converted</td>\n",
       "      <td>Company_22</td>\n",
       "      <td>2024-03-01</td>\n",
       "      <td>Finance</td>\n",
       "      <td>US</td>\n",
       "    </tr>\n",
       "    <tr>\n",
       "      <th>23</th>\n",
       "      <td>134</td>\n",
       "      <td>Lost</td>\n",
       "      <td>Company_23</td>\n",
       "      <td>2024-03-06</td>\n",
       "      <td>E-commerce</td>\n",
       "      <td>UK</td>\n",
       "    </tr>\n",
       "    <tr>\n",
       "      <th>24</th>\n",
       "      <td>159</td>\n",
       "      <td>Converted</td>\n",
       "      <td>Company_24</td>\n",
       "      <td>2024-03-06</td>\n",
       "      <td>Finance</td>\n",
       "      <td>UK</td>\n",
       "    </tr>\n",
       "    <tr>\n",
       "      <th>25</th>\n",
       "      <td>143</td>\n",
       "      <td>Lost</td>\n",
       "      <td>Company_25</td>\n",
       "      <td>2024-03-11</td>\n",
       "      <td>Finance</td>\n",
       "      <td>US</td>\n",
       "    </tr>\n",
       "    <tr>\n",
       "      <th>26</th>\n",
       "      <td>108</td>\n",
       "      <td>Converted</td>\n",
       "      <td>Company_26</td>\n",
       "      <td>2024-03-05</td>\n",
       "      <td>SaaS</td>\n",
       "      <td>US</td>\n",
       "    </tr>\n",
       "    <tr>\n",
       "      <th>27</th>\n",
       "      <td>150</td>\n",
       "      <td>Prospect</td>\n",
       "      <td>Company_27</td>\n",
       "      <td>2024-03-04</td>\n",
       "      <td>SaaS</td>\n",
       "      <td>France</td>\n",
       "    </tr>\n",
       "    <tr>\n",
       "      <th>28</th>\n",
       "      <td>121</td>\n",
       "      <td>Converted</td>\n",
       "      <td>Company_28</td>\n",
       "      <td>2024-03-03</td>\n",
       "      <td>Finance</td>\n",
       "      <td>UK</td>\n",
       "    </tr>\n",
       "    <tr>\n",
       "      <th>29</th>\n",
       "      <td>187</td>\n",
       "      <td>Lost</td>\n",
       "      <td>Company_29</td>\n",
       "      <td>2024-03-03</td>\n",
       "      <td>Finance</td>\n",
       "      <td>Germany</td>\n",
       "    </tr>\n",
       "    <tr>\n",
       "      <th>30</th>\n",
       "      <td>158</td>\n",
       "      <td>Converted</td>\n",
       "      <td>Company_30</td>\n",
       "      <td>2024-03-10</td>\n",
       "      <td>Healthcare</td>\n",
       "      <td>France</td>\n",
       "    </tr>\n",
       "    <tr>\n",
       "      <th>31</th>\n",
       "      <td>187</td>\n",
       "      <td>Converted</td>\n",
       "      <td>Company_31</td>\n",
       "      <td>2024-03-04</td>\n",
       "      <td>E-commerce</td>\n",
       "      <td>US</td>\n",
       "    </tr>\n",
       "    <tr>\n",
       "      <th>32</th>\n",
       "      <td>199</td>\n",
       "      <td>Converted</td>\n",
       "      <td>Company_32</td>\n",
       "      <td>2024-03-01</td>\n",
       "      <td>Healthcare</td>\n",
       "      <td>US</td>\n",
       "    </tr>\n",
       "    <tr>\n",
       "      <th>33</th>\n",
       "      <td>150</td>\n",
       "      <td>Prospect</td>\n",
       "      <td>Company_33</td>\n",
       "      <td>2024-03-10</td>\n",
       "      <td>SaaS</td>\n",
       "      <td>UK</td>\n",
       "    </tr>\n",
       "    <tr>\n",
       "      <th>34</th>\n",
       "      <td>138</td>\n",
       "      <td>Converted</td>\n",
       "      <td>Company_34</td>\n",
       "      <td>2024-03-08</td>\n",
       "      <td>SaaS</td>\n",
       "      <td>US</td>\n",
       "    </tr>\n",
       "    <tr>\n",
       "      <th>35</th>\n",
       "      <td>120</td>\n",
       "      <td>Prospect</td>\n",
       "      <td>Company_35</td>\n",
       "      <td>2024-03-06</td>\n",
       "      <td>SaaS</td>\n",
       "      <td>Germany</td>\n",
       "    </tr>\n",
       "    <tr>\n",
       "      <th>36</th>\n",
       "      <td>103</td>\n",
       "      <td>Prospect</td>\n",
       "      <td>Company_36</td>\n",
       "      <td>2024-03-07</td>\n",
       "      <td>SaaS</td>\n",
       "      <td>UK</td>\n",
       "    </tr>\n",
       "    <tr>\n",
       "      <th>37</th>\n",
       "      <td>188</td>\n",
       "      <td>Converted</td>\n",
       "      <td>Company_37</td>\n",
       "      <td>2024-03-07</td>\n",
       "      <td>Finance</td>\n",
       "      <td>US</td>\n",
       "    </tr>\n",
       "    <tr>\n",
       "      <th>38</th>\n",
       "      <td>146</td>\n",
       "      <td>Converted</td>\n",
       "      <td>Company_38</td>\n",
       "      <td>2024-03-10</td>\n",
       "      <td>SaaS</td>\n",
       "      <td>UK</td>\n",
       "    </tr>\n",
       "    <tr>\n",
       "      <th>39</th>\n",
       "      <td>161</td>\n",
       "      <td>Converted</td>\n",
       "      <td>Company_39</td>\n",
       "      <td>2024-03-01</td>\n",
       "      <td>Finance</td>\n",
       "      <td>US</td>\n",
       "    </tr>\n",
       "    <tr>\n",
       "      <th>40</th>\n",
       "      <td>146</td>\n",
       "      <td>Lost</td>\n",
       "      <td>Company_40</td>\n",
       "      <td>2024-03-03</td>\n",
       "      <td>Finance</td>\n",
       "      <td>US</td>\n",
       "    </tr>\n",
       "    <tr>\n",
       "      <th>41</th>\n",
       "      <td>180</td>\n",
       "      <td>Converted</td>\n",
       "      <td>Company_41</td>\n",
       "      <td>2024-03-08</td>\n",
       "      <td>SaaS</td>\n",
       "      <td>US</td>\n",
       "    </tr>\n",
       "    <tr>\n",
       "      <th>42</th>\n",
       "      <td>191</td>\n",
       "      <td>Prospect</td>\n",
       "      <td>Company_42</td>\n",
       "      <td>2024-03-01</td>\n",
       "      <td>SaaS</td>\n",
       "      <td>Germany</td>\n",
       "    </tr>\n",
       "    <tr>\n",
       "      <th>43</th>\n",
       "      <td>173</td>\n",
       "      <td>Converted</td>\n",
       "      <td>Company_43</td>\n",
       "      <td>2024-03-06</td>\n",
       "      <td>E-commerce</td>\n",
       "      <td>Germany</td>\n",
       "    </tr>\n",
       "    <tr>\n",
       "      <th>44</th>\n",
       "      <td>132</td>\n",
       "      <td>Lost</td>\n",
       "      <td>Company_44</td>\n",
       "      <td>2024-03-11</td>\n",
       "      <td>Healthcare</td>\n",
       "      <td>UK</td>\n",
       "    </tr>\n",
       "    <tr>\n",
       "      <th>45</th>\n",
       "      <td>189</td>\n",
       "      <td>Converted</td>\n",
       "      <td>Company_45</td>\n",
       "      <td>2024-03-07</td>\n",
       "      <td>SaaS</td>\n",
       "      <td>US</td>\n",
       "    </tr>\n",
       "    <tr>\n",
       "      <th>46</th>\n",
       "      <td>123</td>\n",
       "      <td>Lost</td>\n",
       "      <td>Company_46</td>\n",
       "      <td>2024-03-09</td>\n",
       "      <td>E-commerce</td>\n",
       "      <td>US</td>\n",
       "    </tr>\n",
       "    <tr>\n",
       "      <th>47</th>\n",
       "      <td>160</td>\n",
       "      <td>Lost</td>\n",
       "      <td>Company_47</td>\n",
       "      <td>2024-03-11</td>\n",
       "      <td>E-commerce</td>\n",
       "      <td>Germany</td>\n",
       "    </tr>\n",
       "    <tr>\n",
       "      <th>48</th>\n",
       "      <td>152</td>\n",
       "      <td>Converted</td>\n",
       "      <td>Company_48</td>\n",
       "      <td>2024-03-03</td>\n",
       "      <td>Healthcare</td>\n",
       "      <td>US</td>\n",
       "    </tr>\n",
       "    <tr>\n",
       "      <th>49</th>\n",
       "      <td>106</td>\n",
       "      <td>Prospect</td>\n",
       "      <td>Company_49</td>\n",
       "      <td>2024-03-01</td>\n",
       "      <td>Finance</td>\n",
       "      <td>Germany</td>\n",
       "    </tr>\n",
       "    <tr>\n",
       "      <th>50</th>\n",
       "      <td>194</td>\n",
       "      <td>Lost</td>\n",
       "      <td>Company_50</td>\n",
       "      <td>2024-03-05</td>\n",
       "      <td>SaaS</td>\n",
       "      <td>US</td>\n",
       "    </tr>\n",
       "    <tr>\n",
       "      <th>51</th>\n",
       "      <td>190</td>\n",
       "      <td>Converted</td>\n",
       "      <td>Company_51</td>\n",
       "      <td>2024-03-03</td>\n",
       "      <td>Healthcare</td>\n",
       "      <td>UK</td>\n",
       "    </tr>\n",
       "    <tr>\n",
       "      <th>52</th>\n",
       "      <td>102</td>\n",
       "      <td>Converted</td>\n",
       "      <td>Company_52</td>\n",
       "      <td>2024-03-02</td>\n",
       "      <td>SaaS</td>\n",
       "      <td>US</td>\n",
       "    </tr>\n",
       "    <tr>\n",
       "      <th>53</th>\n",
       "      <td>121</td>\n",
       "      <td>Prospect</td>\n",
       "      <td>Company_53</td>\n",
       "      <td>2024-03-11</td>\n",
       "      <td>E-commerce</td>\n",
       "      <td>US</td>\n",
       "    </tr>\n",
       "    <tr>\n",
       "      <th>54</th>\n",
       "      <td>177</td>\n",
       "      <td>Lost</td>\n",
       "      <td>Company_54</td>\n",
       "      <td>2024-03-03</td>\n",
       "      <td>E-commerce</td>\n",
       "      <td>France</td>\n",
       "    </tr>\n",
       "    <tr>\n",
       "      <th>55</th>\n",
       "      <td>174</td>\n",
       "      <td>Lost</td>\n",
       "      <td>Company_55</td>\n",
       "      <td>2024-03-07</td>\n",
       "      <td>Finance</td>\n",
       "      <td>Germany</td>\n",
       "    </tr>\n",
       "    <tr>\n",
       "      <th>56</th>\n",
       "      <td>183</td>\n",
       "      <td>Converted</td>\n",
       "      <td>Company_56</td>\n",
       "      <td>2024-03-09</td>\n",
       "      <td>E-commerce</td>\n",
       "      <td>US</td>\n",
       "    </tr>\n",
       "    <tr>\n",
       "      <th>57</th>\n",
       "      <td>170</td>\n",
       "      <td>Converted</td>\n",
       "      <td>Company_57</td>\n",
       "      <td>2024-03-08</td>\n",
       "      <td>E-commerce</td>\n",
       "      <td>US</td>\n",
       "    </tr>\n",
       "    <tr>\n",
       "      <th>58</th>\n",
       "      <td>161</td>\n",
       "      <td>Prospect</td>\n",
       "      <td>Company_58</td>\n",
       "      <td>2024-03-08</td>\n",
       "      <td>Healthcare</td>\n",
       "      <td>France</td>\n",
       "    </tr>\n",
       "    <tr>\n",
       "      <th>59</th>\n",
       "      <td>103</td>\n",
       "      <td>Prospect</td>\n",
       "      <td>Company_59</td>\n",
       "      <td>2024-03-02</td>\n",
       "      <td>SaaS</td>\n",
       "      <td>France</td>\n",
       "    </tr>\n",
       "  </tbody>\n",
       "</table>\n",
       "</div>"
      ],
      "text/plain": [
       "    user_id lead_status     company sign_up_date    industry  country\n",
       "0       137   Converted   Company_0   2024-03-09  Healthcare       US\n",
       "1       163   Converted   Company_1   2024-03-01     Finance       UK\n",
       "2       103    Prospect   Company_2   2024-03-02  Healthcare   France\n",
       "3       163        Lost   Company_3   2024-03-01        SaaS       US\n",
       "4       171        Lost   Company_4   2024-03-07  Healthcare  Germany\n",
       "5       151   Converted   Company_5   2024-03-01     Finance       US\n",
       "6       141    Prospect   Company_6   2024-03-02  E-commerce  Germany\n",
       "7       117        Lost   Company_7   2024-03-08     Finance   France\n",
       "8       114        Lost   Company_8   2024-03-09     Finance       UK\n",
       "9       171    Prospect   Company_9   2024-03-10     Finance       US\n",
       "10      102    Prospect  Company_10   2024-03-11  E-commerce       UK\n",
       "11      154        Lost  Company_11   2024-03-01     Finance       US\n",
       "12      162        Lost  Company_12   2024-03-01     Finance  Germany\n",
       "13      147    Prospect  Company_13   2024-03-07     Finance       UK\n",
       "14      181        Lost  Company_14   2024-03-11        SaaS       US\n",
       "15      192   Converted  Company_15   2024-03-03     Finance  Germany\n",
       "16      157   Converted  Company_16   2024-03-06  E-commerce       UK\n",
       "17      161    Prospect  Company_17   2024-03-07     Finance       UK\n",
       "18      184    Prospect  Company_18   2024-03-01     Finance       US\n",
       "19      107    Prospect  Company_19   2024-03-01  E-commerce       US\n",
       "20      161   Converted  Company_20   2024-03-11     Finance       US\n",
       "21      149        Lost  Company_21   2024-03-10  E-commerce  Germany\n",
       "22      120   Converted  Company_22   2024-03-01     Finance       US\n",
       "23      134        Lost  Company_23   2024-03-06  E-commerce       UK\n",
       "24      159   Converted  Company_24   2024-03-06     Finance       UK\n",
       "25      143        Lost  Company_25   2024-03-11     Finance       US\n",
       "26      108   Converted  Company_26   2024-03-05        SaaS       US\n",
       "27      150    Prospect  Company_27   2024-03-04        SaaS   France\n",
       "28      121   Converted  Company_28   2024-03-03     Finance       UK\n",
       "29      187        Lost  Company_29   2024-03-03     Finance  Germany\n",
       "30      158   Converted  Company_30   2024-03-10  Healthcare   France\n",
       "31      187   Converted  Company_31   2024-03-04  E-commerce       US\n",
       "32      199   Converted  Company_32   2024-03-01  Healthcare       US\n",
       "33      150    Prospect  Company_33   2024-03-10        SaaS       UK\n",
       "34      138   Converted  Company_34   2024-03-08        SaaS       US\n",
       "35      120    Prospect  Company_35   2024-03-06        SaaS  Germany\n",
       "36      103    Prospect  Company_36   2024-03-07        SaaS       UK\n",
       "37      188   Converted  Company_37   2024-03-07     Finance       US\n",
       "38      146   Converted  Company_38   2024-03-10        SaaS       UK\n",
       "39      161   Converted  Company_39   2024-03-01     Finance       US\n",
       "40      146        Lost  Company_40   2024-03-03     Finance       US\n",
       "41      180   Converted  Company_41   2024-03-08        SaaS       US\n",
       "42      191    Prospect  Company_42   2024-03-01        SaaS  Germany\n",
       "43      173   Converted  Company_43   2024-03-06  E-commerce  Germany\n",
       "44      132        Lost  Company_44   2024-03-11  Healthcare       UK\n",
       "45      189   Converted  Company_45   2024-03-07        SaaS       US\n",
       "46      123        Lost  Company_46   2024-03-09  E-commerce       US\n",
       "47      160        Lost  Company_47   2024-03-11  E-commerce  Germany\n",
       "48      152   Converted  Company_48   2024-03-03  Healthcare       US\n",
       "49      106    Prospect  Company_49   2024-03-01     Finance  Germany\n",
       "50      194        Lost  Company_50   2024-03-05        SaaS       US\n",
       "51      190   Converted  Company_51   2024-03-03  Healthcare       UK\n",
       "52      102   Converted  Company_52   2024-03-02        SaaS       US\n",
       "53      121    Prospect  Company_53   2024-03-11  E-commerce       US\n",
       "54      177        Lost  Company_54   2024-03-03  E-commerce   France\n",
       "55      174        Lost  Company_55   2024-03-07     Finance  Germany\n",
       "56      183   Converted  Company_56   2024-03-09  E-commerce       US\n",
       "57      170   Converted  Company_57   2024-03-08  E-commerce       US\n",
       "58      161    Prospect  Company_58   2024-03-08  Healthcare   France\n",
       "59      103    Prospect  Company_59   2024-03-02        SaaS   France"
      ]
     },
     "execution_count": 3,
     "metadata": {},
     "output_type": "execute_result"
    }
   ],
   "source": [
    "crm_df#.columns"
   ]
  },
  {
   "cell_type": "code",
   "execution_count": 4,
   "id": "00b245aa",
   "metadata": {},
   "outputs": [
    {
     "name": "stdout",
     "output_type": "stream",
     "text": [
      "<class 'pandas.core.frame.DataFrame'>\n",
      "RangeIndex: 60 entries, 0 to 59\n",
      "Data columns (total 6 columns):\n",
      " #   Column        Non-Null Count  Dtype \n",
      "---  ------        --------------  ----- \n",
      " 0   user_id       60 non-null     int64 \n",
      " 1   lead_status   60 non-null     object\n",
      " 2   company       60 non-null     object\n",
      " 3   sign_up_date  60 non-null     object\n",
      " 4   industry      60 non-null     object\n",
      " 5   country       60 non-null     object\n",
      "dtypes: int64(1), object(5)\n",
      "memory usage: 2.9+ KB\n"
     ]
    }
   ],
   "source": [
    "crm_df.info()"
   ]
  },
  {
   "cell_type": "code",
   "execution_count": 5,
   "id": "7441e2fb-6f9d-4e1d-8dcf-70641764e45f",
   "metadata": {},
   "outputs": [
    {
     "data": {
      "text/plain": [
       "user_id         0\n",
       "lead_status     0\n",
       "company         0\n",
       "sign_up_date    0\n",
       "industry        0\n",
       "country         0\n",
       "dtype: int64"
      ]
     },
     "execution_count": 5,
     "metadata": {},
     "output_type": "execute_result"
    }
   ],
   "source": [
    "crm_df.isna().sum()"
   ]
  },
  {
   "cell_type": "code",
   "execution_count": 6,
   "id": "e92cc38f",
   "metadata": {},
   "outputs": [
    {
     "data": {
      "text/plain": [
       "user_id         47\n",
       "lead_status      3\n",
       "company         60\n",
       "sign_up_date    11\n",
       "industry         4\n",
       "country          4\n",
       "dtype: int64"
      ]
     },
     "execution_count": 6,
     "metadata": {},
     "output_type": "execute_result"
    }
   ],
   "source": [
    "crm_df.nunique()"
   ]
  },
  {
   "cell_type": "markdown",
   "id": "a9103c37-6ed6-4676-b584-44c6e904c832",
   "metadata": {},
   "source": [
    "**Warning:** user_id is not unique"
   ]
  },
  {
   "cell_type": "code",
   "execution_count": 7,
   "id": "2ecd7707",
   "metadata": {},
   "outputs": [],
   "source": [
    "crm_df[\"sign_up_date\"] = pd.to_datetime(crm_df[\"sign_up_date\"] )"
   ]
  },
  {
   "cell_type": "code",
   "execution_count": 8,
   "id": "0b10fbbe",
   "metadata": {},
   "outputs": [
    {
     "data": {
      "text/plain": [
       "count                     60\n",
       "mean     2024-03-05 16:24:00\n",
       "min      2024-03-01 00:00:00\n",
       "25%      2024-03-02 00:00:00\n",
       "50%      2024-03-06 00:00:00\n",
       "75%      2024-03-09 00:00:00\n",
       "max      2024-03-11 00:00:00\n",
       "Name: sign_up_date, dtype: object"
      ]
     },
     "execution_count": 8,
     "metadata": {},
     "output_type": "execute_result"
    }
   ],
   "source": [
    "crm_df[\"sign_up_date\"].describe()"
   ]
  },
  {
   "cell_type": "code",
   "execution_count": 9,
   "id": "a2464795",
   "metadata": {},
   "outputs": [
    {
     "data": {
      "text/html": [
       "<div>\n",
       "<style scoped>\n",
       "    .dataframe tbody tr th:only-of-type {\n",
       "        vertical-align: middle;\n",
       "    }\n",
       "\n",
       "    .dataframe tbody tr th {\n",
       "        vertical-align: top;\n",
       "    }\n",
       "\n",
       "    .dataframe thead th {\n",
       "        text-align: right;\n",
       "    }\n",
       "</style>\n",
       "<table border=\"1\" class=\"dataframe\">\n",
       "  <thead>\n",
       "    <tr style=\"text-align: right;\">\n",
       "      <th></th>\n",
       "      <th>user_id</th>\n",
       "      <th>lead_status</th>\n",
       "      <th>company</th>\n",
       "      <th>sign_up_date</th>\n",
       "      <th>industry</th>\n",
       "      <th>country</th>\n",
       "    </tr>\n",
       "  </thead>\n",
       "  <tbody>\n",
       "    <tr>\n",
       "      <th>3</th>\n",
       "      <td>163</td>\n",
       "      <td>Lost</td>\n",
       "      <td>Company_3</td>\n",
       "      <td>2024-03-01</td>\n",
       "      <td>SaaS</td>\n",
       "      <td>US</td>\n",
       "    </tr>\n",
       "    <tr>\n",
       "      <th>9</th>\n",
       "      <td>171</td>\n",
       "      <td>Prospect</td>\n",
       "      <td>Company_9</td>\n",
       "      <td>2024-03-10</td>\n",
       "      <td>Finance</td>\n",
       "      <td>US</td>\n",
       "    </tr>\n",
       "    <tr>\n",
       "      <th>20</th>\n",
       "      <td>161</td>\n",
       "      <td>Converted</td>\n",
       "      <td>Company_20</td>\n",
       "      <td>2024-03-11</td>\n",
       "      <td>Finance</td>\n",
       "      <td>US</td>\n",
       "    </tr>\n",
       "    <tr>\n",
       "      <th>31</th>\n",
       "      <td>187</td>\n",
       "      <td>Converted</td>\n",
       "      <td>Company_31</td>\n",
       "      <td>2024-03-04</td>\n",
       "      <td>E-commerce</td>\n",
       "      <td>US</td>\n",
       "    </tr>\n",
       "    <tr>\n",
       "      <th>33</th>\n",
       "      <td>150</td>\n",
       "      <td>Prospect</td>\n",
       "      <td>Company_33</td>\n",
       "      <td>2024-03-10</td>\n",
       "      <td>SaaS</td>\n",
       "      <td>UK</td>\n",
       "    </tr>\n",
       "    <tr>\n",
       "      <th>35</th>\n",
       "      <td>120</td>\n",
       "      <td>Prospect</td>\n",
       "      <td>Company_35</td>\n",
       "      <td>2024-03-06</td>\n",
       "      <td>SaaS</td>\n",
       "      <td>Germany</td>\n",
       "    </tr>\n",
       "    <tr>\n",
       "      <th>36</th>\n",
       "      <td>103</td>\n",
       "      <td>Prospect</td>\n",
       "      <td>Company_36</td>\n",
       "      <td>2024-03-07</td>\n",
       "      <td>SaaS</td>\n",
       "      <td>UK</td>\n",
       "    </tr>\n",
       "    <tr>\n",
       "      <th>39</th>\n",
       "      <td>161</td>\n",
       "      <td>Converted</td>\n",
       "      <td>Company_39</td>\n",
       "      <td>2024-03-01</td>\n",
       "      <td>Finance</td>\n",
       "      <td>US</td>\n",
       "    </tr>\n",
       "    <tr>\n",
       "      <th>40</th>\n",
       "      <td>146</td>\n",
       "      <td>Lost</td>\n",
       "      <td>Company_40</td>\n",
       "      <td>2024-03-03</td>\n",
       "      <td>Finance</td>\n",
       "      <td>US</td>\n",
       "    </tr>\n",
       "    <tr>\n",
       "      <th>52</th>\n",
       "      <td>102</td>\n",
       "      <td>Converted</td>\n",
       "      <td>Company_52</td>\n",
       "      <td>2024-03-02</td>\n",
       "      <td>SaaS</td>\n",
       "      <td>US</td>\n",
       "    </tr>\n",
       "    <tr>\n",
       "      <th>53</th>\n",
       "      <td>121</td>\n",
       "      <td>Prospect</td>\n",
       "      <td>Company_53</td>\n",
       "      <td>2024-03-11</td>\n",
       "      <td>E-commerce</td>\n",
       "      <td>US</td>\n",
       "    </tr>\n",
       "    <tr>\n",
       "      <th>58</th>\n",
       "      <td>161</td>\n",
       "      <td>Prospect</td>\n",
       "      <td>Company_58</td>\n",
       "      <td>2024-03-08</td>\n",
       "      <td>Healthcare</td>\n",
       "      <td>France</td>\n",
       "    </tr>\n",
       "    <tr>\n",
       "      <th>59</th>\n",
       "      <td>103</td>\n",
       "      <td>Prospect</td>\n",
       "      <td>Company_59</td>\n",
       "      <td>2024-03-02</td>\n",
       "      <td>SaaS</td>\n",
       "      <td>France</td>\n",
       "    </tr>\n",
       "  </tbody>\n",
       "</table>\n",
       "</div>"
      ],
      "text/plain": [
       "    user_id lead_status     company sign_up_date    industry  country\n",
       "3       163        Lost   Company_3   2024-03-01        SaaS       US\n",
       "9       171    Prospect   Company_9   2024-03-10     Finance       US\n",
       "20      161   Converted  Company_20   2024-03-11     Finance       US\n",
       "31      187   Converted  Company_31   2024-03-04  E-commerce       US\n",
       "33      150    Prospect  Company_33   2024-03-10        SaaS       UK\n",
       "35      120    Prospect  Company_35   2024-03-06        SaaS  Germany\n",
       "36      103    Prospect  Company_36   2024-03-07        SaaS       UK\n",
       "39      161   Converted  Company_39   2024-03-01     Finance       US\n",
       "40      146        Lost  Company_40   2024-03-03     Finance       US\n",
       "52      102   Converted  Company_52   2024-03-02        SaaS       US\n",
       "53      121    Prospect  Company_53   2024-03-11  E-commerce       US\n",
       "58      161    Prospect  Company_58   2024-03-08  Healthcare   France\n",
       "59      103    Prospect  Company_59   2024-03-02        SaaS   France"
      ]
     },
     "execution_count": 9,
     "metadata": {},
     "output_type": "execute_result"
    }
   ],
   "source": [
    "crm_df[crm_df.user_id.duplicated()] "
   ]
  },
  {
   "cell_type": "code",
   "execution_count": 10,
   "id": "b4ae626b-4435-433e-9032-07f87e7f25f4",
   "metadata": {},
   "outputs": [],
   "source": [
    "def plot_column_distribution(df, col_name):\n",
    "    result = df[col_name].value_counts()\n",
    "    print(result)\n",
    "    return result.plot(kind = \"bar\")"
   ]
  },
  {
   "cell_type": "code",
   "execution_count": 11,
   "id": "12a7fbc7-c0fa-48f1-9971-9075a4034f9f",
   "metadata": {},
   "outputs": [
    {
     "name": "stdout",
     "output_type": "stream",
     "text": [
      "lead_status\n",
      "Converted    25\n",
      "Lost         18\n",
      "Prospect     17\n",
      "Name: count, dtype: int64\n"
     ]
    },
    {
     "data": {
      "text/plain": [
       "<Axes: xlabel='lead_status'>"
      ]
     },
     "execution_count": 11,
     "metadata": {},
     "output_type": "execute_result"
    },
    {
     "data": {
      "image/png": "[encoded data removed]",
      "text/plain": [
       "<Figure size 640x480 with 1 Axes>"
      ]
     },
     "metadata": {},
     "output_type": "display_data"
    }
   ],
   "source": [
    "plot_column_distribution(crm_df, \"lead_status\")"
   ]
  },
  {
   "cell_type": "code",
   "execution_count": 12,
   "id": "86ebf7c7-5771-4d88-9a27-ec78025eece1",
   "metadata": {},
   "outputs": [
    {
     "data": {
      "text/plain": [
       "0.4166666666666667"
      ]
     },
     "execution_count": 12,
     "metadata": {},
     "output_type": "execute_result"
    }
   ],
   "source": [
    "(crm_df[\"lead_status\"] == \"Converted\").sum() / len(crm_df)"
   ]
  },
  {
   "cell_type": "code",
   "execution_count": 13,
   "id": "555f24d6",
   "metadata": {
    "scrolled": true
   },
   "outputs": [
    {
     "name": "stdout",
     "output_type": "stream",
     "text": [
      "industry\n",
      "Finance       22\n",
      "SaaS          15\n",
      "E-commerce    14\n",
      "Healthcare     9\n",
      "Name: count, dtype: int64\n"
     ]
    },
    {
     "data": {
      "text/plain": [
       "<Axes: xlabel='industry'>"
      ]
     },
     "execution_count": 13,
     "metadata": {},
     "output_type": "execute_result"
    },
    {
     "data": {
      "image/png": "[encoded data removed]",
      "text/plain": [
       "<Figure size 640x480 with 1 Axes>"
      ]
     },
     "metadata": {},
     "output_type": "display_data"
    }
   ],
   "source": [
    "plot_column_distribution(crm_df, \"industry\")"
   ]
  },
  {
   "cell_type": "code",
   "execution_count": 14,
   "id": "2c97cc19",
   "metadata": {},
   "outputs": [
    {
     "name": "stdout",
     "output_type": "stream",
     "text": [
      "country\n",
      "US         27\n",
      "UK         14\n",
      "Germany    12\n",
      "France      7\n",
      "Name: count, dtype: int64\n"
     ]
    },
    {
     "data": {
      "text/plain": [
       "<Axes: xlabel='country'>"
      ]
     },
     "execution_count": 14,
     "metadata": {},
     "output_type": "execute_result"
    },
    {
     "data": {
      "image/png": "[encoded data removed]",
      "text/plain": [
       "<Figure size 640x480 with 1 Axes>"
      ]
     },
     "metadata": {},
     "output_type": "display_data"
    }
   ],
   "source": [
    "plot_column_distribution(crm_df, \"country\")"
   ]
  },
  {
   "cell_type": "markdown",
   "id": "1e176666-7b03-4c45-a64b-1d361c81af64",
   "metadata": {},
   "source": [
    "- There are three options for lead_status: (\"converted\", \"lost\", \"prospect\")\n",
    "- lead_status = \"converted\" is the most likely to appear with 25 incides (42%)\n",
    "- The largest groups of web activity:\n",
    "    - Industry: Finance (22)\n",
    "    - Country: US (27)\n",
    "- The smallest groups of web activity:\n",
    "    - Industry: Healthcare (9)\n",
    "    - Country: France (7) "
   ]
  },
  {
   "cell_type": "code",
   "execution_count": 59,
   "id": "d6847c4d",
   "metadata": {},
   "outputs": [],
   "source": [
    "def get_conversion_rate(values, prospects = True):\n",
    "    # print(values)\n",
    "    num_converted = values[values == \"Converted\"].shape[0]\n",
    "    if prospects:\n",
    "        total = values.shape[0]\n",
    "    else:\n",
    "        total = values[values != \"Prospect\"].shape[0]\n",
    "    percentage = num_converted / total * 100\n",
    "    return percentage\n",
    "    # converted = values[values[\"lead_status\"] == \"Converted\"].shape[0]"
   ]
  },
  {
   "cell_type": "code",
   "execution_count": 60,
   "id": "8d89e344-bbc8-41b6-8201-672176a7884a",
   "metadata": {},
   "outputs": [],
   "source": [
    "def plot_conversion_rate_by_column(df, col_name, prospects = True):\n",
    "    conv_rate = df.groupby(col_name)[\"lead_status\"].apply(lambda x: get_conversion_rate(x, prospects))\n",
    "    sorted_conv_rates = conv_rate.sort_values(ascending = False)\n",
    "    print(sorted_conv_rates)\n",
    "    return sorted_conv_rates.plot(kind = \"bar\")"
   ]
  },
  {
   "cell_type": "code",
   "execution_count": 61,
   "id": "95bdc66f",
   "metadata": {},
   "outputs": [
    {
     "name": "stdout",
     "output_type": "stream",
     "text": [
      "country\n",
      "US         59.259259\n",
      "UK         42.857143\n",
      "Germany    16.666667\n",
      "France     14.285714\n",
      "Name: lead_status, dtype: float64\n"
     ]
    },
    {
     "data": {
      "text/plain": [
       "<Axes: xlabel='country'>"
      ]
     },
     "execution_count": 61,
     "metadata": {},
     "output_type": "execute_result"
    },
    {
     "data": {
      "image/png": "[encoded data removed]",
      "text/plain": [
       "<Figure size 640x480 with 1 Axes>"
      ]
     },
     "metadata": {},
     "output_type": "display_data"
    }
   ],
   "source": [
    "plot_conversion_rate_by_column(crm_df, \"country\")"
   ]
  },
  {
   "cell_type": "code",
   "execution_count": 62,
   "id": "310011bc-bfa2-4542-a914-b59ba839de65",
   "metadata": {},
   "outputs": [
    {
     "name": "stdout",
     "output_type": "stream",
     "text": [
      "industry\n",
      "Healthcare    55.555556\n",
      "Finance       40.909091\n",
      "SaaS          40.000000\n",
      "E-commerce    35.714286\n",
      "Name: lead_status, dtype: float64\n"
     ]
    },
    {
     "data": {
      "text/plain": [
       "<Axes: xlabel='industry'>"
      ]
     },
     "execution_count": 62,
     "metadata": {},
     "output_type": "execute_result"
    },
    {
     "data": {
      "image/png": "[encoded data removed]",
      "text/plain": [
       "<Figure size 640x480 with 1 Axes>"
      ]
     },
     "metadata": {},
     "output_type": "display_data"
    }
   ],
   "source": [
    "plot_conversion_rate_by_column(crm_df, \"industry\")"
   ]
  },
  {
   "cell_type": "markdown",
   "id": "84e79784-a1bc-4b78-8aea-00e34d724c03",
   "metadata": {},
   "source": [
    "- The US has highest conversion rate (59%) in contrast to France with the lowest (14%)\n",
    "- Healthcare has highest conversion rate (55%) in contrast to E-commerce (36%)\n",
    "- **NOTE:** This conversion rate calculation also includes lead_status = \"prospects\""
   ]
  },
  {
   "cell_type": "code",
   "execution_count": 63,
   "id": "2016579c-707f-4294-8bed-c10bb3a64365",
   "metadata": {},
   "outputs": [
    {
     "name": "stdout",
     "output_type": "stream",
     "text": [
      "industry\n",
      "Healthcare    71.428571\n",
      "SaaS          66.666667\n",
      "Finance       52.941176\n",
      "E-commerce    50.000000\n",
      "Name: lead_status, dtype: float64\n"
     ]
    },
    {
     "data": {
      "text/plain": [
       "<Axes: xlabel='industry'>"
      ]
     },
     "execution_count": 63,
     "metadata": {},
     "output_type": "execute_result"
    },
    {
     "data": {
      "image/png": "[encoded data removed]",
      "text/plain": [
       "<Figure size 640x480 with 1 Axes>"
      ]
     },
     "metadata": {},
     "output_type": "display_data"
    }
   ],
   "source": [
    "plot_conversion_rate_by_column(crm_df, \"industry\", prospects = False)"
   ]
  },
  {
   "cell_type": "code",
   "execution_count": 64,
   "id": "1b92c277-ea33-4083-bc88-5f4a28ba294a",
   "metadata": {},
   "outputs": [
    {
     "name": "stdout",
     "output_type": "stream",
     "text": [
      "country\n",
      "US         69.565217\n",
      "UK         66.666667\n",
      "France     33.333333\n",
      "Germany    25.000000\n",
      "Name: lead_status, dtype: float64\n"
     ]
    },
    {
     "data": {
      "text/plain": [
       "<Axes: xlabel='country'>"
      ]
     },
     "execution_count": 64,
     "metadata": {},
     "output_type": "execute_result"
    },
    {
     "data": {
      "image/png": "[encoded data removed]",
      "text/plain": [
       "<Figure size 640x480 with 1 Axes>"
      ]
     },
     "metadata": {},
     "output_type": "display_data"
    }
   ],
   "source": [
    "plot_conversion_rate_by_column(crm_df, \"country\", prospects = False)"
   ]
  },
  {
   "cell_type": "markdown",
   "id": "63985c92-ffea-43a6-bf1d-d857b2ff7f23",
   "metadata": {},
   "source": [
    "- findings change drastically by not including lead_status = \"Prospect\"\n",
    "    - Industry: Conversion rate differences are less between industries (ranges from 51% (E-commerce) to 71% (Healthcare)\n",
    "    - Country: The lowest country now is Germany with 25% and US with increased conversionrate of 69%"
   ]
  },
  {
   "cell_type": "markdown",
   "id": "5ca9d8ad-3096-44d6-af02-402afc356811",
   "metadata": {},
   "source": [
    "# Web Tracking Data"
   ]
  },
  {
   "cell_type": "code",
   "execution_count": 65,
   "id": "82724121",
   "metadata": {},
   "outputs": [
    {
     "data": {
      "text/plain": [
       "Index(['user_id', 'session_id', 'timestamp', 'page', 'time_spent_sec',\n",
       "       'utm_source', 'utm_medium', 'device_type'],\n",
       "      dtype='object')"
      ]
     },
     "execution_count": 65,
     "metadata": {},
     "output_type": "execute_result"
    }
   ],
   "source": [
    "web_tracking_df.columns"
   ]
  },
  {
   "cell_type": "code",
   "execution_count": 66,
   "id": "154be38a-ef89-48be-bbfd-23fee41c10cc",
   "metadata": {},
   "outputs": [
    {
     "data": {
      "text/html": [
       "<div>\n",
       "<style scoped>\n",
       "    .dataframe tbody tr th:only-of-type {\n",
       "        vertical-align: middle;\n",
       "    }\n",
       "\n",
       "    .dataframe tbody tr th {\n",
       "        vertical-align: top;\n",
       "    }\n",
       "\n",
       "    .dataframe thead th {\n",
       "        text-align: right;\n",
       "    }\n",
       "</style>\n",
       "<table border=\"1\" class=\"dataframe\">\n",
       "  <thead>\n",
       "    <tr style=\"text-align: right;\">\n",
       "      <th></th>\n",
       "      <th>user_id</th>\n",
       "      <th>session_id</th>\n",
       "      <th>timestamp</th>\n",
       "      <th>page</th>\n",
       "      <th>time_spent_sec</th>\n",
       "      <th>utm_source</th>\n",
       "      <th>utm_medium</th>\n",
       "      <th>device_type</th>\n",
       "    </tr>\n",
       "  </thead>\n",
       "  <tbody>\n",
       "    <tr>\n",
       "      <th>34</th>\n",
       "      <td>159</td>\n",
       "      <td>s034</td>\n",
       "      <td>2024-03-01 01:18:00</td>\n",
       "      <td>/features</td>\n",
       "      <td>90</td>\n",
       "      <td>google</td>\n",
       "      <td>organic</td>\n",
       "      <td>mobile</td>\n",
       "    </tr>\n",
       "    <tr>\n",
       "      <th>36</th>\n",
       "      <td>114</td>\n",
       "      <td>s036</td>\n",
       "      <td>2024-03-01 01:28:00</td>\n",
       "      <td>/contact</td>\n",
       "      <td>122</td>\n",
       "      <td>newsletter</td>\n",
       "      <td>cpc</td>\n",
       "      <td>mobile</td>\n",
       "    </tr>\n",
       "    <tr>\n",
       "      <th>90</th>\n",
       "      <td>171</td>\n",
       "      <td>s090</td>\n",
       "      <td>2024-03-01 01:45:00</td>\n",
       "      <td>/contact</td>\n",
       "      <td>217</td>\n",
       "      <td>google</td>\n",
       "      <td>referral</td>\n",
       "      <td>desktop</td>\n",
       "    </tr>\n",
       "    <tr>\n",
       "      <th>97</th>\n",
       "      <td>181</td>\n",
       "      <td>s097</td>\n",
       "      <td>2024-03-01 03:04:00</td>\n",
       "      <td>/contact</td>\n",
       "      <td>84</td>\n",
       "      <td>google</td>\n",
       "      <td>organic</td>\n",
       "      <td>mobile</td>\n",
       "    </tr>\n",
       "    <tr>\n",
       "      <th>82</th>\n",
       "      <td>133</td>\n",
       "      <td>s082</td>\n",
       "      <td>2024-03-01 04:29:00</td>\n",
       "      <td>/pricing</td>\n",
       "      <td>263</td>\n",
       "      <td>newsletter</td>\n",
       "      <td>cpc</td>\n",
       "      <td>mobile</td>\n",
       "    </tr>\n",
       "  </tbody>\n",
       "</table>\n",
       "</div>"
      ],
      "text/plain": [
       "    user_id session_id           timestamp       page  time_spent_sec  \\\n",
       "34      159       s034 2024-03-01 01:18:00  /features              90   \n",
       "36      114       s036 2024-03-01 01:28:00   /contact             122   \n",
       "90      171       s090 2024-03-01 01:45:00   /contact             217   \n",
       "97      181       s097 2024-03-01 03:04:00   /contact              84   \n",
       "82      133       s082 2024-03-01 04:29:00   /pricing             263   \n",
       "\n",
       "    utm_source utm_medium device_type  \n",
       "34      google    organic      mobile  \n",
       "36  newsletter        cpc      mobile  \n",
       "90      google   referral     desktop  \n",
       "97      google    organic      mobile  \n",
       "82  newsletter        cpc      mobile  "
      ]
     },
     "execution_count": 66,
     "metadata": {},
     "output_type": "execute_result"
    }
   ],
   "source": [
    "web_tracking_df.head()"
   ]
  },
  {
   "cell_type": "code",
   "execution_count": 67,
   "id": "d88ce380-57e4-4f2c-8388-eedf05c5bec5",
   "metadata": {},
   "outputs": [
    {
     "name": "stdout",
     "output_type": "stream",
     "text": [
      "<class 'pandas.core.frame.DataFrame'>\n",
      "Index: 100 entries, 34 to 39\n",
      "Data columns (total 8 columns):\n",
      " #   Column          Non-Null Count  Dtype         \n",
      "---  ------          --------------  -----         \n",
      " 0   user_id         100 non-null    int64         \n",
      " 1   session_id      100 non-null    object        \n",
      " 2   timestamp       100 non-null    datetime64[ns]\n",
      " 3   page            100 non-null    object        \n",
      " 4   time_spent_sec  100 non-null    int64         \n",
      " 5   utm_source      100 non-null    object        \n",
      " 6   utm_medium      100 non-null    object        \n",
      " 7   device_type     100 non-null    object        \n",
      "dtypes: datetime64[ns](1), int64(2), object(5)\n",
      "memory usage: 7.0+ KB\n"
     ]
    }
   ],
   "source": [
    "web_tracking_df.info()"
   ]
  },
  {
   "cell_type": "code",
   "execution_count": 68,
   "id": "0f2ce5b3-bd10-4e7a-b10b-7af6f1aff393",
   "metadata": {},
   "outputs": [],
   "source": [
    "web_tracking_df[\"timestamp\"] = pd.to_datetime(web_tracking_df[\"timestamp\"])"
   ]
  },
  {
   "cell_type": "code",
   "execution_count": 69,
   "id": "8c2e5999-7304-4a6a-9296-3d1724d7e547",
   "metadata": {},
   "outputs": [
    {
     "data": {
      "text/plain": [
       "count    100.000000\n",
       "mean     163.750000\n",
       "std       71.941106\n",
       "min       11.000000\n",
       "25%      121.750000\n",
       "50%      156.500000\n",
       "75%      227.500000\n",
       "max      295.000000\n",
       "Name: time_spent_sec, dtype: float64"
      ]
     },
     "execution_count": 69,
     "metadata": {},
     "output_type": "execute_result"
    }
   ],
   "source": [
    "web_tracking_df.time_spent_sec.describe()"
   ]
  },
  {
   "cell_type": "code",
   "execution_count": 26,
   "id": "875cdc09-731d-4ee3-a75b-d9d584353e1b",
   "metadata": {},
   "outputs": [
    {
     "data": {
      "text/plain": [
       "count                              100\n",
       "mean     2024-03-04 12:31:25.199999744\n",
       "min                2024-03-01 01:18:00\n",
       "25%                2024-03-02 18:32:15\n",
       "50%                2024-03-04 16:09:30\n",
       "75%                2024-03-06 04:45:15\n",
       "max                2024-03-07 21:13:00\n",
       "Name: timestamp, dtype: object"
      ]
     },
     "execution_count": 26,
     "metadata": {},
     "output_type": "execute_result"
    }
   ],
   "source": [
    "web_tracking_df.timestamp.describe()"
   ]
  },
  {
   "cell_type": "markdown",
   "id": "71b11537-0bc4-4ca6-b2c7-a660dcc14055",
   "metadata": {},
   "source": [
    "**NOTE:** Web tracking until 03-07, but users signed up until 03-10"
   ]
  },
  {
   "cell_type": "code",
   "execution_count": 27,
   "id": "48bab97e-9375-4ae4-ab68-1fded74f828f",
   "metadata": {},
   "outputs": [
    {
     "data": {
      "text/plain": [
       "<Axes: ylabel='Frequency'>"
      ]
     },
     "execution_count": 27,
     "metadata": {},
     "output_type": "execute_result"
    },
    {
     "data": {
      "image/png": "[encoded data removed]",
      "text/plain": [
       "<Figure size 640x480 with 1 Axes>"
      ]
     },
     "metadata": {},
     "output_type": "display_data"
    }
   ],
   "source": [
    "web_tracking_df.time_spent_sec.plot(kind= \"hist\")"
   ]
  },
  {
   "cell_type": "code",
   "execution_count": 28,
   "id": "d88e2d61-ca29-4b1f-b602-f7da7e7872dd",
   "metadata": {},
   "outputs": [
    {
     "data": {
      "text/plain": [
       "user_id            61\n",
       "session_id        100\n",
       "timestamp          99\n",
       "page                4\n",
       "time_spent_sec     74\n",
       "utm_source          4\n",
       "utm_medium          4\n",
       "device_type         3\n",
       "dtype: int64"
      ]
     },
     "execution_count": 28,
     "metadata": {},
     "output_type": "execute_result"
    }
   ],
   "source": [
    "web_tracking_df.nunique()"
   ]
  },
  {
   "cell_type": "markdown",
   "id": "4380d3e3-1c70-4d77-a0d8-62b0090288e5",
   "metadata": {},
   "source": [
    "**Warning:** Some users are missing in the crm"
   ]
  },
  {
   "cell_type": "code",
   "execution_count": 29,
   "id": "1df14f2a-ad58-41b6-b3d0-b97d0b394372",
   "metadata": {},
   "outputs": [
    {
     "data": {
      "text/plain": [
       "{101, 105, 113, 129, 133, 135, 139, 148, 153, 172, 175, 179, 182, 186}"
      ]
     },
     "execution_count": 29,
     "metadata": {},
     "output_type": "execute_result"
    }
   ],
   "source": [
    "set(web_tracking_df[\"user_id\"]) - set(crm_df[\"user_id\"])"
   ]
  },
  {
   "cell_type": "markdown",
   "id": "50542fd2-4b5d-44d6-a5a6-b38252077e82",
   "metadata": {},
   "source": [
    "**NOTE:** user_id {101, 105, 113, 129, 133, 135, 139, 148, 153, 172, 175, 179, 182, 186} have web tracking data but are missing for crm"
   ]
  },
  {
   "cell_type": "code",
   "execution_count": 30,
   "id": "cf449935-c297-419b-bd5a-7d4e41e378f7",
   "metadata": {},
   "outputs": [
    {
     "data": {
      "text/plain": [
       "user_id           0\n",
       "session_id        0\n",
       "timestamp         0\n",
       "page              0\n",
       "time_spent_sec    0\n",
       "utm_source        0\n",
       "utm_medium        0\n",
       "device_type       0\n",
       "dtype: int64"
      ]
     },
     "execution_count": 30,
     "metadata": {},
     "output_type": "execute_result"
    }
   ],
   "source": [
    "web_tracking_df.isna().sum()"
   ]
  },
  {
   "cell_type": "code",
   "execution_count": 31,
   "id": "13054514-dd36-4a68-b09e-dfef981d9e50",
   "metadata": {},
   "outputs": [],
   "source": [
    "web_tracking_df.sort_values(\"timestamp\", inplace = True)"
   ]
  },
  {
   "cell_type": "code",
   "execution_count": 104,
   "id": "4a080ccd-48f1-4ec8-9ee8-1cda957170a5",
   "metadata": {},
   "outputs": [],
   "source": [
    "nb_of_pages_visited = web_tracking_df.user_id.value_counts()\n",
    "nb_of_pages_visited_df = nb_of_pages_visited.to_frame().reset_index()\n",
    "nb_of_pages_visited_df.rename(columns = {\"count\":\"numb_pages\"}, inplace = True)"
   ]
  },
  {
   "cell_type": "code",
   "execution_count": 110,
   "id": "3a4f089e-3fef-4d64-8e78-9d28c203db26",
   "metadata": {},
   "outputs": [
    {
     "data": {
      "text/plain": [
       "user_id\n",
       "161    5\n",
       "159    4\n",
       "101    4\n",
       "120    3\n",
       "114    3\n",
       "      ..\n",
       "149    1\n",
       "154    1\n",
       "138    1\n",
       "105    1\n",
       "173    1\n",
       "Name: count, Length: 61, dtype: int64"
      ]
     },
     "execution_count": 110,
     "metadata": {},
     "output_type": "execute_result"
    }
   ],
   "source": [
    "nb_of_pages_visited"
   ]
  },
  {
   "cell_type": "code",
   "execution_count": 33,
   "id": "8babe10c-fe83-4b47-b162-67b34b48e345",
   "metadata": {},
   "outputs": [],
   "source": [
    "def get_last_page(x):\n",
    "    last_page = x.to_list()[-1]\n",
    "    return last_page"
   ]
  },
  {
   "cell_type": "code",
   "execution_count": 34,
   "id": "dad3f612-cda0-4cc5-8878-7b851b57dd7d",
   "metadata": {},
   "outputs": [],
   "source": [
    "last_page = web_tracking_df.groupby('user_id').page.apply(get_last_page)"
   ]
  },
  {
   "cell_type": "code",
   "execution_count": 54,
   "id": "c3ac9df7-9735-4e1a-8fbe-ec4a5aed975f",
   "metadata": {},
   "outputs": [],
   "source": [
    "last_page_df = last_page.to_frame().reset_index()\n",
    "last_page_df.rename(columns = {\"page\":\"last_page\"}, inplace=True)"
   ]
  },
  {
   "cell_type": "code",
   "execution_count": 85,
   "id": "59aeda5a-a112-4ce5-b9f1-fbeece0652ba",
   "metadata": {},
   "outputs": [],
   "source": [
    "def get_first_page(x):\n",
    "    first_page = x.to_list()[0]\n",
    "    return first_page"
   ]
  },
  {
   "cell_type": "code",
   "execution_count": 89,
   "id": "4d231cba-811b-448a-b356-95d5c0e74fd6",
   "metadata": {},
   "outputs": [],
   "source": [
    "first_page = web_tracking_df.groupby('user_id').page.apply(get_first_page)"
   ]
  },
  {
   "cell_type": "code",
   "execution_count": 90,
   "id": "3894cf74-a114-4438-922a-131ec68a1b0a",
   "metadata": {},
   "outputs": [],
   "source": [
    "first_page_df = first_page.to_frame().reset_index()\n",
    "first_page_df.rename(columns = {\"page\":\"first_page\"}, inplace=True)"
   ]
  },
  {
   "cell_type": "code",
   "execution_count": 105,
   "id": "8c5b7e79-29ba-42cd-a246-04c2c06bbe78",
   "metadata": {},
   "outputs": [],
   "source": [
    "merged_df = crm_df.merge(web_tracking_df, on = \"user_id\") \\\n",
    "            .merge(last_page_df, on = \"user_id\")\\\n",
    "            .merge(first_page_df, on = \"user_id\")\\\n",
    "            .merge(nb_of_pages_visited_df, on = \"user_id\")"
   ]
  },
  {
   "cell_type": "code",
   "execution_count": 106,
   "id": "bbecde3f-48fb-4d46-9ddd-c8733487a143",
   "metadata": {},
   "outputs": [
    {
     "name": "stdout",
     "output_type": "stream",
     "text": [
      "last_page\n",
      "/pricing     54.545455\n",
      "/landing     46.428571\n",
      "/features    46.000000\n",
      "/contact     25.000000\n",
      "Name: lead_status, dtype: float64\n"
     ]
    },
    {
     "data": {
      "text/plain": [
       "<Axes: xlabel='last_page'>"
      ]
     },
     "execution_count": 106,
     "metadata": {},
     "output_type": "execute_result"
    },
    {
     "data": {
      "image/png": "[encoded data removed]",
      "text/plain": [
       "<Figure size 640x480 with 1 Axes>"
      ]
     },
     "metadata": {},
     "output_type": "display_data"
    }
   ],
   "source": [
    "plot_conversion_rate_by_column(merged_df, \"last_page\")"
   ]
  },
  {
   "cell_type": "markdown",
   "id": "f8323dc2-7894-466b-90f6-60daf6837d11",
   "metadata": {},
   "source": [
    "- if a user ends on contact page he/she does not converse in 3 out of 4 cases\n",
    "- if a user ends on pricing page he/she converse in 54% of the cases"
   ]
  },
  {
   "cell_type": "code",
   "execution_count": 107,
   "id": "36d6f3be-be4f-43a9-a784-e4335494d1c2",
   "metadata": {},
   "outputs": [
    {
     "name": "stdout",
     "output_type": "stream",
     "text": [
      "first_page\n",
      "/landing     60.000000\n",
      "/pricing     58.333333\n",
      "/features    46.428571\n",
      "/contact     29.824561\n",
      "Name: lead_status, dtype: float64\n"
     ]
    },
    {
     "data": {
      "text/plain": [
       "<Axes: xlabel='first_page'>"
      ]
     },
     "execution_count": 107,
     "metadata": {},
     "output_type": "execute_result"
    },
    {
     "data": {
      "image/png": "[encoded data removed]",
      "text/plain": [
       "<Figure size 640x480 with 1 Axes>"
      ]
     },
     "metadata": {},
     "output_type": "display_data"
    }
   ],
   "source": [
    "plot_conversion_rate_by_column(merged_df, \"first_page\")"
   ]
  },
  {
   "cell_type": "code",
   "execution_count": 118,
   "id": "a564ec96-f17e-4fc9-8017-c2553aae46ce",
   "metadata": {},
   "outputs": [
    {
     "data": {
      "text/plain": [
       "28     False\n",
       "29     False\n",
       "30     False\n",
       "31     False\n",
       "32     False\n",
       "35     False\n",
       "36     False\n",
       "37     False\n",
       "38     False\n",
       "39     False\n",
       "76     False\n",
       "77     False\n",
       "78     False\n",
       "79     False\n",
       "80     False\n",
       "109    False\n",
       "110    False\n",
       "111    False\n",
       "112    False\n",
       "113    False\n",
       "dtype: bool"
      ]
     },
     "execution_count": 118,
     "metadata": {},
     "output_type": "execute_result"
    }
   ],
   "source": [
    "merged_df[merged_df[\"user_id\"] == 161].duplicated()"
   ]
  },
  {
   "cell_type": "code",
   "execution_count": 111,
   "id": "fbda377a-a2f0-4d97-a980-7e313c8bc4b8",
   "metadata": {},
   "outputs": [
    {
     "name": "stdout",
     "output_type": "stream",
     "text": [
      "numb_pages\n",
      "4    100.000000\n",
      "5     50.000000\n",
      "1     45.833333\n",
      "2     37.500000\n",
      "3     28.571429\n",
      "Name: lead_status, dtype: float64\n"
     ]
    },
    {
     "data": {
      "text/plain": [
       "<Axes: xlabel='numb_pages'>"
      ]
     },
     "execution_count": 111,
     "metadata": {},
     "output_type": "execute_result"
    },
    {
     "data": {
      "image/png": "[encoded data removed]",
      "text/plain": [
       "<Figure size 640x480 with 1 Axes>"
      ]
     },
     "metadata": {},
     "output_type": "display_data"
    }
   ],
   "source": [
    "plot_conversion_rate_by_column(merged_df, \"numb_pages\")"
   ]
  },
  {
   "cell_type": "raw",
   "id": "53d205e9-6818-4227-8832-8cedda92510b",
   "metadata": {},
   "source": []
  },
  {
   "cell_type": "code",
   "execution_count": null,
   "id": "f96a2714-3758-47c0-8705-fe19d6eb7d4f",
   "metadata": {},
   "outputs": [],
   "source": []
  },
  {
   "cell_type": "code",
   "execution_count": null,
   "id": "cb852836-e419-4203-b3b0-e96f89474faf",
   "metadata": {},
   "outputs": [],
   "source": []
  },
  {
   "cell_type": "code",
   "execution_count": 96,
   "id": "cef1cdfa-a7c8-4160-97a1-71a543700098",
   "metadata": {},
   "outputs": [
    {
     "data": {
      "text/html": [
       "\n",
       "            <div>\n",
       "                <ins><a href=\"https://ydata.ai/register\">Upgrade to ydata-sdk</a></ins>\n",
       "                <p>\n",
       "                    Improve your data and profiling with ydata-sdk, featuring data quality scoring, redundancy detection, outlier identification, text validation, and synthetic data generation.\n",
       "                </p>\n",
       "            </div>\n",
       "            "
      ],
      "text/plain": [
       "<IPython.core.display.HTML object>"
      ]
     },
     "metadata": {},
     "output_type": "display_data"
    },
    {
     "data": {
      "application/vnd.jupyter.widget-view+json": {
       "model_id": "5cb9f6f0a0d544eab725a0f83a51aadc",
       "version_major": 2,
       "version_minor": 0
      },
      "text/plain": [
       "Summarize dataset:   0%|          | 0/5 [00:00<?, ?it/s]"
      ]
     },
     "metadata": {},
     "output_type": "display_data"
    },
    {
     "name": "stderr",
     "output_type": "stream",
     "text": [
      "\n",
      "100%|██████████| 7/7 [00:00<00:00, 78.61it/s]\n"
     ]
    },
    {
     "data": {
      "application/vnd.jupyter.widget-view+json": {
       "model_id": "f04a2b9cc5da4b4ebe4a617a0a0fb716",
       "version_major": 2,
       "version_minor": 0
      },
      "text/plain": [
       "Generate report structure:   0%|          | 0/1 [00:00<?, ?it/s]"
      ]
     },
     "metadata": {},
     "output_type": "display_data"
    },
    {
     "data": {
      "application/vnd.jupyter.widget-view+json": {
       "model_id": "e707b4b6a42149d5aadbf927b658fc19",
       "version_major": 2,
       "version_minor": 0
      },
      "text/plain": [
       "Render HTML:   0%|          | 0/1 [00:00<?, ?it/s]"
      ]
     },
     "metadata": {},
     "output_type": "display_data"
    },
    {
     "data": {
      "application/vnd.jupyter.widget-view+json": {
       "model_id": "52c01e5aa07b4d61b355dc70e0b21c23",
       "version_major": 2,
       "version_minor": 0
      },
      "text/plain": [
       "Export report to file:   0%|          | 0/1 [00:00<?, ?it/s]"
      ]
     },
     "metadata": {},
     "output_type": "display_data"
    },
    {
     "data": {
      "application/vnd.jupyter.widget-view+json": {
       "model_id": "171a458ceb764362bcf7e00f1661aaf0",
       "version_major": 2,
       "version_minor": 0
      },
      "text/plain": [
       "Summarize dataset:   0%|          | 0/5 [00:00<?, ?it/s]"
      ]
     },
     "metadata": {},
     "output_type": "display_data"
    },
    {
     "name": "stderr",
     "output_type": "stream",
     "text": [
      "\n",
      "100%|██████████| 8/8 [00:00<00:00, 109.50it/s]\n"
     ]
    },
    {
     "data": {
      "application/vnd.jupyter.widget-view+json": {
       "model_id": "8f47967023bb4c1883ebaad814f700fa",
       "version_major": 2,
       "version_minor": 0
      },
      "text/plain": [
       "Generate report structure:   0%|          | 0/1 [00:00<?, ?it/s]"
      ]
     },
     "metadata": {},
     "output_type": "display_data"
    },
    {
     "data": {
      "application/vnd.jupyter.widget-view+json": {
       "model_id": "cbbf18acb74a41cbbec2dcb66348a29c",
       "version_major": 2,
       "version_minor": 0
      },
      "text/plain": [
       "Render HTML:   0%|          | 0/1 [00:00<?, ?it/s]"
      ]
     },
     "metadata": {},
     "output_type": "display_data"
    },
    {
     "data": {
      "application/vnd.jupyter.widget-view+json": {
       "model_id": "35c3439d1c5b4a92b2a68ad042326c07",
       "version_major": 2,
       "version_minor": 0
      },
      "text/plain": [
       "Export report to file:   0%|          | 0/1 [00:00<?, ?it/s]"
      ]
     },
     "metadata": {},
     "output_type": "display_data"
    }
   ],
   "source": [
    "# pandas profiling\n",
    "crm_profile = ProfileReport(crm_df, \n",
    "                            title=\"CRM Data Profiling Report\", \n",
    "                            explorative=True)\n",
    "web_tracking_profile = ProfileReport(web_tracking_df, \n",
    "                                     title=\"Web Tracking Data Profiling Report\", \n",
    "                                     explorative=True)\n",
    "crm_profile.to_file(\"crm_data_profile.html\")\n",
    "web_tracking_profile.to_file(\"web_tracking_data_profile.html\")"
   ]
  },
  {
   "cell_type": "code",
   "execution_count": 38,
   "id": "53edc914-934e-42da-8810-c82b286ae1f4",
   "metadata": {},
   "outputs": [],
   "source": [
    "lead_status_dim = crm_df[['lead_status']].drop_duplicates().reset_index(drop=True)\n",
    "lead_status_dim['lead_status_id'] = lead_status_dim.index + 1"
   ]
  },
  {
   "cell_type": "code",
   "execution_count": 39,
   "id": "28beeea6-b90a-4101-abb0-8753da33f862",
   "metadata": {},
   "outputs": [],
   "source": [
    "company_dim = crm_df[['company']].drop_duplicates().reset_index(drop=True)\n",
    "company_dim['company_id'] = company_dim.index + 1"
   ]
  },
  {
   "cell_type": "code",
   "execution_count": 40,
   "id": "427474e9-d92a-432f-908e-8de739e13256",
   "metadata": {},
   "outputs": [],
   "source": [
    "industry_dim = crm_df[['industry']].drop_duplicates().reset_index(drop=True)\n",
    "industry_dim['industry_id'] = industry_dim.index + 1"
   ]
  },
  {
   "cell_type": "code",
   "execution_count": 41,
   "id": "29297c70-8290-4017-96ad-62f4a74a003f",
   "metadata": {},
   "outputs": [],
   "source": [
    "country_dim = crm_df[['country']].drop_duplicates().reset_index(drop=True)\n",
    "country_dim['country_id'] = country_dim.index + 1"
   ]
  },
  {
   "cell_type": "code",
   "execution_count": 42,
   "id": "dd922d5a-1120-4373-ba7d-7b069e1c3378",
   "metadata": {},
   "outputs": [],
   "source": [
    "# Sign-up time breakdown\n",
    "crm_df['sign_up_datetime'] = pd.to_datetime(crm_df['sign_up_date'])\n",
    "sign_up_time_dim = crm_df[['sign_up_datetime']].drop_duplicates().reset_index(drop=True)\n",
    "sign_up_time_dim['sign_up_time_id'] = sign_up_time_dim.index + 1\n",
    "sign_up_time_dim['sign_up_year'] = sign_up_time_dim['sign_up_datetime'].dt.year\n",
    "sign_up_time_dim['sign_up_month'] = sign_up_time_dim['sign_up_datetime'].dt.month\n",
    "sign_up_time_dim['sign_up_week'] = sign_up_time_dim['sign_up_datetime'].dt.isocalendar().week\n",
    "sign_up_time_dim['sign_up_weekday'] = sign_up_time_dim['sign_up_datetime'].dt.weekday"
   ]
  },
  {
   "cell_type": "code",
   "execution_count": 43,
   "id": "09862fd1-c97c-4e44-a695-c5cd2d34e665",
   "metadata": {},
   "outputs": [],
   "source": [
    "# User Dimension Table\n",
    "user_dim = crm_df.merge(company_dim, on=\"company\")\\\n",
    ".merge(industry_dim, on=\"industry\")\\\n",
    ".merge(country_dim, on=\"country\")\\\n",
    ".merge(sign_up_time_dim, on=\"sign_up_datetime\")\\\n",
    ".merge(lead_status_dim, on=\"lead_status\")\\\n",
    "[[\"user_id\",\"lead_status_id\", \"industry_id\", \"company_id\", \"country_id\", \"sign_up_time_id\"]].drop_duplicates(subset='user_id')"
   ]
  },
  {
   "cell_type": "code",
   "execution_count": 44,
   "id": "fbb2aa75-1699-46fd-ac57-861806f256ed",
   "metadata": {},
   "outputs": [],
   "source": [
    "# Prepare Session Data Dimensions\n",
    "datetime_dim = web_tracking_df[['timestamp']].drop_duplicates().reset_index(drop=True)\n",
    "datetime_dim['datetime_id'] = datetime_dim.index + 1\n",
    "datetime_dim['year'] = datetime_dim['timestamp'].dt.year\n",
    "datetime_dim['month'] = datetime_dim['timestamp'].dt.month\n",
    "datetime_dim['week'] = datetime_dim['timestamp'].dt.isocalendar().week\n",
    "datetime_dim['weekday'] = datetime_dim['timestamp'].dt.weekday"
   ]
  },
  {
   "cell_type": "code",
   "execution_count": 45,
   "id": "b9317ece-4b3e-444c-9fbd-a63f243b6257",
   "metadata": {},
   "outputs": [],
   "source": [
    "page_dim = web_tracking_df[['page']].drop_duplicates().reset_index(drop=True)\n",
    "page_dim['page_id'] = page_dim.index + 1"
   ]
  },
  {
   "cell_type": "code",
   "execution_count": 46,
   "id": "478b6bc8-1732-4944-8023-f8a1d8e2ad3e",
   "metadata": {},
   "outputs": [],
   "source": [
    "utm_source_dim = web_tracking_df[['utm_source']].drop_duplicates().reset_index(drop=True)\n",
    "utm_source_dim['utm_source_id'] = utm_source_dim.index + 1"
   ]
  },
  {
   "cell_type": "code",
   "execution_count": 47,
   "id": "3b4b7acc-80b5-440f-bac7-c4081fbaafbf",
   "metadata": {},
   "outputs": [],
   "source": [
    "utm_medium_dim = web_tracking_df[['utm_medium']].drop_duplicates().reset_index(drop=True)\n",
    "utm_medium_dim['utm_medium_id'] = utm_medium_dim.index + 1"
   ]
  },
  {
   "cell_type": "code",
   "execution_count": 48,
   "id": "85fb96a0-b7f2-49ac-98a0-db9a309cb34a",
   "metadata": {},
   "outputs": [],
   "source": [
    "device_type_dim = web_tracking_df[['device_type']].drop_duplicates().reset_index(drop=True)\n",
    "device_type_dim['device_type_id'] = device_type_dim.index + 1"
   ]
  },
  {
   "cell_type": "code",
   "execution_count": 49,
   "id": "f04d900f-80c7-4a13-a071-5f88cbd7c899",
   "metadata": {},
   "outputs": [
    {
     "ename": "KeyError",
     "evalue": "'timestamp_datetime'",
     "output_type": "error",
     "traceback": [
      "\u001b[1;31m---------------------------------------------------------------------------\u001b[0m",
      "\u001b[1;31mKeyError\u001b[0m                                  Traceback (most recent call last)",
      "\u001b[1;32m~\\AppData\\Local\\Temp\\ipykernel_20124\\4105191121.py\u001b[0m in \u001b[0;36m?\u001b[1;34m()\u001b[0m\n\u001b[0;32m      1\u001b[0m \u001b[1;31m# Fact Table\u001b[0m\u001b[1;33m\u001b[0m\u001b[1;33m\u001b[0m\u001b[0m\n\u001b[0;32m      2\u001b[0m fact_table = web_tracking_df.merge(user_dim, on=\"user_id\")\\\n\u001b[1;32m----> 3\u001b[1;33m .merge(datetime_dim, on=\"timestamp_datetime\")\\\n\u001b[0m\u001b[0;32m      4\u001b[0m .merge(page_dim, on=\"page\")\\\n\u001b[0;32m      5\u001b[0m .merge(utm_source_dim, on=\"utm_source\")\\\n\u001b[0;32m      6\u001b[0m .merge(utm_medium_dim, on=\"utm_medium\")\\\n",
      "\u001b[1;32m~\\anaconda3\\Lib\\site-packages\\pandas\\core\\frame.py\u001b[0m in \u001b[0;36m?\u001b[1;34m(self, right, how, on, left_on, right_on, left_index, right_index, sort, suffixes, copy, indicator, validate)\u001b[0m\n\u001b[0;32m  10828\u001b[0m         \u001b[0mvalidate\u001b[0m\u001b[1;33m:\u001b[0m \u001b[0mMergeValidate\u001b[0m \u001b[1;33m|\u001b[0m \u001b[1;32mNone\u001b[0m \u001b[1;33m=\u001b[0m \u001b[1;32mNone\u001b[0m\u001b[1;33m,\u001b[0m\u001b[1;33m\u001b[0m\u001b[1;33m\u001b[0m\u001b[0m\n\u001b[0;32m  10829\u001b[0m     \u001b[1;33m)\u001b[0m \u001b[1;33m->\u001b[0m \u001b[0mDataFrame\u001b[0m\u001b[1;33m:\u001b[0m\u001b[1;33m\u001b[0m\u001b[1;33m\u001b[0m\u001b[0m\n\u001b[0;32m  10830\u001b[0m         \u001b[1;32mfrom\u001b[0m \u001b[0mpandas\u001b[0m\u001b[1;33m.\u001b[0m\u001b[0mcore\u001b[0m\u001b[1;33m.\u001b[0m\u001b[0mreshape\u001b[0m\u001b[1;33m.\u001b[0m\u001b[0mmerge\u001b[0m \u001b[1;32mimport\u001b[0m \u001b[0mmerge\u001b[0m\u001b[1;33m\u001b[0m\u001b[1;33m\u001b[0m\u001b[0m\n\u001b[0;32m  10831\u001b[0m \u001b[1;33m\u001b[0m\u001b[0m\n\u001b[1;32m> 10832\u001b[1;33m         return merge(\n\u001b[0m\u001b[0;32m  10833\u001b[0m             \u001b[0mself\u001b[0m\u001b[1;33m,\u001b[0m\u001b[1;33m\u001b[0m\u001b[1;33m\u001b[0m\u001b[0m\n\u001b[0;32m  10834\u001b[0m             \u001b[0mright\u001b[0m\u001b[1;33m,\u001b[0m\u001b[1;33m\u001b[0m\u001b[1;33m\u001b[0m\u001b[0m\n\u001b[0;32m  10835\u001b[0m             \u001b[0mhow\u001b[0m\u001b[1;33m=\u001b[0m\u001b[0mhow\u001b[0m\u001b[1;33m,\u001b[0m\u001b[1;33m\u001b[0m\u001b[1;33m\u001b[0m\u001b[0m\n",
      "\u001b[1;32m~\\anaconda3\\Lib\\site-packages\\pandas\\core\\reshape\\merge.py\u001b[0m in \u001b[0;36m?\u001b[1;34m(left, right, how, on, left_on, right_on, left_index, right_index, sort, suffixes, copy, indicator, validate)\u001b[0m\n\u001b[0;32m    166\u001b[0m             \u001b[0mvalidate\u001b[0m\u001b[1;33m=\u001b[0m\u001b[0mvalidate\u001b[0m\u001b[1;33m,\u001b[0m\u001b[1;33m\u001b[0m\u001b[1;33m\u001b[0m\u001b[0m\n\u001b[0;32m    167\u001b[0m             \u001b[0mcopy\u001b[0m\u001b[1;33m=\u001b[0m\u001b[0mcopy\u001b[0m\u001b[1;33m,\u001b[0m\u001b[1;33m\u001b[0m\u001b[1;33m\u001b[0m\u001b[0m\n\u001b[0;32m    168\u001b[0m         \u001b[1;33m)\u001b[0m\u001b[1;33m\u001b[0m\u001b[1;33m\u001b[0m\u001b[0m\n\u001b[0;32m    169\u001b[0m     \u001b[1;32melse\u001b[0m\u001b[1;33m:\u001b[0m\u001b[1;33m\u001b[0m\u001b[1;33m\u001b[0m\u001b[0m\n\u001b[1;32m--> 170\u001b[1;33m         op = _MergeOperation(\n\u001b[0m\u001b[0;32m    171\u001b[0m             \u001b[0mleft_df\u001b[0m\u001b[1;33m,\u001b[0m\u001b[1;33m\u001b[0m\u001b[1;33m\u001b[0m\u001b[0m\n\u001b[0;32m    172\u001b[0m             \u001b[0mright_df\u001b[0m\u001b[1;33m,\u001b[0m\u001b[1;33m\u001b[0m\u001b[1;33m\u001b[0m\u001b[0m\n\u001b[0;32m    173\u001b[0m             \u001b[0mhow\u001b[0m\u001b[1;33m=\u001b[0m\u001b[0mhow\u001b[0m\u001b[1;33m,\u001b[0m\u001b[1;33m\u001b[0m\u001b[1;33m\u001b[0m\u001b[0m\n",
      "\u001b[1;32m~\\anaconda3\\Lib\\site-packages\\pandas\\core\\reshape\\merge.py\u001b[0m in \u001b[0;36m?\u001b[1;34m(self, left, right, how, on, left_on, right_on, left_index, right_index, sort, suffixes, indicator, validate)\u001b[0m\n\u001b[0;32m    790\u001b[0m             \u001b[0mself\u001b[0m\u001b[1;33m.\u001b[0m\u001b[0mright_join_keys\u001b[0m\u001b[1;33m,\u001b[0m\u001b[1;33m\u001b[0m\u001b[1;33m\u001b[0m\u001b[0m\n\u001b[0;32m    791\u001b[0m             \u001b[0mself\u001b[0m\u001b[1;33m.\u001b[0m\u001b[0mjoin_names\u001b[0m\u001b[1;33m,\u001b[0m\u001b[1;33m\u001b[0m\u001b[1;33m\u001b[0m\u001b[0m\n\u001b[0;32m    792\u001b[0m             \u001b[0mleft_drop\u001b[0m\u001b[1;33m,\u001b[0m\u001b[1;33m\u001b[0m\u001b[1;33m\u001b[0m\u001b[0m\n\u001b[0;32m    793\u001b[0m             \u001b[0mright_drop\u001b[0m\u001b[1;33m,\u001b[0m\u001b[1;33m\u001b[0m\u001b[1;33m\u001b[0m\u001b[0m\n\u001b[1;32m--> 794\u001b[1;33m         \u001b[1;33m)\u001b[0m \u001b[1;33m=\u001b[0m \u001b[0mself\u001b[0m\u001b[1;33m.\u001b[0m\u001b[0m_get_merge_keys\u001b[0m\u001b[1;33m(\u001b[0m\u001b[1;33m)\u001b[0m\u001b[1;33m\u001b[0m\u001b[1;33m\u001b[0m\u001b[0m\n\u001b[0m\u001b[0;32m    795\u001b[0m \u001b[1;33m\u001b[0m\u001b[0m\n\u001b[0;32m    796\u001b[0m         \u001b[1;32mif\u001b[0m \u001b[0mleft_drop\u001b[0m\u001b[1;33m:\u001b[0m\u001b[1;33m\u001b[0m\u001b[1;33m\u001b[0m\u001b[0m\n\u001b[0;32m    797\u001b[0m             \u001b[0mself\u001b[0m\u001b[1;33m.\u001b[0m\u001b[0mleft\u001b[0m \u001b[1;33m=\u001b[0m \u001b[0mself\u001b[0m\u001b[1;33m.\u001b[0m\u001b[0mleft\u001b[0m\u001b[1;33m.\u001b[0m\u001b[0m_drop_labels_or_levels\u001b[0m\u001b[1;33m(\u001b[0m\u001b[0mleft_drop\u001b[0m\u001b[1;33m)\u001b[0m\u001b[1;33m\u001b[0m\u001b[1;33m\u001b[0m\u001b[0m\n",
      "\u001b[1;32m~\\anaconda3\\Lib\\site-packages\\pandas\\core\\reshape\\merge.py\u001b[0m in \u001b[0;36m?\u001b[1;34m(self)\u001b[0m\n\u001b[0;32m   1293\u001b[0m                         \u001b[1;31m# Then we're either Hashable or a wrong-length arraylike,\u001b[0m\u001b[1;33m\u001b[0m\u001b[1;33m\u001b[0m\u001b[0m\n\u001b[0;32m   1294\u001b[0m                         \u001b[1;31m#  the latter of which will raise\u001b[0m\u001b[1;33m\u001b[0m\u001b[1;33m\u001b[0m\u001b[0m\n\u001b[0;32m   1295\u001b[0m                         \u001b[0mrk\u001b[0m \u001b[1;33m=\u001b[0m \u001b[0mcast\u001b[0m\u001b[1;33m(\u001b[0m\u001b[0mHashable\u001b[0m\u001b[1;33m,\u001b[0m \u001b[0mrk\u001b[0m\u001b[1;33m)\u001b[0m\u001b[1;33m\u001b[0m\u001b[1;33m\u001b[0m\u001b[0m\n\u001b[0;32m   1296\u001b[0m                         \u001b[1;32mif\u001b[0m \u001b[0mrk\u001b[0m \u001b[1;32mis\u001b[0m \u001b[1;32mnot\u001b[0m \u001b[1;32mNone\u001b[0m\u001b[1;33m:\u001b[0m\u001b[1;33m\u001b[0m\u001b[1;33m\u001b[0m\u001b[0m\n\u001b[1;32m-> 1297\u001b[1;33m                             \u001b[0mright_keys\u001b[0m\u001b[1;33m.\u001b[0m\u001b[0mappend\u001b[0m\u001b[1;33m(\u001b[0m\u001b[0mright\u001b[0m\u001b[1;33m.\u001b[0m\u001b[0m_get_label_or_level_values\u001b[0m\u001b[1;33m(\u001b[0m\u001b[0mrk\u001b[0m\u001b[1;33m)\u001b[0m\u001b[1;33m)\u001b[0m\u001b[1;33m\u001b[0m\u001b[1;33m\u001b[0m\u001b[0m\n\u001b[0m\u001b[0;32m   1298\u001b[0m                         \u001b[1;32melse\u001b[0m\u001b[1;33m:\u001b[0m\u001b[1;33m\u001b[0m\u001b[1;33m\u001b[0m\u001b[0m\n\u001b[0;32m   1299\u001b[0m                             \u001b[1;31m# work-around for merge_asof(right_index=True)\u001b[0m\u001b[1;33m\u001b[0m\u001b[1;33m\u001b[0m\u001b[0m\n\u001b[0;32m   1300\u001b[0m                             \u001b[0mright_keys\u001b[0m\u001b[1;33m.\u001b[0m\u001b[0mappend\u001b[0m\u001b[1;33m(\u001b[0m\u001b[0mright\u001b[0m\u001b[1;33m.\u001b[0m\u001b[0mindex\u001b[0m\u001b[1;33m.\u001b[0m\u001b[0m_values\u001b[0m\u001b[1;33m)\u001b[0m\u001b[1;33m\u001b[0m\u001b[1;33m\u001b[0m\u001b[0m\n",
      "\u001b[1;32m~\\anaconda3\\Lib\\site-packages\\pandas\\core\\generic.py\u001b[0m in \u001b[0;36m?\u001b[1;34m(self, key, axis)\u001b[0m\n\u001b[0;32m   1907\u001b[0m             \u001b[0mvalues\u001b[0m \u001b[1;33m=\u001b[0m \u001b[0mself\u001b[0m\u001b[1;33m.\u001b[0m\u001b[0mxs\u001b[0m\u001b[1;33m(\u001b[0m\u001b[0mkey\u001b[0m\u001b[1;33m,\u001b[0m \u001b[0maxis\u001b[0m\u001b[1;33m=\u001b[0m\u001b[0mother_axes\u001b[0m\u001b[1;33m[\u001b[0m\u001b[1;36m0\u001b[0m\u001b[1;33m]\u001b[0m\u001b[1;33m)\u001b[0m\u001b[1;33m.\u001b[0m\u001b[0m_values\u001b[0m\u001b[1;33m\u001b[0m\u001b[1;33m\u001b[0m\u001b[0m\n\u001b[0;32m   1908\u001b[0m         \u001b[1;32melif\u001b[0m \u001b[0mself\u001b[0m\u001b[1;33m.\u001b[0m\u001b[0m_is_level_reference\u001b[0m\u001b[1;33m(\u001b[0m\u001b[0mkey\u001b[0m\u001b[1;33m,\u001b[0m \u001b[0maxis\u001b[0m\u001b[1;33m=\u001b[0m\u001b[0maxis\u001b[0m\u001b[1;33m)\u001b[0m\u001b[1;33m:\u001b[0m\u001b[1;33m\u001b[0m\u001b[1;33m\u001b[0m\u001b[0m\n\u001b[0;32m   1909\u001b[0m             \u001b[0mvalues\u001b[0m \u001b[1;33m=\u001b[0m \u001b[0mself\u001b[0m\u001b[1;33m.\u001b[0m\u001b[0maxes\u001b[0m\u001b[1;33m[\u001b[0m\u001b[0maxis\u001b[0m\u001b[1;33m]\u001b[0m\u001b[1;33m.\u001b[0m\u001b[0mget_level_values\u001b[0m\u001b[1;33m(\u001b[0m\u001b[0mkey\u001b[0m\u001b[1;33m)\u001b[0m\u001b[1;33m.\u001b[0m\u001b[0m_values\u001b[0m\u001b[1;33m\u001b[0m\u001b[1;33m\u001b[0m\u001b[0m\n\u001b[0;32m   1910\u001b[0m         \u001b[1;32melse\u001b[0m\u001b[1;33m:\u001b[0m\u001b[1;33m\u001b[0m\u001b[1;33m\u001b[0m\u001b[0m\n\u001b[1;32m-> 1911\u001b[1;33m             \u001b[1;32mraise\u001b[0m \u001b[0mKeyError\u001b[0m\u001b[1;33m(\u001b[0m\u001b[0mkey\u001b[0m\u001b[1;33m)\u001b[0m\u001b[1;33m\u001b[0m\u001b[1;33m\u001b[0m\u001b[0m\n\u001b[0m\u001b[0;32m   1912\u001b[0m \u001b[1;33m\u001b[0m\u001b[0m\n\u001b[0;32m   1913\u001b[0m         \u001b[1;31m# Check for duplicates\u001b[0m\u001b[1;33m\u001b[0m\u001b[1;33m\u001b[0m\u001b[0m\n\u001b[0;32m   1914\u001b[0m         \u001b[1;32mif\u001b[0m \u001b[0mvalues\u001b[0m\u001b[1;33m.\u001b[0m\u001b[0mndim\u001b[0m \u001b[1;33m>\u001b[0m \u001b[1;36m1\u001b[0m\u001b[1;33m:\u001b[0m\u001b[1;33m\u001b[0m\u001b[1;33m\u001b[0m\u001b[0m\n",
      "\u001b[1;31mKeyError\u001b[0m: 'timestamp_datetime'"
     ]
    }
   ],
   "source": [
    "# Fact Table\n",
    "fact_table = web_tracking_df.merge(user_dim, on=\"user_id\")\\\n",
    ".merge(datetime_dim, on=\"timestamp_datetime\")\\\n",
    ".merge(page_dim, on=\"page\")\\\n",
    ".merge(utm_source_dim, on=\"utm_source\")\\\n",
    ".merge(utm_medium_dim, on=\"utm_medium\")\\\n",
    ".merge(device_type_dim, on=\"device_type\")\\\n",
    "[['session_id', 'user_id', 'datetime_id', 'page_id', 'utm_source_id', 'utm_medium_id', 'device_type_id', 'time_spent_sec']]"
   ]
  },
  {
   "cell_type": "code",
   "execution_count": null,
   "id": "f8033601-6611-46bc-a62b-8a8234aac3ab",
   "metadata": {},
   "outputs": [],
   "source": []
  }
 ],
 "metadata": {
  "kernelspec": {
   "display_name": "Python 3 (ipykernel)",
   "language": "python",
   "name": "python3"
  },
  "language_info": {
   "codemirror_mode": {
    "name": "ipython",
    "version": 3
   },
   "file_extension": ".py",
   "mimetype": "text/x-python",
   "name": "python",
   "nbconvert_exporter": "python",
   "pygments_lexer": "ipython3",
   "version": "3.12.7"
  }
 },
 "nbformat": 4,
 "nbformat_minor": 5
}
